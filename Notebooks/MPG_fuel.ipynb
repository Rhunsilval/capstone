{
 "cells": [
  {
   "cell_type": "code",
   "execution_count": 1,
   "id": "4ef1f8bc",
   "metadata": {},
   "outputs": [],
   "source": [
    "import pandas as pd\n",
    "import datetime \n",
    "import numpy as np\n",
    "import matplotlib.pyplot as plt\n",
    "import re\n",
    "import seaborn as sns\n",
    "\n",
    "%matplotlib inline"
   ]
  },
  {
   "cell_type": "code",
   "execution_count": 2,
   "id": "26621e0a",
   "metadata": {},
   "outputs": [],
   "source": [
    "ship = pd.read_csv('../data/fuel_consumption_by_ship_size_prepped.csv')\n",
    "#source: The Geography of Transport Systems- https://transportgeography.org/contents/chapter4/transportation-and-energy/fuel-consumption-containerships/\n",
    "#converted to data with:  http://getdata-graph-digitizer.com/\n",
    "\n",
    "truck = pd.read_csv('../data/mpg_trucks_prepped.csv')\n",
    "#source: US Energy Information Administration - https://www.eia.gov/totalenergy/data/browser/?tbl=T01.08\n",
    "\n"
   ]
  },
  {
   "cell_type": "code",
   "execution_count": 3,
   "id": "6ff67144",
   "metadata": {},
   "outputs": [],
   "source": [
    "#setting the size of my visuals:\n",
    "sns.set(rc={\"figure.figsize\":(13, 8)},font_scale=1.5, style='darkgrid')"
   ]
  },
  {
   "cell_type": "markdown",
   "id": "79284a22",
   "metadata": {},
   "source": [
    "# SHIPS - TON MPG"
   ]
  },
  {
   "cell_type": "code",
   "execution_count": 4,
   "id": "47ce5519",
   "metadata": {
    "scrolled": true
   },
   "outputs": [
    {
     "data": {
      "text/html": [
       "<div>\n",
       "<style scoped>\n",
       "    .dataframe tbody tr th:only-of-type {\n",
       "        vertical-align: middle;\n",
       "    }\n",
       "\n",
       "    .dataframe tbody tr th {\n",
       "        vertical-align: top;\n",
       "    }\n",
       "\n",
       "    .dataframe thead th {\n",
       "        text-align: right;\n",
       "    }\n",
       "</style>\n",
       "<table border=\"1\" class=\"dataframe\">\n",
       "  <thead>\n",
       "    <tr style=\"text-align: right;\">\n",
       "      <th></th>\n",
       "      <th>Ship Size (TEU)</th>\n",
       "      <th>TEU avg</th>\n",
       "      <th>TEU to weight lbs</th>\n",
       "      <th>TEU to weight - tons</th>\n",
       "      <th>Speed- Knots</th>\n",
       "      <th>Fuel Consumption - Tons per Day</th>\n",
       "      <th>Speed-MPH</th>\n",
       "      <th>Ton miles per hour</th>\n",
       "      <th>Fuel Consumption - Gallons per day</th>\n",
       "      <th>Fuel Consumption- Gallons/hour</th>\n",
       "      <th>MPG</th>\n",
       "      <th>Gallons per mile</th>\n",
       "      <th>Ton MPG</th>\n",
       "      <th>Ton MPG cleaner</th>\n",
       "    </tr>\n",
       "  </thead>\n",
       "  <tbody>\n",
       "    <tr>\n",
       "      <th>0</th>\n",
       "      <td>10,000+</td>\n",
       "      <td>10000.0</td>\n",
       "      <td>529100000.0</td>\n",
       "      <td>264550.0</td>\n",
       "      <td>17.48</td>\n",
       "      <td>103.56</td>\n",
       "      <td>20.102576</td>\n",
       "      <td>13160.00495</td>\n",
       "      <td>77468.63057</td>\n",
       "      <td>3227.859607</td>\n",
       "      <td>0.006228</td>\n",
       "      <td>160.569452</td>\n",
       "      <td>1647.573749</td>\n",
       "      <td>1647.57</td>\n",
       "    </tr>\n",
       "    <tr>\n",
       "      <th>1</th>\n",
       "      <td>10,000+</td>\n",
       "      <td>10000.0</td>\n",
       "      <td>529100000.0</td>\n",
       "      <td>264550.0</td>\n",
       "      <td>17.55</td>\n",
       "      <td>105.62</td>\n",
       "      <td>20.185889</td>\n",
       "      <td>13105.68954</td>\n",
       "      <td>79011.10832</td>\n",
       "      <td>3292.129514</td>\n",
       "      <td>0.006132</td>\n",
       "      <td>163.090634</td>\n",
       "      <td>1622.104198</td>\n",
       "      <td>1622.10</td>\n",
       "    </tr>\n",
       "    <tr>\n",
       "      <th>2</th>\n",
       "      <td>10,000+</td>\n",
       "      <td>10000.0</td>\n",
       "      <td>529100000.0</td>\n",
       "      <td>264550.0</td>\n",
       "      <td>17.66</td>\n",
       "      <td>108.71</td>\n",
       "      <td>20.304878</td>\n",
       "      <td>13028.88871</td>\n",
       "      <td>81322.85500</td>\n",
       "      <td>3388.452292</td>\n",
       "      <td>0.005992</td>\n",
       "      <td>166.878729</td>\n",
       "      <td>1585.282806</td>\n",
       "      <td>1585.28</td>\n",
       "    </tr>\n",
       "    <tr>\n",
       "      <th>3</th>\n",
       "      <td>10,000+</td>\n",
       "      <td>10000.0</td>\n",
       "      <td>529100000.0</td>\n",
       "      <td>264550.0</td>\n",
       "      <td>17.74</td>\n",
       "      <td>109.77</td>\n",
       "      <td>20.400366</td>\n",
       "      <td>12967.90446</td>\n",
       "      <td>82111.82351</td>\n",
       "      <td>3421.325979</td>\n",
       "      <td>0.005963</td>\n",
       "      <td>167.709047</td>\n",
       "      <td>1577.434401</td>\n",
       "      <td>1577.43</td>\n",
       "    </tr>\n",
       "    <tr>\n",
       "      <th>4</th>\n",
       "      <td>10,000+</td>\n",
       "      <td>10000.0</td>\n",
       "      <td>529100000.0</td>\n",
       "      <td>264550.0</td>\n",
       "      <td>17.79</td>\n",
       "      <td>110.81</td>\n",
       "      <td>20.459967</td>\n",
       "      <td>12930.12860</td>\n",
       "      <td>82888.97226</td>\n",
       "      <td>3453.707177</td>\n",
       "      <td>0.005924</td>\n",
       "      <td>168.803168</td>\n",
       "      <td>1567.209808</td>\n",
       "      <td>1567.21</td>\n",
       "    </tr>\n",
       "  </tbody>\n",
       "</table>\n",
       "</div>"
      ],
      "text/plain": [
       "  Ship Size (TEU)  TEU avg  TEU to weight lbs  TEU to weight - tons  \\\n",
       "0         10,000+  10000.0        529100000.0              264550.0   \n",
       "1         10,000+  10000.0        529100000.0              264550.0   \n",
       "2         10,000+  10000.0        529100000.0              264550.0   \n",
       "3         10,000+  10000.0        529100000.0              264550.0   \n",
       "4         10,000+  10000.0        529100000.0              264550.0   \n",
       "\n",
       "   Speed- Knots  Fuel Consumption - Tons per Day  Speed-MPH  \\\n",
       "0         17.48                           103.56  20.102576   \n",
       "1         17.55                           105.62  20.185889   \n",
       "2         17.66                           108.71  20.304878   \n",
       "3         17.74                           109.77  20.400366   \n",
       "4         17.79                           110.81  20.459967   \n",
       "\n",
       "   Ton miles per hour  Fuel Consumption - Gallons per day  \\\n",
       "0         13160.00495                         77468.63057   \n",
       "1         13105.68954                         79011.10832   \n",
       "2         13028.88871                         81322.85500   \n",
       "3         12967.90446                         82111.82351   \n",
       "4         12930.12860                         82888.97226   \n",
       "\n",
       "   Fuel Consumption- Gallons/hour       MPG  Gallons per mile      Ton MPG  \\\n",
       "0                     3227.859607  0.006228        160.569452  1647.573749   \n",
       "1                     3292.129514  0.006132        163.090634  1622.104198   \n",
       "2                     3388.452292  0.005992        166.878729  1585.282806   \n",
       "3                     3421.325979  0.005963        167.709047  1577.434401   \n",
       "4                     3453.707177  0.005924        168.803168  1567.209808   \n",
       "\n",
       "   Ton MPG cleaner  \n",
       "0          1647.57  \n",
       "1          1622.10  \n",
       "2          1585.28  \n",
       "3          1577.43  \n",
       "4          1567.21  "
      ]
     },
     "execution_count": 4,
     "metadata": {},
     "output_type": "execute_result"
    }
   ],
   "source": [
    "#cleaning and calculations work for df done in excel\n",
    "\n",
    "ship.head()"
   ]
  },
  {
   "cell_type": "code",
   "execution_count": 5,
   "id": "920b5ff0",
   "metadata": {},
   "outputs": [
    {
     "name": "stdout",
     "output_type": "stream",
     "text": [
      "<class 'pandas.core.frame.DataFrame'>\n",
      "RangeIndex: 429 entries, 0 to 428\n",
      "Data columns (total 14 columns):\n",
      " #   Column                              Non-Null Count  Dtype  \n",
      "---  ------                              --------------  -----  \n",
      " 0   Ship Size (TEU)                     429 non-null    object \n",
      " 1   TEU avg                             429 non-null    float64\n",
      " 2   TEU to weight lbs                   429 non-null    float64\n",
      " 3   TEU to weight - tons                429 non-null    float64\n",
      " 4   Speed- Knots                        429 non-null    float64\n",
      " 5   Fuel Consumption - Tons per Day     429 non-null    float64\n",
      " 6   Speed-MPH                           429 non-null    float64\n",
      " 7   Ton miles per hour                  429 non-null    float64\n",
      " 8   Fuel Consumption - Gallons per day  429 non-null    float64\n",
      " 9   Fuel Consumption- Gallons/hour      429 non-null    float64\n",
      " 10  MPG                                 429 non-null    float64\n",
      " 11  Gallons per mile                    429 non-null    float64\n",
      " 12  Ton MPG                             429 non-null    float64\n",
      " 13  Ton MPG cleaner                     429 non-null    float64\n",
      "dtypes: float64(13), object(1)\n",
      "memory usage: 47.0+ KB\n"
     ]
    }
   ],
   "source": [
    "ship.info()"
   ]
  },
  {
   "cell_type": "code",
   "execution_count": 6,
   "id": "24b6039d",
   "metadata": {},
   "outputs": [],
   "source": [
    "#Simplifying my df for easier visualization\n",
    "\n",
    "ship_graph = ship[['Ship Size (TEU)', 'Speed-MPH', 'Ton MPG cleaner']]"
   ]
  },
  {
   "cell_type": "code",
   "execution_count": 7,
   "id": "fad9a6be",
   "metadata": {},
   "outputs": [
    {
     "data": {
      "text/html": [
       "<div>\n",
       "<style scoped>\n",
       "    .dataframe tbody tr th:only-of-type {\n",
       "        vertical-align: middle;\n",
       "    }\n",
       "\n",
       "    .dataframe tbody tr th {\n",
       "        vertical-align: top;\n",
       "    }\n",
       "\n",
       "    .dataframe thead th {\n",
       "        text-align: right;\n",
       "    }\n",
       "</style>\n",
       "<table border=\"1\" class=\"dataframe\">\n",
       "  <thead>\n",
       "    <tr style=\"text-align: right;\">\n",
       "      <th></th>\n",
       "      <th>Ship Size (TEU)</th>\n",
       "      <th>Speed-MPH</th>\n",
       "      <th>Ton MPG cleaner</th>\n",
       "    </tr>\n",
       "  </thead>\n",
       "  <tbody>\n",
       "    <tr>\n",
       "      <th>70</th>\n",
       "      <td>9000-10000x</td>\n",
       "      <td>20.094853</td>\n",
       "      <td>1945.05</td>\n",
       "    </tr>\n",
       "    <tr>\n",
       "      <th>71</th>\n",
       "      <td>9000-10000x</td>\n",
       "      <td>20.190129</td>\n",
       "      <td>1906.95</td>\n",
       "    </tr>\n",
       "    <tr>\n",
       "      <th>72</th>\n",
       "      <td>9000-10000x</td>\n",
       "      <td>20.309330</td>\n",
       "      <td>1872.63</td>\n",
       "    </tr>\n",
       "    <tr>\n",
       "      <th>73</th>\n",
       "      <td>9000-10000x</td>\n",
       "      <td>20.416569</td>\n",
       "      <td>1838.93</td>\n",
       "    </tr>\n",
       "    <tr>\n",
       "      <th>74</th>\n",
       "      <td>9000-10000x</td>\n",
       "      <td>20.512056</td>\n",
       "      <td>1826.02</td>\n",
       "    </tr>\n",
       "    <tr>\n",
       "      <th>...</th>\n",
       "      <td>...</td>\n",
       "      <td>...</td>\n",
       "      <td>...</td>\n",
       "    </tr>\n",
       "    <tr>\n",
       "      <th>424</th>\n",
       "      <td>4000-5000x</td>\n",
       "      <td>28.299514</td>\n",
       "      <td>712.39</td>\n",
       "    </tr>\n",
       "    <tr>\n",
       "      <th>425</th>\n",
       "      <td>4000-5000x</td>\n",
       "      <td>28.418715</td>\n",
       "      <td>705.73</td>\n",
       "    </tr>\n",
       "    <tr>\n",
       "      <th>426</th>\n",
       "      <td>4000-5000x</td>\n",
       "      <td>28.525953</td>\n",
       "      <td>698.97</td>\n",
       "    </tr>\n",
       "    <tr>\n",
       "      <th>427</th>\n",
       "      <td>4000-5000x</td>\n",
       "      <td>28.609267</td>\n",
       "      <td>691.86</td>\n",
       "    </tr>\n",
       "    <tr>\n",
       "      <th>428</th>\n",
       "      <td>4000-5000x</td>\n",
       "      <td>28.704755</td>\n",
       "      <td>689.56</td>\n",
       "    </tr>\n",
       "  </tbody>\n",
       "</table>\n",
       "<p>359 rows × 3 columns</p>\n",
       "</div>"
      ],
      "text/plain": [
       "    Ship Size (TEU)  Speed-MPH  Ton MPG cleaner\n",
       "70      9000-10000x  20.094853          1945.05\n",
       "71      9000-10000x  20.190129          1906.95\n",
       "72      9000-10000x  20.309330          1872.63\n",
       "73      9000-10000x  20.416569          1838.93\n",
       "74      9000-10000x  20.512056          1826.02\n",
       "..              ...        ...              ...\n",
       "424      4000-5000x  28.299514           712.39\n",
       "425      4000-5000x  28.418715           705.73\n",
       "426      4000-5000x  28.525953           698.97\n",
       "427      4000-5000x  28.609267           691.86\n",
       "428      4000-5000x  28.704755           689.56\n",
       "\n",
       "[359 rows x 3 columns]"
      ]
     },
     "execution_count": 7,
     "metadata": {},
     "output_type": "execute_result"
    }
   ],
   "source": [
    "#the 10000+ size is messing everything up.  I cannot accurately guess a weight to determine a probable ton-mile.  \n",
    "#Dropping and adding a note to my methodology section\n",
    "\n",
    "ship_graph2 = ship_graph[ship_graph['Ship Size (TEU)'] != '10,000+']\n",
    "ship_graph2"
   ]
  },
  {
   "cell_type": "code",
   "execution_count": 8,
   "id": "4af7c2e5",
   "metadata": {
    "scrolled": false
   },
   "outputs": [
    {
     "data": {
      "text/plain": [
       "Text(0.5, 1.0, 'Average Ton-MPG by Ship Size and Speed')"
      ]
     },
     "execution_count": 8,
     "metadata": {},
     "output_type": "execute_result"
    },
    {
     "data": {
      "image/png": "[encoded data removed]",
      "text/plain": [
       "<Figure size 936x576 with 1 Axes>"
      ]
     },
     "metadata": {},
     "output_type": "display_data"
    }
   ],
   "source": [
    "sns.set_palette(\"colorblind\")\n",
    "a = sns.lineplot(data = ship_graph2, x = 'Speed-MPH', y = 'Ton MPG cleaner', hue = 'Ship Size (TEU)')\n",
    "a.set(xlabel = 'MPH (Converted from knots)', ylabel = 'Ton MPG')\n",
    "a.set_title('Average Ton-MPG by Ship Size and Speed')"
   ]
  },
  {
   "cell_type": "markdown",
   "id": "a88ff81d",
   "metadata": {},
   "source": [
    "NOTE:  the research i found supports this trend of mpg going down signifcantly in relation to ship speed.\n",
    "however, the numbers i see in most reports are significantly lower than the numbers i gained from the data i found\n",
    "\n",
    "my data is from a good source, and i don't know where the articles get their data from\n",
    "but i had to (reasonably!) guess at the amount of weight carried by ship and then average it, vs getting accurate cargo weight readings\n",
    "\n",
    "Data with live tracking of ships, speeds, and cargo types and weights appeared to be available - but behind a paywall\n",
    "Or free but on a ship-by-ship basis, which exceeds my current abilities and the scope of this project to tabulate: \n",
    "https://www.marinetraffic.com/en/ais/home/centerx:-14.4/centery:27.2/zoom:6 "
   ]
  },
  {
   "cell_type": "markdown",
   "id": "0a38113a",
   "metadata": {},
   "source": [
    "# TRUCKS - TON MPG"
   ]
  },
  {
   "cell_type": "code",
   "execution_count": 9,
   "id": "29883665",
   "metadata": {},
   "outputs": [
    {
     "data": {
      "text/html": [
       "<div>\n",
       "<style scoped>\n",
       "    .dataframe tbody tr th:only-of-type {\n",
       "        vertical-align: middle;\n",
       "    }\n",
       "\n",
       "    .dataframe tbody tr th {\n",
       "        vertical-align: top;\n",
       "    }\n",
       "\n",
       "    .dataframe thead th {\n",
       "        text-align: right;\n",
       "    }\n",
       "</style>\n",
       "<table border=\"1\" class=\"dataframe\">\n",
       "  <thead>\n",
       "    <tr style=\"text-align: right;\">\n",
       "      <th></th>\n",
       "      <th>MSN</th>\n",
       "      <th>YYYYMM</th>\n",
       "      <th>Value</th>\n",
       "      <th>Column_Order</th>\n",
       "      <th>Description</th>\n",
       "      <th>Unit</th>\n",
       "      <th>Avg weight hauled - lbs</th>\n",
       "      <th>Source/Notes:</th>\n",
       "      <th>Avg weight/tons</th>\n",
       "    </tr>\n",
       "  </thead>\n",
       "  <tbody>\n",
       "    <tr>\n",
       "      <th>0</th>\n",
       "      <td>TRFRRUS</td>\n",
       "      <td>194913</td>\n",
       "      <td>9</td>\n",
       "      <td>9</td>\n",
       "      <td>Heavy-Duty Trucks Fuel Economy</td>\n",
       "      <td>Miles per Gallon</td>\n",
       "      <td>44000</td>\n",
       "      <td>https://www.freightwaves.com/news/how-much-wei...</td>\n",
       "      <td>22</td>\n",
       "    </tr>\n",
       "    <tr>\n",
       "      <th>1</th>\n",
       "      <td>TRFRRUS</td>\n",
       "      <td>195013</td>\n",
       "      <td>8.4</td>\n",
       "      <td>9</td>\n",
       "      <td>Heavy-Duty Trucks Fuel Economy</td>\n",
       "      <td>Miles per Gallon</td>\n",
       "      <td>44000</td>\n",
       "      <td>NaN</td>\n",
       "      <td>22</td>\n",
       "    </tr>\n",
       "    <tr>\n",
       "      <th>2</th>\n",
       "      <td>TRFRRUS</td>\n",
       "      <td>195113</td>\n",
       "      <td>8.5</td>\n",
       "      <td>9</td>\n",
       "      <td>Heavy-Duty Trucks Fuel Economy</td>\n",
       "      <td>Miles per Gallon</td>\n",
       "      <td>44000</td>\n",
       "      <td>NaN</td>\n",
       "      <td>22</td>\n",
       "    </tr>\n",
       "    <tr>\n",
       "      <th>3</th>\n",
       "      <td>TRFRRUS</td>\n",
       "      <td>195213</td>\n",
       "      <td>8.4</td>\n",
       "      <td>9</td>\n",
       "      <td>Heavy-Duty Trucks Fuel Economy</td>\n",
       "      <td>Miles per Gallon</td>\n",
       "      <td>44000</td>\n",
       "      <td>NaN</td>\n",
       "      <td>22</td>\n",
       "    </tr>\n",
       "    <tr>\n",
       "      <th>4</th>\n",
       "      <td>TRFRRUS</td>\n",
       "      <td>195313</td>\n",
       "      <td>8.5</td>\n",
       "      <td>9</td>\n",
       "      <td>Heavy-Duty Trucks Fuel Economy</td>\n",
       "      <td>Miles per Gallon</td>\n",
       "      <td>44000</td>\n",
       "      <td>NaN</td>\n",
       "      <td>22</td>\n",
       "    </tr>\n",
       "  </tbody>\n",
       "</table>\n",
       "</div>"
      ],
      "text/plain": [
       "       MSN  YYYYMM Value  Column_Order                     Description  \\\n",
       "0  TRFRRUS  194913     9             9  Heavy-Duty Trucks Fuel Economy   \n",
       "1  TRFRRUS  195013   8.4             9  Heavy-Duty Trucks Fuel Economy   \n",
       "2  TRFRRUS  195113   8.5             9  Heavy-Duty Trucks Fuel Economy   \n",
       "3  TRFRRUS  195213   8.4             9  Heavy-Duty Trucks Fuel Economy   \n",
       "4  TRFRRUS  195313   8.5             9  Heavy-Duty Trucks Fuel Economy   \n",
       "\n",
       "               Unit  Avg weight hauled - lbs  \\\n",
       "0  Miles per Gallon                    44000   \n",
       "1  Miles per Gallon                    44000   \n",
       "2  Miles per Gallon                    44000   \n",
       "3  Miles per Gallon                    44000   \n",
       "4  Miles per Gallon                    44000   \n",
       "\n",
       "                                       Source/Notes:  Avg weight/tons  \n",
       "0  https://www.freightwaves.com/news/how-much-wei...               22  \n",
       "1                                                NaN               22  \n",
       "2                                                NaN               22  \n",
       "3                                                NaN               22  \n",
       "4                                                NaN               22  "
      ]
     },
     "execution_count": 9,
     "metadata": {},
     "output_type": "execute_result"
    }
   ],
   "source": [
    "truck.head()"
   ]
  },
  {
   "cell_type": "code",
   "execution_count": 10,
   "id": "1093971f",
   "metadata": {},
   "outputs": [],
   "source": [
    "#simplifying df for visualization.  All i want here is the avg MPG for transit trucks\n",
    "\n",
    "truck_visual = truck[['Description','Avg weight/tons','Value']]"
   ]
  },
  {
   "cell_type": "code",
   "execution_count": 11,
   "id": "1786283d",
   "metadata": {
    "scrolled": true
   },
   "outputs": [
    {
     "name": "stdout",
     "output_type": "stream",
     "text": [
      "<class 'pandas.core.frame.DataFrame'>\n",
      "RangeIndex: 213 entries, 0 to 212\n",
      "Data columns (total 3 columns):\n",
      " #   Column           Non-Null Count  Dtype \n",
      "---  ------           --------------  ----- \n",
      " 0   Description      213 non-null    object\n",
      " 1   Avg weight/tons  213 non-null    int64 \n",
      " 2   Value            213 non-null    object\n",
      "dtypes: int64(1), object(2)\n",
      "memory usage: 5.1+ KB\n"
     ]
    }
   ],
   "source": [
    "truck_visual.info()"
   ]
  },
  {
   "cell_type": "code",
   "execution_count": 12,
   "id": "9069c1bb",
   "metadata": {
    "scrolled": false
   },
   "outputs": [
    {
     "data": {
      "text/plain": [
       "Description        Light-Duty Vehicles, Long Wheelbase Fuel Economy\n",
       "Avg weight/tons                                                  10\n",
       "Value                                                 Not Available\n",
       "Name: 71, dtype: object"
      ]
     },
     "execution_count": 12,
     "metadata": {},
     "output_type": "execute_result"
    }
   ],
   "source": [
    "truck_visual.iloc[71]"
   ]
  },
  {
   "cell_type": "code",
   "execution_count": 13,
   "id": "a942a9c1",
   "metadata": {},
   "outputs": [],
   "source": [
    "#got an error when trying to convert data to numeric form.  Found text.  \n",
    "#deleting rows where data unavailable - not needed for my average-seeking calculation\n",
    "\n",
    "truck_visual = truck_visual[truck_visual['Value'] != 'Not Available']"
   ]
  },
  {
   "cell_type": "code",
   "execution_count": 14,
   "id": "34230547",
   "metadata": {},
   "outputs": [],
   "source": [
    "#converting to numbers so i can do math\n",
    "\n",
    "truck_visual['Value'] = pd.to_numeric(truck_visual['Value'])"
   ]
  },
  {
   "cell_type": "code",
   "execution_count": 15,
   "id": "f88a83f1",
   "metadata": {},
   "outputs": [
    {
     "data": {
      "text/html": [
       "<div>\n",
       "<style scoped>\n",
       "    .dataframe tbody tr th:only-of-type {\n",
       "        vertical-align: middle;\n",
       "    }\n",
       "\n",
       "    .dataframe tbody tr th {\n",
       "        vertical-align: top;\n",
       "    }\n",
       "\n",
       "    .dataframe thead th {\n",
       "        text-align: right;\n",
       "    }\n",
       "</style>\n",
       "<table border=\"1\" class=\"dataframe\">\n",
       "  <thead>\n",
       "    <tr style=\"text-align: right;\">\n",
       "      <th></th>\n",
       "      <th>Value</th>\n",
       "    </tr>\n",
       "    <tr>\n",
       "      <th>Avg weight/tons</th>\n",
       "      <th></th>\n",
       "    </tr>\n",
       "  </thead>\n",
       "  <tbody>\n",
       "    <tr>\n",
       "      <th>5</th>\n",
       "      <td>18.152113</td>\n",
       "    </tr>\n",
       "    <tr>\n",
       "      <th>10</th>\n",
       "      <td>14.905556</td>\n",
       "    </tr>\n",
       "    <tr>\n",
       "      <th>22</th>\n",
       "      <td>6.491549</td>\n",
       "    </tr>\n",
       "  </tbody>\n",
       "</table>\n",
       "</div>"
      ],
      "text/plain": [
       "                     Value\n",
       "Avg weight/tons           \n",
       "5                18.152113\n",
       "10               14.905556\n",
       "22                6.491549"
      ]
     },
     "execution_count": 15,
     "metadata": {},
     "output_type": "execute_result"
    }
   ],
   "source": [
    "#finding the avg mpg for each truck by weightclass/avg tons hauled \n",
    "\n",
    "truck_visual.groupby('Avg weight/tons').mean()"
   ]
  },
  {
   "cell_type": "code",
   "execution_count": 16,
   "id": "150f44d1",
   "metadata": {
    "scrolled": false
   },
   "outputs": [
    {
     "data": {
      "text/html": [
       "<div>\n",
       "<style scoped>\n",
       "    .dataframe tbody tr th:only-of-type {\n",
       "        vertical-align: middle;\n",
       "    }\n",
       "\n",
       "    .dataframe tbody tr th {\n",
       "        vertical-align: top;\n",
       "    }\n",
       "\n",
       "    .dataframe thead th {\n",
       "        text-align: right;\n",
       "    }\n",
       "</style>\n",
       "<table border=\"1\" class=\"dataframe\">\n",
       "  <thead>\n",
       "    <tr style=\"text-align: right;\">\n",
       "      <th></th>\n",
       "      <th>Value</th>\n",
       "    </tr>\n",
       "    <tr>\n",
       "      <th>Avg weight/tons</th>\n",
       "      <th></th>\n",
       "    </tr>\n",
       "  </thead>\n",
       "  <tbody>\n",
       "    <tr>\n",
       "      <th>5</th>\n",
       "      <td>18.152113</td>\n",
       "    </tr>\n",
       "    <tr>\n",
       "      <th>10</th>\n",
       "      <td>14.905556</td>\n",
       "    </tr>\n",
       "    <tr>\n",
       "      <th>22</th>\n",
       "      <td>6.491549</td>\n",
       "    </tr>\n",
       "  </tbody>\n",
       "</table>\n",
       "</div>"
      ],
      "text/plain": [
       "                     Value\n",
       "Avg weight/tons           \n",
       "5                18.152113\n",
       "10               14.905556\n",
       "22                6.491549"
      ]
     },
     "execution_count": 16,
     "metadata": {},
     "output_type": "execute_result"
    }
   ],
   "source": [
    "#converting my query to a new df\n",
    "\n",
    "truck_visual2 = truck_visual.groupby('Avg weight/tons').mean()\n",
    "truck_visual2.head()"
   ]
  },
  {
   "cell_type": "code",
   "execution_count": 17,
   "id": "ae493f6f",
   "metadata": {},
   "outputs": [],
   "source": [
    "truck_visual2.reset_index(drop=False, inplace=True)"
   ]
  },
  {
   "cell_type": "code",
   "execution_count": 18,
   "id": "9a1d4cc5",
   "metadata": {},
   "outputs": [
    {
     "data": {
      "text/html": [
       "<div>\n",
       "<style scoped>\n",
       "    .dataframe tbody tr th:only-of-type {\n",
       "        vertical-align: middle;\n",
       "    }\n",
       "\n",
       "    .dataframe tbody tr th {\n",
       "        vertical-align: top;\n",
       "    }\n",
       "\n",
       "    .dataframe thead th {\n",
       "        text-align: right;\n",
       "    }\n",
       "</style>\n",
       "<table border=\"1\" class=\"dataframe\">\n",
       "  <thead>\n",
       "    <tr style=\"text-align: right;\">\n",
       "      <th></th>\n",
       "      <th>Avg weight/tons</th>\n",
       "      <th>Value</th>\n",
       "    </tr>\n",
       "  </thead>\n",
       "  <tbody>\n",
       "    <tr>\n",
       "      <th>0</th>\n",
       "      <td>5</td>\n",
       "      <td>18.152113</td>\n",
       "    </tr>\n",
       "    <tr>\n",
       "      <th>1</th>\n",
       "      <td>10</td>\n",
       "      <td>14.905556</td>\n",
       "    </tr>\n",
       "    <tr>\n",
       "      <th>2</th>\n",
       "      <td>22</td>\n",
       "      <td>6.491549</td>\n",
       "    </tr>\n",
       "  </tbody>\n",
       "</table>\n",
       "</div>"
      ],
      "text/plain": [
       "   Avg weight/tons      Value\n",
       "0                5  18.152113\n",
       "1               10  14.905556\n",
       "2               22   6.491549"
      ]
     },
     "execution_count": 18,
     "metadata": {},
     "output_type": "execute_result"
    }
   ],
   "source": [
    "truck_visual2.head()"
   ]
  },
  {
   "cell_type": "code",
   "execution_count": 19,
   "id": "e49247f3",
   "metadata": {},
   "outputs": [],
   "source": [
    "#calculating the ton-mpg per truck size\n",
    "\n",
    "truck_visual2['Ton_MPG'] = truck_visual2['Value']*truck_visual2['Avg weight/tons']"
   ]
  },
  {
   "cell_type": "code",
   "execution_count": 20,
   "id": "703265f2",
   "metadata": {},
   "outputs": [
    {
     "data": {
      "text/html": [
       "<div>\n",
       "<style scoped>\n",
       "    .dataframe tbody tr th:only-of-type {\n",
       "        vertical-align: middle;\n",
       "    }\n",
       "\n",
       "    .dataframe tbody tr th {\n",
       "        vertical-align: top;\n",
       "    }\n",
       "\n",
       "    .dataframe thead th {\n",
       "        text-align: right;\n",
       "    }\n",
       "</style>\n",
       "<table border=\"1\" class=\"dataframe\">\n",
       "  <thead>\n",
       "    <tr style=\"text-align: right;\">\n",
       "      <th></th>\n",
       "      <th>Avg weight/tons</th>\n",
       "      <th>Value</th>\n",
       "      <th>Ton_MPG</th>\n",
       "    </tr>\n",
       "  </thead>\n",
       "  <tbody>\n",
       "    <tr>\n",
       "      <th>0</th>\n",
       "      <td>5</td>\n",
       "      <td>18.152113</td>\n",
       "      <td>90.760563</td>\n",
       "    </tr>\n",
       "    <tr>\n",
       "      <th>1</th>\n",
       "      <td>10</td>\n",
       "      <td>14.905556</td>\n",
       "      <td>149.055556</td>\n",
       "    </tr>\n",
       "    <tr>\n",
       "      <th>2</th>\n",
       "      <td>22</td>\n",
       "      <td>6.491549</td>\n",
       "      <td>142.814085</td>\n",
       "    </tr>\n",
       "  </tbody>\n",
       "</table>\n",
       "</div>"
      ],
      "text/plain": [
       "   Avg weight/tons      Value     Ton_MPG\n",
       "0                5  18.152113   90.760563\n",
       "1               10  14.905556  149.055556\n",
       "2               22   6.491549  142.814085"
      ]
     },
     "execution_count": 20,
     "metadata": {},
     "output_type": "execute_result"
    }
   ],
   "source": [
    "truck_visual2.head()"
   ]
  },
  {
   "cell_type": "code",
   "execution_count": 21,
   "id": "2e69f722",
   "metadata": {},
   "outputs": [],
   "source": [
    "#renaming for visualization clarity\n",
    "\n",
    "truck_types = ['Light Duty - Short Wheelbase', 'Light Duty - Long Wheelbase', 'Heavy Duty']\n",
    "truck_visual2['truck_types'] = truck_types"
   ]
  },
  {
   "cell_type": "code",
   "execution_count": 22,
   "id": "70879ee8",
   "metadata": {
    "scrolled": true
   },
   "outputs": [
    {
     "data": {
      "text/html": [
       "<div>\n",
       "<style scoped>\n",
       "    .dataframe tbody tr th:only-of-type {\n",
       "        vertical-align: middle;\n",
       "    }\n",
       "\n",
       "    .dataframe tbody tr th {\n",
       "        vertical-align: top;\n",
       "    }\n",
       "\n",
       "    .dataframe thead th {\n",
       "        text-align: right;\n",
       "    }\n",
       "</style>\n",
       "<table border=\"1\" class=\"dataframe\">\n",
       "  <thead>\n",
       "    <tr style=\"text-align: right;\">\n",
       "      <th></th>\n",
       "      <th>Avg weight/tons</th>\n",
       "      <th>Value</th>\n",
       "      <th>Ton_MPG</th>\n",
       "      <th>truck_types</th>\n",
       "    </tr>\n",
       "  </thead>\n",
       "  <tbody>\n",
       "    <tr>\n",
       "      <th>0</th>\n",
       "      <td>5</td>\n",
       "      <td>18.152113</td>\n",
       "      <td>90.760563</td>\n",
       "      <td>Light Duty - Short Wheelbase</td>\n",
       "    </tr>\n",
       "    <tr>\n",
       "      <th>1</th>\n",
       "      <td>10</td>\n",
       "      <td>14.905556</td>\n",
       "      <td>149.055556</td>\n",
       "      <td>Light Duty - Long Wheelbase</td>\n",
       "    </tr>\n",
       "    <tr>\n",
       "      <th>2</th>\n",
       "      <td>22</td>\n",
       "      <td>6.491549</td>\n",
       "      <td>142.814085</td>\n",
       "      <td>Heavy Duty</td>\n",
       "    </tr>\n",
       "  </tbody>\n",
       "</table>\n",
       "</div>"
      ],
      "text/plain": [
       "   Avg weight/tons      Value     Ton_MPG                   truck_types\n",
       "0                5  18.152113   90.760563  Light Duty - Short Wheelbase\n",
       "1               10  14.905556  149.055556   Light Duty - Long Wheelbase\n",
       "2               22   6.491549  142.814085                    Heavy Duty"
      ]
     },
     "execution_count": 22,
     "metadata": {},
     "output_type": "execute_result"
    }
   ],
   "source": [
    "truck_visual2.head()"
   ]
  },
  {
   "cell_type": "code",
   "execution_count": 23,
   "id": "c3df10ca",
   "metadata": {},
   "outputs": [],
   "source": [
    "#to show the values of the data on my graph:\n",
    "\n",
    "def show_values(axs, orient=\"v\", space=.01):\n",
    "    def _single(ax):\n",
    "        if orient == \"v\":\n",
    "            for p in ax.patches:\n",
    "                _x = p.get_x() + p.get_width() / 2\n",
    "                _y = p.get_y() + p.get_height() + (p.get_height()*0.01)\n",
    "                value = '{:.1f}'.format(p.get_height())\n",
    "                ax.text(_x, _y, value, ha=\"center\") \n",
    "        elif orient == \"h\":\n",
    "            for p in ax.patches:\n",
    "                _x = p.get_x() + p.get_width() + float(space)\n",
    "                _y = p.get_y() + p.get_height() - (p.get_height()*0.5)\n",
    "                value = '{:.1f}'.format(p.get_width())\n",
    "                ax.text(_x, _y, value, ha=\"left\")\n",
    "\n",
    "    if isinstance(axs, np.ndarray):\n",
    "        for idx, ax in np.ndenumerate(axs):\n",
    "            _single(ax)\n",
    "    else:\n",
    "        _single(axs)"
   ]
  },
  {
   "cell_type": "code",
   "execution_count": 24,
   "id": "e6184bc2",
   "metadata": {
    "scrolled": false
   },
   "outputs": [
    {
     "data": {
      "image/png": "[encoded data removed]",
      "text/plain": [
       "<Figure size 936x576 with 1 Axes>"
      ]
     },
     "metadata": {},
     "output_type": "display_data"
    }
   ],
   "source": [
    "sns.set_palette(\"ch:start=0, rot=-.3\")\n",
    "b = sns.barplot(data=truck_visual2, x='truck_types', y='Ton_MPG')\n",
    "b.set(xlabel = 'Type of Truck', ylabel = 'Avg Ton-MPG')\n",
    "b.set_title('Average Ton-MPG (US Highway) by Truck Size')\n",
    "\n",
    "show_values(b)"
   ]
  },
  {
   "cell_type": "markdown",
   "id": "02f25cad",
   "metadata": {},
   "source": [
    "# PLANE-TRAIN TON MPG"
   ]
  },
  {
   "cell_type": "code",
   "execution_count": 25,
   "id": "47864b50",
   "metadata": {},
   "outputs": [],
   "source": [
    "#note - i did not find datasets for planes or trains, but i did find quotes of ton miles from reliable sources:\n",
    "#Plane: https://www.conservationfund.org/images/programs/files/CSX_Final-Curriculum.pdf\n",
    "#train: https://www.factcheck.org/2008/07/fuel-efficient-freight-trains/\n",
    "\n",
    "Plane_Train_TonMPG_viz = pd.DataFrame({\n",
    "    \"Type\":['Plane','Train'],\n",
    "    \"Avg. Ton MPG\": [4.5, 436]\n",
    "})"
   ]
  },
  {
   "cell_type": "code",
   "execution_count": 26,
   "id": "c4c138a1",
   "metadata": {
    "scrolled": false
   },
   "outputs": [
    {
     "data": {
      "image/png": "[encoded data removed]",
      "text/plain": [
       "<Figure size 936x576 with 1 Axes>"
      ]
     },
     "metadata": {},
     "output_type": "display_data"
    }
   ],
   "source": [
    "sns.set_palette(\"colorblind\")\n",
    "c = sns.barplot(data=Plane_Train_TonMPG_viz, x='Type', y='Avg. Ton MPG')\n",
    "c.set(xlabel = '', ylabel = 'Avg Ton-MPG')\n",
    "c.set_title('Average Ton-MPG by Plane and Train')\n",
    "\n",
    "show_values(c)"
   ]
  },
  {
   "cell_type": "markdown",
   "id": "8d76989d",
   "metadata": {},
   "source": [
    "# Putting it together - 1000 miles\n"
   ]
  },
  {
   "cell_type": "markdown",
   "id": "6f05fb7d",
   "metadata": {},
   "source": [
    "How many gallons of fuel are used to move 1 ton of goods 1000 miles?"
   ]
  },
  {
   "cell_type": "markdown",
   "id": "52e4b159",
   "metadata": {},
   "source": [
    "# 1000 MILES FUEL - SHIP"
   ]
  },
  {
   "cell_type": "code",
   "execution_count": 28,
   "id": "ee4c6961",
   "metadata": {},
   "outputs": [
    {
     "data": {
      "text/html": [
       "<div>\n",
       "<style scoped>\n",
       "    .dataframe tbody tr th:only-of-type {\n",
       "        vertical-align: middle;\n",
       "    }\n",
       "\n",
       "    .dataframe tbody tr th {\n",
       "        vertical-align: top;\n",
       "    }\n",
       "\n",
       "    .dataframe thead th {\n",
       "        text-align: right;\n",
       "    }\n",
       "</style>\n",
       "<table border=\"1\" class=\"dataframe\">\n",
       "  <thead>\n",
       "    <tr style=\"text-align: right;\">\n",
       "      <th></th>\n",
       "      <th>Ship Size (TEU)</th>\n",
       "      <th>TEU avg</th>\n",
       "      <th>TEU to weight lbs</th>\n",
       "      <th>TEU to weight - tons</th>\n",
       "      <th>Speed- Knots</th>\n",
       "      <th>Fuel Consumption - Tons per Day</th>\n",
       "      <th>Speed-MPH</th>\n",
       "      <th>Ton miles per hour</th>\n",
       "      <th>Fuel Consumption - Gallons per day</th>\n",
       "      <th>Fuel Consumption- Gallons/hour</th>\n",
       "      <th>MPG</th>\n",
       "      <th>Gallons per mile</th>\n",
       "      <th>Ton MPG</th>\n",
       "      <th>Ton MPG cleaner</th>\n",
       "    </tr>\n",
       "  </thead>\n",
       "  <tbody>\n",
       "    <tr>\n",
       "      <th>0</th>\n",
       "      <td>10,000+</td>\n",
       "      <td>10000.0</td>\n",
       "      <td>529100000.0</td>\n",
       "      <td>264550.0</td>\n",
       "      <td>17.48</td>\n",
       "      <td>103.56</td>\n",
       "      <td>20.102576</td>\n",
       "      <td>13160.004950</td>\n",
       "      <td>77468.63057</td>\n",
       "      <td>3227.859607</td>\n",
       "      <td>0.006228</td>\n",
       "      <td>160.569452</td>\n",
       "      <td>1647.573749</td>\n",
       "      <td>1647.57</td>\n",
       "    </tr>\n",
       "    <tr>\n",
       "      <th>1</th>\n",
       "      <td>10,000+</td>\n",
       "      <td>10000.0</td>\n",
       "      <td>529100000.0</td>\n",
       "      <td>264550.0</td>\n",
       "      <td>17.55</td>\n",
       "      <td>105.62</td>\n",
       "      <td>20.185889</td>\n",
       "      <td>13105.689540</td>\n",
       "      <td>79011.10832</td>\n",
       "      <td>3292.129514</td>\n",
       "      <td>0.006132</td>\n",
       "      <td>163.090634</td>\n",
       "      <td>1622.104198</td>\n",
       "      <td>1622.10</td>\n",
       "    </tr>\n",
       "    <tr>\n",
       "      <th>2</th>\n",
       "      <td>10,000+</td>\n",
       "      <td>10000.0</td>\n",
       "      <td>529100000.0</td>\n",
       "      <td>264550.0</td>\n",
       "      <td>17.66</td>\n",
       "      <td>108.71</td>\n",
       "      <td>20.304878</td>\n",
       "      <td>13028.888710</td>\n",
       "      <td>81322.85500</td>\n",
       "      <td>3388.452292</td>\n",
       "      <td>0.005992</td>\n",
       "      <td>166.878729</td>\n",
       "      <td>1585.282806</td>\n",
       "      <td>1585.28</td>\n",
       "    </tr>\n",
       "    <tr>\n",
       "      <th>3</th>\n",
       "      <td>10,000+</td>\n",
       "      <td>10000.0</td>\n",
       "      <td>529100000.0</td>\n",
       "      <td>264550.0</td>\n",
       "      <td>17.74</td>\n",
       "      <td>109.77</td>\n",
       "      <td>20.400366</td>\n",
       "      <td>12967.904460</td>\n",
       "      <td>82111.82351</td>\n",
       "      <td>3421.325979</td>\n",
       "      <td>0.005963</td>\n",
       "      <td>167.709047</td>\n",
       "      <td>1577.434401</td>\n",
       "      <td>1577.43</td>\n",
       "    </tr>\n",
       "    <tr>\n",
       "      <th>4</th>\n",
       "      <td>10,000+</td>\n",
       "      <td>10000.0</td>\n",
       "      <td>529100000.0</td>\n",
       "      <td>264550.0</td>\n",
       "      <td>17.79</td>\n",
       "      <td>110.81</td>\n",
       "      <td>20.459967</td>\n",
       "      <td>12930.128600</td>\n",
       "      <td>82888.97226</td>\n",
       "      <td>3453.707177</td>\n",
       "      <td>0.005924</td>\n",
       "      <td>168.803168</td>\n",
       "      <td>1567.209808</td>\n",
       "      <td>1567.21</td>\n",
       "    </tr>\n",
       "    <tr>\n",
       "      <th>...</th>\n",
       "      <td>...</td>\n",
       "      <td>...</td>\n",
       "      <td>...</td>\n",
       "      <td>...</td>\n",
       "      <td>...</td>\n",
       "      <td>...</td>\n",
       "      <td>...</td>\n",
       "      <td>...</td>\n",
       "      <td>...</td>\n",
       "      <td>...</td>\n",
       "      <td>...</td>\n",
       "      <td>...</td>\n",
       "      <td>...</td>\n",
       "      <td>...</td>\n",
       "    </tr>\n",
       "    <tr>\n",
       "      <th>424</th>\n",
       "      <td>4000-5000x</td>\n",
       "      <td>4500.0</td>\n",
       "      <td>238095000.0</td>\n",
       "      <td>119047.5</td>\n",
       "      <td>24.61</td>\n",
       "      <td>151.73</td>\n",
       "      <td>28.299514</td>\n",
       "      <td>4206.697690</td>\n",
       "      <td>113499.17740</td>\n",
       "      <td>4729.132391</td>\n",
       "      <td>0.005984</td>\n",
       "      <td>167.110022</td>\n",
       "      <td>712.390002</td>\n",
       "      <td>712.39</td>\n",
       "    </tr>\n",
       "    <tr>\n",
       "      <th>425</th>\n",
       "      <td>4000-5000x</td>\n",
       "      <td>4500.0</td>\n",
       "      <td>238095000.0</td>\n",
       "      <td>119047.5</td>\n",
       "      <td>24.71</td>\n",
       "      <td>153.80</td>\n",
       "      <td>28.418715</td>\n",
       "      <td>4189.052907</td>\n",
       "      <td>115053.47490</td>\n",
       "      <td>4793.894787</td>\n",
       "      <td>0.005928</td>\n",
       "      <td>168.687951</td>\n",
       "      <td>705.726199</td>\n",
       "      <td>705.73</td>\n",
       "    </tr>\n",
       "    <tr>\n",
       "      <th>426</th>\n",
       "      <td>4000-5000x</td>\n",
       "      <td>4500.0</td>\n",
       "      <td>238095000.0</td>\n",
       "      <td>119047.5</td>\n",
       "      <td>24.81</td>\n",
       "      <td>155.88</td>\n",
       "      <td>28.525953</td>\n",
       "      <td>4173.304886</td>\n",
       "      <td>116603.83250</td>\n",
       "      <td>4858.493020</td>\n",
       "      <td>0.005871</td>\n",
       "      <td>170.318341</td>\n",
       "      <td>698.970491</td>\n",
       "      <td>698.97</td>\n",
       "    </tr>\n",
       "    <tr>\n",
       "      <th>427</th>\n",
       "      <td>4000-5000x</td>\n",
       "      <td>4500.0</td>\n",
       "      <td>238095000.0</td>\n",
       "      <td>119047.5</td>\n",
       "      <td>24.88</td>\n",
       "      <td>157.94</td>\n",
       "      <td>28.609267</td>\n",
       "      <td>4161.151750</td>\n",
       "      <td>118146.31020</td>\n",
       "      <td>4922.762926</td>\n",
       "      <td>0.005812</td>\n",
       "      <td>172.068826</td>\n",
       "      <td>691.859784</td>\n",
       "      <td>691.86</td>\n",
       "    </tr>\n",
       "    <tr>\n",
       "      <th>428</th>\n",
       "      <td>4000-5000x</td>\n",
       "      <td>4500.0</td>\n",
       "      <td>238095000.0</td>\n",
       "      <td>119047.5</td>\n",
       "      <td>24.96</td>\n",
       "      <td>158.99</td>\n",
       "      <td>28.704755</td>\n",
       "      <td>4147.309457</td>\n",
       "      <td>118935.27870</td>\n",
       "      <td>4955.636614</td>\n",
       "      <td>0.005792</td>\n",
       "      <td>172.641665</td>\n",
       "      <td>689.564191</td>\n",
       "      <td>689.56</td>\n",
       "    </tr>\n",
       "  </tbody>\n",
       "</table>\n",
       "<p>429 rows × 14 columns</p>\n",
       "</div>"
      ],
      "text/plain": [
       "    Ship Size (TEU)  TEU avg  TEU to weight lbs  TEU to weight - tons  \\\n",
       "0           10,000+  10000.0        529100000.0              264550.0   \n",
       "1           10,000+  10000.0        529100000.0              264550.0   \n",
       "2           10,000+  10000.0        529100000.0              264550.0   \n",
       "3           10,000+  10000.0        529100000.0              264550.0   \n",
       "4           10,000+  10000.0        529100000.0              264550.0   \n",
       "..              ...      ...                ...                   ...   \n",
       "424      4000-5000x   4500.0        238095000.0              119047.5   \n",
       "425      4000-5000x   4500.0        238095000.0              119047.5   \n",
       "426      4000-5000x   4500.0        238095000.0              119047.5   \n",
       "427      4000-5000x   4500.0        238095000.0              119047.5   \n",
       "428      4000-5000x   4500.0        238095000.0              119047.5   \n",
       "\n",
       "     Speed- Knots  Fuel Consumption - Tons per Day  Speed-MPH  \\\n",
       "0           17.48                           103.56  20.102576   \n",
       "1           17.55                           105.62  20.185889   \n",
       "2           17.66                           108.71  20.304878   \n",
       "3           17.74                           109.77  20.400366   \n",
       "4           17.79                           110.81  20.459967   \n",
       "..            ...                              ...        ...   \n",
       "424         24.61                           151.73  28.299514   \n",
       "425         24.71                           153.80  28.418715   \n",
       "426         24.81                           155.88  28.525953   \n",
       "427         24.88                           157.94  28.609267   \n",
       "428         24.96                           158.99  28.704755   \n",
       "\n",
       "     Ton miles per hour  Fuel Consumption - Gallons per day  \\\n",
       "0          13160.004950                         77468.63057   \n",
       "1          13105.689540                         79011.10832   \n",
       "2          13028.888710                         81322.85500   \n",
       "3          12967.904460                         82111.82351   \n",
       "4          12930.128600                         82888.97226   \n",
       "..                  ...                                 ...   \n",
       "424         4206.697690                        113499.17740   \n",
       "425         4189.052907                        115053.47490   \n",
       "426         4173.304886                        116603.83250   \n",
       "427         4161.151750                        118146.31020   \n",
       "428         4147.309457                        118935.27870   \n",
       "\n",
       "     Fuel Consumption- Gallons/hour       MPG  Gallons per mile      Ton MPG  \\\n",
       "0                       3227.859607  0.006228        160.569452  1647.573749   \n",
       "1                       3292.129514  0.006132        163.090634  1622.104198   \n",
       "2                       3388.452292  0.005992        166.878729  1585.282806   \n",
       "3                       3421.325979  0.005963        167.709047  1577.434401   \n",
       "4                       3453.707177  0.005924        168.803168  1567.209808   \n",
       "..                              ...       ...               ...          ...   \n",
       "424                     4729.132391  0.005984        167.110022   712.390002   \n",
       "425                     4793.894787  0.005928        168.687951   705.726199   \n",
       "426                     4858.493020  0.005871        170.318341   698.970491   \n",
       "427                     4922.762926  0.005812        172.068826   691.859784   \n",
       "428                     4955.636614  0.005792        172.641665   689.564191   \n",
       "\n",
       "     Ton MPG cleaner  \n",
       "0            1647.57  \n",
       "1            1622.10  \n",
       "2            1585.28  \n",
       "3            1577.43  \n",
       "4            1567.21  \n",
       "..               ...  \n",
       "424           712.39  \n",
       "425           705.73  \n",
       "426           698.97  \n",
       "427           691.86  \n",
       "428           689.56  \n",
       "\n",
       "[429 rows x 14 columns]"
      ]
     },
     "execution_count": 28,
     "metadata": {},
     "output_type": "execute_result"
    }
   ],
   "source": [
    "ship"
   ]
  },
  {
   "cell_type": "code",
   "execution_count": 29,
   "id": "0cb40c27",
   "metadata": {},
   "outputs": [
    {
     "data": {
      "text/html": [
       "<div>\n",
       "<style scoped>\n",
       "    .dataframe tbody tr th:only-of-type {\n",
       "        vertical-align: middle;\n",
       "    }\n",
       "\n",
       "    .dataframe tbody tr th {\n",
       "        vertical-align: top;\n",
       "    }\n",
       "\n",
       "    .dataframe thead th {\n",
       "        text-align: right;\n",
       "    }\n",
       "</style>\n",
       "<table border=\"1\" class=\"dataframe\">\n",
       "  <thead>\n",
       "    <tr style=\"text-align: right;\">\n",
       "      <th></th>\n",
       "      <th>Ship Size (TEU)</th>\n",
       "      <th>TEU avg</th>\n",
       "      <th>TEU to weight lbs</th>\n",
       "      <th>TEU to weight - tons</th>\n",
       "      <th>Speed- Knots</th>\n",
       "      <th>Fuel Consumption - Tons per Day</th>\n",
       "      <th>Speed-MPH</th>\n",
       "      <th>Ton miles per hour</th>\n",
       "      <th>Fuel Consumption - Gallons per day</th>\n",
       "      <th>Fuel Consumption- Gallons/hour</th>\n",
       "      <th>MPG</th>\n",
       "      <th>Gallons per mile</th>\n",
       "      <th>Ton MPG</th>\n",
       "      <th>Ton MPG cleaner</th>\n",
       "      <th>1000mi_fuel</th>\n",
       "    </tr>\n",
       "  </thead>\n",
       "  <tbody>\n",
       "    <tr>\n",
       "      <th>0</th>\n",
       "      <td>10,000+</td>\n",
       "      <td>10000.0</td>\n",
       "      <td>529100000.0</td>\n",
       "      <td>264550.0</td>\n",
       "      <td>17.48</td>\n",
       "      <td>103.56</td>\n",
       "      <td>20.102576</td>\n",
       "      <td>13160.004950</td>\n",
       "      <td>77468.63057</td>\n",
       "      <td>3227.859607</td>\n",
       "      <td>0.006228</td>\n",
       "      <td>160.569452</td>\n",
       "      <td>1647.573749</td>\n",
       "      <td>1647.57</td>\n",
       "      <td>0.606954</td>\n",
       "    </tr>\n",
       "    <tr>\n",
       "      <th>1</th>\n",
       "      <td>10,000+</td>\n",
       "      <td>10000.0</td>\n",
       "      <td>529100000.0</td>\n",
       "      <td>264550.0</td>\n",
       "      <td>17.55</td>\n",
       "      <td>105.62</td>\n",
       "      <td>20.185889</td>\n",
       "      <td>13105.689540</td>\n",
       "      <td>79011.10832</td>\n",
       "      <td>3292.129514</td>\n",
       "      <td>0.006132</td>\n",
       "      <td>163.090634</td>\n",
       "      <td>1622.104198</td>\n",
       "      <td>1622.10</td>\n",
       "      <td>0.616485</td>\n",
       "    </tr>\n",
       "    <tr>\n",
       "      <th>2</th>\n",
       "      <td>10,000+</td>\n",
       "      <td>10000.0</td>\n",
       "      <td>529100000.0</td>\n",
       "      <td>264550.0</td>\n",
       "      <td>17.66</td>\n",
       "      <td>108.71</td>\n",
       "      <td>20.304878</td>\n",
       "      <td>13028.888710</td>\n",
       "      <td>81322.85500</td>\n",
       "      <td>3388.452292</td>\n",
       "      <td>0.005992</td>\n",
       "      <td>166.878729</td>\n",
       "      <td>1585.282806</td>\n",
       "      <td>1585.28</td>\n",
       "      <td>0.630803</td>\n",
       "    </tr>\n",
       "    <tr>\n",
       "      <th>3</th>\n",
       "      <td>10,000+</td>\n",
       "      <td>10000.0</td>\n",
       "      <td>529100000.0</td>\n",
       "      <td>264550.0</td>\n",
       "      <td>17.74</td>\n",
       "      <td>109.77</td>\n",
       "      <td>20.400366</td>\n",
       "      <td>12967.904460</td>\n",
       "      <td>82111.82351</td>\n",
       "      <td>3421.325979</td>\n",
       "      <td>0.005963</td>\n",
       "      <td>167.709047</td>\n",
       "      <td>1577.434401</td>\n",
       "      <td>1577.43</td>\n",
       "      <td>0.633943</td>\n",
       "    </tr>\n",
       "    <tr>\n",
       "      <th>4</th>\n",
       "      <td>10,000+</td>\n",
       "      <td>10000.0</td>\n",
       "      <td>529100000.0</td>\n",
       "      <td>264550.0</td>\n",
       "      <td>17.79</td>\n",
       "      <td>110.81</td>\n",
       "      <td>20.459967</td>\n",
       "      <td>12930.128600</td>\n",
       "      <td>82888.97226</td>\n",
       "      <td>3453.707177</td>\n",
       "      <td>0.005924</td>\n",
       "      <td>168.803168</td>\n",
       "      <td>1567.209808</td>\n",
       "      <td>1567.21</td>\n",
       "      <td>0.638077</td>\n",
       "    </tr>\n",
       "    <tr>\n",
       "      <th>...</th>\n",
       "      <td>...</td>\n",
       "      <td>...</td>\n",
       "      <td>...</td>\n",
       "      <td>...</td>\n",
       "      <td>...</td>\n",
       "      <td>...</td>\n",
       "      <td>...</td>\n",
       "      <td>...</td>\n",
       "      <td>...</td>\n",
       "      <td>...</td>\n",
       "      <td>...</td>\n",
       "      <td>...</td>\n",
       "      <td>...</td>\n",
       "      <td>...</td>\n",
       "      <td>...</td>\n",
       "    </tr>\n",
       "    <tr>\n",
       "      <th>424</th>\n",
       "      <td>4000-5000x</td>\n",
       "      <td>4500.0</td>\n",
       "      <td>238095000.0</td>\n",
       "      <td>119047.5</td>\n",
       "      <td>24.61</td>\n",
       "      <td>151.73</td>\n",
       "      <td>28.299514</td>\n",
       "      <td>4206.697690</td>\n",
       "      <td>113499.17740</td>\n",
       "      <td>4729.132391</td>\n",
       "      <td>0.005984</td>\n",
       "      <td>167.110022</td>\n",
       "      <td>712.390002</td>\n",
       "      <td>712.39</td>\n",
       "      <td>1.403725</td>\n",
       "    </tr>\n",
       "    <tr>\n",
       "      <th>425</th>\n",
       "      <td>4000-5000x</td>\n",
       "      <td>4500.0</td>\n",
       "      <td>238095000.0</td>\n",
       "      <td>119047.5</td>\n",
       "      <td>24.71</td>\n",
       "      <td>153.80</td>\n",
       "      <td>28.418715</td>\n",
       "      <td>4189.052907</td>\n",
       "      <td>115053.47490</td>\n",
       "      <td>4793.894787</td>\n",
       "      <td>0.005928</td>\n",
       "      <td>168.687951</td>\n",
       "      <td>705.726199</td>\n",
       "      <td>705.73</td>\n",
       "      <td>1.416972</td>\n",
       "    </tr>\n",
       "    <tr>\n",
       "      <th>426</th>\n",
       "      <td>4000-5000x</td>\n",
       "      <td>4500.0</td>\n",
       "      <td>238095000.0</td>\n",
       "      <td>119047.5</td>\n",
       "      <td>24.81</td>\n",
       "      <td>155.88</td>\n",
       "      <td>28.525953</td>\n",
       "      <td>4173.304886</td>\n",
       "      <td>116603.83250</td>\n",
       "      <td>4858.493020</td>\n",
       "      <td>0.005871</td>\n",
       "      <td>170.318341</td>\n",
       "      <td>698.970491</td>\n",
       "      <td>698.97</td>\n",
       "      <td>1.430677</td>\n",
       "    </tr>\n",
       "    <tr>\n",
       "      <th>427</th>\n",
       "      <td>4000-5000x</td>\n",
       "      <td>4500.0</td>\n",
       "      <td>238095000.0</td>\n",
       "      <td>119047.5</td>\n",
       "      <td>24.88</td>\n",
       "      <td>157.94</td>\n",
       "      <td>28.609267</td>\n",
       "      <td>4161.151750</td>\n",
       "      <td>118146.31020</td>\n",
       "      <td>4922.762926</td>\n",
       "      <td>0.005812</td>\n",
       "      <td>172.068826</td>\n",
       "      <td>691.859784</td>\n",
       "      <td>691.86</td>\n",
       "      <td>1.445379</td>\n",
       "    </tr>\n",
       "    <tr>\n",
       "      <th>428</th>\n",
       "      <td>4000-5000x</td>\n",
       "      <td>4500.0</td>\n",
       "      <td>238095000.0</td>\n",
       "      <td>119047.5</td>\n",
       "      <td>24.96</td>\n",
       "      <td>158.99</td>\n",
       "      <td>28.704755</td>\n",
       "      <td>4147.309457</td>\n",
       "      <td>118935.27870</td>\n",
       "      <td>4955.636614</td>\n",
       "      <td>0.005792</td>\n",
       "      <td>172.641665</td>\n",
       "      <td>689.564191</td>\n",
       "      <td>689.56</td>\n",
       "      <td>1.450200</td>\n",
       "    </tr>\n",
       "  </tbody>\n",
       "</table>\n",
       "<p>429 rows × 15 columns</p>\n",
       "</div>"
      ],
      "text/plain": [
       "    Ship Size (TEU)  TEU avg  TEU to weight lbs  TEU to weight - tons  \\\n",
       "0           10,000+  10000.0        529100000.0              264550.0   \n",
       "1           10,000+  10000.0        529100000.0              264550.0   \n",
       "2           10,000+  10000.0        529100000.0              264550.0   \n",
       "3           10,000+  10000.0        529100000.0              264550.0   \n",
       "4           10,000+  10000.0        529100000.0              264550.0   \n",
       "..              ...      ...                ...                   ...   \n",
       "424      4000-5000x   4500.0        238095000.0              119047.5   \n",
       "425      4000-5000x   4500.0        238095000.0              119047.5   \n",
       "426      4000-5000x   4500.0        238095000.0              119047.5   \n",
       "427      4000-5000x   4500.0        238095000.0              119047.5   \n",
       "428      4000-5000x   4500.0        238095000.0              119047.5   \n",
       "\n",
       "     Speed- Knots  Fuel Consumption - Tons per Day  Speed-MPH  \\\n",
       "0           17.48                           103.56  20.102576   \n",
       "1           17.55                           105.62  20.185889   \n",
       "2           17.66                           108.71  20.304878   \n",
       "3           17.74                           109.77  20.400366   \n",
       "4           17.79                           110.81  20.459967   \n",
       "..            ...                              ...        ...   \n",
       "424         24.61                           151.73  28.299514   \n",
       "425         24.71                           153.80  28.418715   \n",
       "426         24.81                           155.88  28.525953   \n",
       "427         24.88                           157.94  28.609267   \n",
       "428         24.96                           158.99  28.704755   \n",
       "\n",
       "     Ton miles per hour  Fuel Consumption - Gallons per day  \\\n",
       "0          13160.004950                         77468.63057   \n",
       "1          13105.689540                         79011.10832   \n",
       "2          13028.888710                         81322.85500   \n",
       "3          12967.904460                         82111.82351   \n",
       "4          12930.128600                         82888.97226   \n",
       "..                  ...                                 ...   \n",
       "424         4206.697690                        113499.17740   \n",
       "425         4189.052907                        115053.47490   \n",
       "426         4173.304886                        116603.83250   \n",
       "427         4161.151750                        118146.31020   \n",
       "428         4147.309457                        118935.27870   \n",
       "\n",
       "     Fuel Consumption- Gallons/hour       MPG  Gallons per mile      Ton MPG  \\\n",
       "0                       3227.859607  0.006228        160.569452  1647.573749   \n",
       "1                       3292.129514  0.006132        163.090634  1622.104198   \n",
       "2                       3388.452292  0.005992        166.878729  1585.282806   \n",
       "3                       3421.325979  0.005963        167.709047  1577.434401   \n",
       "4                       3453.707177  0.005924        168.803168  1567.209808   \n",
       "..                              ...       ...               ...          ...   \n",
       "424                     4729.132391  0.005984        167.110022   712.390002   \n",
       "425                     4793.894787  0.005928        168.687951   705.726199   \n",
       "426                     4858.493020  0.005871        170.318341   698.970491   \n",
       "427                     4922.762926  0.005812        172.068826   691.859784   \n",
       "428                     4955.636614  0.005792        172.641665   689.564191   \n",
       "\n",
       "     Ton MPG cleaner  1000mi_fuel  \n",
       "0            1647.57     0.606954  \n",
       "1            1622.10     0.616485  \n",
       "2            1585.28     0.630803  \n",
       "3            1577.43     0.633943  \n",
       "4            1567.21     0.638077  \n",
       "..               ...          ...  \n",
       "424           712.39     1.403725  \n",
       "425           705.73     1.416972  \n",
       "426           698.97     1.430677  \n",
       "427           691.86     1.445379  \n",
       "428           689.56     1.450200  \n",
       "\n",
       "[429 rows x 15 columns]"
      ]
     },
     "execution_count": 29,
     "metadata": {},
     "output_type": "execute_result"
    }
   ],
   "source": [
    "ship['1000mi_fuel'] = 1000/ship['Ton MPG cleaner']\n",
    "ship"
   ]
  },
  {
   "cell_type": "code",
   "execution_count": 30,
   "id": "95466454",
   "metadata": {},
   "outputs": [],
   "source": [
    "ship1000 = ship[['Ship Size (TEU)', 'Speed-MPH', '1000mi_fuel']]"
   ]
  },
  {
   "cell_type": "code",
   "execution_count": 33,
   "id": "91611a76",
   "metadata": {},
   "outputs": [
    {
     "name": "stderr",
     "output_type": "stream",
     "text": [
      "<ipython-input-33-46fbe32d4529>:4: SettingWithCopyWarning: \n",
      "A value is trying to be set on a copy of a slice from a DataFrame.\n",
      "Try using .loc[row_indexer,col_indexer] = value instead\n",
      "\n",
      "See the caveats in the documentation: https://pandas.pydata.org/pandas-docs/stable/user_guide/indexing.html#returning-a-view-versus-a-copy\n",
      "  ship1000['Speed-MPH']=ship1000['Speed-MPH'].round()\n"
     ]
    }
   ],
   "source": [
    "#I'm only interested in ships that travel at 22mph and 26 mph.  avg slow speed and avg regular speed.  \n",
    "#rounding numbers to find those more easily\n",
    "\n",
    "ship1000['Speed-MPH']=ship1000['Speed-MPH'].round()"
   ]
  },
  {
   "cell_type": "code",
   "execution_count": 32,
   "id": "3674b284",
   "metadata": {
    "scrolled": false
   },
   "outputs": [
    {
     "data": {
      "text/html": [
       "<div>\n",
       "<style scoped>\n",
       "    .dataframe tbody tr th:only-of-type {\n",
       "        vertical-align: middle;\n",
       "    }\n",
       "\n",
       "    .dataframe tbody tr th {\n",
       "        vertical-align: top;\n",
       "    }\n",
       "\n",
       "    .dataframe thead th {\n",
       "        text-align: right;\n",
       "    }\n",
       "</style>\n",
       "<table border=\"1\" class=\"dataframe\">\n",
       "  <thead>\n",
       "    <tr style=\"text-align: right;\">\n",
       "      <th></th>\n",
       "      <th>Ship Size (TEU)</th>\n",
       "      <th>Speed-MPH</th>\n",
       "      <th>1000mi_fuel</th>\n",
       "    </tr>\n",
       "  </thead>\n",
       "  <tbody>\n",
       "    <tr>\n",
       "      <th>0</th>\n",
       "      <td>10,000+</td>\n",
       "      <td>20.0</td>\n",
       "      <td>0.606954</td>\n",
       "    </tr>\n",
       "    <tr>\n",
       "      <th>1</th>\n",
       "      <td>10,000+</td>\n",
       "      <td>20.0</td>\n",
       "      <td>0.616485</td>\n",
       "    </tr>\n",
       "    <tr>\n",
       "      <th>2</th>\n",
       "      <td>10,000+</td>\n",
       "      <td>20.0</td>\n",
       "      <td>0.630803</td>\n",
       "    </tr>\n",
       "    <tr>\n",
       "      <th>3</th>\n",
       "      <td>10,000+</td>\n",
       "      <td>20.0</td>\n",
       "      <td>0.633943</td>\n",
       "    </tr>\n",
       "    <tr>\n",
       "      <th>4</th>\n",
       "      <td>10,000+</td>\n",
       "      <td>20.0</td>\n",
       "      <td>0.638077</td>\n",
       "    </tr>\n",
       "    <tr>\n",
       "      <th>...</th>\n",
       "      <td>...</td>\n",
       "      <td>...</td>\n",
       "      <td>...</td>\n",
       "    </tr>\n",
       "    <tr>\n",
       "      <th>424</th>\n",
       "      <td>4000-5000x</td>\n",
       "      <td>28.0</td>\n",
       "      <td>1.403725</td>\n",
       "    </tr>\n",
       "    <tr>\n",
       "      <th>425</th>\n",
       "      <td>4000-5000x</td>\n",
       "      <td>28.0</td>\n",
       "      <td>1.416972</td>\n",
       "    </tr>\n",
       "    <tr>\n",
       "      <th>426</th>\n",
       "      <td>4000-5000x</td>\n",
       "      <td>29.0</td>\n",
       "      <td>1.430677</td>\n",
       "    </tr>\n",
       "    <tr>\n",
       "      <th>427</th>\n",
       "      <td>4000-5000x</td>\n",
       "      <td>29.0</td>\n",
       "      <td>1.445379</td>\n",
       "    </tr>\n",
       "    <tr>\n",
       "      <th>428</th>\n",
       "      <td>4000-5000x</td>\n",
       "      <td>29.0</td>\n",
       "      <td>1.450200</td>\n",
       "    </tr>\n",
       "  </tbody>\n",
       "</table>\n",
       "<p>429 rows × 3 columns</p>\n",
       "</div>"
      ],
      "text/plain": [
       "    Ship Size (TEU)  Speed-MPH  1000mi_fuel\n",
       "0           10,000+       20.0     0.606954\n",
       "1           10,000+       20.0     0.616485\n",
       "2           10,000+       20.0     0.630803\n",
       "3           10,000+       20.0     0.633943\n",
       "4           10,000+       20.0     0.638077\n",
       "..              ...        ...          ...\n",
       "424      4000-5000x       28.0     1.403725\n",
       "425      4000-5000x       28.0     1.416972\n",
       "426      4000-5000x       29.0     1.430677\n",
       "427      4000-5000x       29.0     1.445379\n",
       "428      4000-5000x       29.0     1.450200\n",
       "\n",
       "[429 rows x 3 columns]"
      ]
     },
     "execution_count": 32,
     "metadata": {},
     "output_type": "execute_result"
    }
   ],
   "source": [
    "ship1000"
   ]
  },
  {
   "cell_type": "code",
   "execution_count": 34,
   "id": "d49413ec",
   "metadata": {},
   "outputs": [],
   "source": [
    "ship1000 = ship1000.loc[ship1000['Speed-MPH'].isin([22.0, 26.0])]"
   ]
  },
  {
   "cell_type": "code",
   "execution_count": 36,
   "id": "734a04a5",
   "metadata": {},
   "outputs": [
    {
     "name": "stdout",
     "output_type": "stream",
     "text": [
      "<class 'pandas.core.frame.DataFrame'>\n",
      "Int64Index: 100 entries, 14 to 412\n",
      "Data columns (total 3 columns):\n",
      " #   Column           Non-Null Count  Dtype  \n",
      "---  ------           --------------  -----  \n",
      " 0   Ship Size (TEU)  100 non-null    object \n",
      " 1   Speed-MPH        100 non-null    float64\n",
      " 2   1000mi_fuel      100 non-null    float64\n",
      "dtypes: float64(2), object(1)\n",
      "memory usage: 3.1+ KB\n"
     ]
    }
   ],
   "source": [
    "ship1000.info()"
   ]
  },
  {
   "cell_type": "code",
   "execution_count": 37,
   "id": "41a4f5de",
   "metadata": {},
   "outputs": [],
   "source": [
    "#I want to know the average amount of fuel used to move 1ton 1000 miles - by size and speed of ship\n",
    "\n",
    "ship1000_result = ship1000.groupby(['Ship Size (TEU)', 'Speed-MPH'])['1000mi_fuel'].mean()\n",
    "                                                          "
   ]
  },
  {
   "cell_type": "code",
   "execution_count": 38,
   "id": "198e0557",
   "metadata": {
    "scrolled": true
   },
   "outputs": [
    {
     "data": {
      "text/plain": [
       "Ship Size (TEU)  Speed-MPH\n",
       "10,000+          22.0         0.763665\n",
       "                 26.0         1.184926\n",
       "4000-5000x       22.0         0.714989\n",
       "                 26.0         1.133210\n",
       "5000-6000x       22.0         0.646088\n",
       "                 26.0         1.021415\n",
       "7000-8000x       22.0         0.642125\n",
       "                 26.0         1.004623\n",
       "8000-9000x       22.0         0.634577\n",
       "                 26.0         0.995028\n",
       "9000-10000x      22.0         0.643977\n",
       "                 26.0         0.996243\n",
       "Name: 1000mi_fuel, dtype: float64"
      ]
     },
     "execution_count": 38,
     "metadata": {},
     "output_type": "execute_result"
    }
   ],
   "source": [
    "ship1000_result"
   ]
  },
  {
   "cell_type": "code",
   "execution_count": 39,
   "id": "238f10af",
   "metadata": {},
   "outputs": [
    {
     "data": {
      "text/plain": [
       "pandas.core.series.Series"
      ]
     },
     "execution_count": 39,
     "metadata": {},
     "output_type": "execute_result"
    }
   ],
   "source": [
    "#that's not a df ... what is that?  I need to convert it to a df to be plottable\n",
    "\n",
    "type(ship1000_result)"
   ]
  },
  {
   "cell_type": "code",
   "execution_count": 40,
   "id": "967e6fc2",
   "metadata": {},
   "outputs": [],
   "source": [
    "ship1000_result = pd.DataFrame(ship1000_result).reset_index()"
   ]
  },
  {
   "cell_type": "code",
   "execution_count": 41,
   "id": "5b7c4abb",
   "metadata": {
    "scrolled": true
   },
   "outputs": [
    {
     "data": {
      "text/html": [
       "<div>\n",
       "<style scoped>\n",
       "    .dataframe tbody tr th:only-of-type {\n",
       "        vertical-align: middle;\n",
       "    }\n",
       "\n",
       "    .dataframe tbody tr th {\n",
       "        vertical-align: top;\n",
       "    }\n",
       "\n",
       "    .dataframe thead th {\n",
       "        text-align: right;\n",
       "    }\n",
       "</style>\n",
       "<table border=\"1\" class=\"dataframe\">\n",
       "  <thead>\n",
       "    <tr style=\"text-align: right;\">\n",
       "      <th></th>\n",
       "      <th>Ship Size (TEU)</th>\n",
       "      <th>Speed-MPH</th>\n",
       "      <th>1000mi_fuel</th>\n",
       "    </tr>\n",
       "  </thead>\n",
       "  <tbody>\n",
       "    <tr>\n",
       "      <th>0</th>\n",
       "      <td>10,000+</td>\n",
       "      <td>22.0</td>\n",
       "      <td>0.763665</td>\n",
       "    </tr>\n",
       "    <tr>\n",
       "      <th>1</th>\n",
       "      <td>10,000+</td>\n",
       "      <td>26.0</td>\n",
       "      <td>1.184926</td>\n",
       "    </tr>\n",
       "    <tr>\n",
       "      <th>2</th>\n",
       "      <td>4000-5000x</td>\n",
       "      <td>22.0</td>\n",
       "      <td>0.714989</td>\n",
       "    </tr>\n",
       "    <tr>\n",
       "      <th>3</th>\n",
       "      <td>4000-5000x</td>\n",
       "      <td>26.0</td>\n",
       "      <td>1.133210</td>\n",
       "    </tr>\n",
       "    <tr>\n",
       "      <th>4</th>\n",
       "      <td>5000-6000x</td>\n",
       "      <td>22.0</td>\n",
       "      <td>0.646088</td>\n",
       "    </tr>\n",
       "    <tr>\n",
       "      <th>5</th>\n",
       "      <td>5000-6000x</td>\n",
       "      <td>26.0</td>\n",
       "      <td>1.021415</td>\n",
       "    </tr>\n",
       "    <tr>\n",
       "      <th>6</th>\n",
       "      <td>7000-8000x</td>\n",
       "      <td>22.0</td>\n",
       "      <td>0.642125</td>\n",
       "    </tr>\n",
       "    <tr>\n",
       "      <th>7</th>\n",
       "      <td>7000-8000x</td>\n",
       "      <td>26.0</td>\n",
       "      <td>1.004623</td>\n",
       "    </tr>\n",
       "    <tr>\n",
       "      <th>8</th>\n",
       "      <td>8000-9000x</td>\n",
       "      <td>22.0</td>\n",
       "      <td>0.634577</td>\n",
       "    </tr>\n",
       "    <tr>\n",
       "      <th>9</th>\n",
       "      <td>8000-9000x</td>\n",
       "      <td>26.0</td>\n",
       "      <td>0.995028</td>\n",
       "    </tr>\n",
       "    <tr>\n",
       "      <th>10</th>\n",
       "      <td>9000-10000x</td>\n",
       "      <td>22.0</td>\n",
       "      <td>0.643977</td>\n",
       "    </tr>\n",
       "    <tr>\n",
       "      <th>11</th>\n",
       "      <td>9000-10000x</td>\n",
       "      <td>26.0</td>\n",
       "      <td>0.996243</td>\n",
       "    </tr>\n",
       "  </tbody>\n",
       "</table>\n",
       "</div>"
      ],
      "text/plain": [
       "   Ship Size (TEU)  Speed-MPH  1000mi_fuel\n",
       "0          10,000+       22.0     0.763665\n",
       "1          10,000+       26.0     1.184926\n",
       "2       4000-5000x       22.0     0.714989\n",
       "3       4000-5000x       26.0     1.133210\n",
       "4       5000-6000x       22.0     0.646088\n",
       "5       5000-6000x       26.0     1.021415\n",
       "6       7000-8000x       22.0     0.642125\n",
       "7       7000-8000x       26.0     1.004623\n",
       "8       8000-9000x       22.0     0.634577\n",
       "9       8000-9000x       26.0     0.995028\n",
       "10     9000-10000x       22.0     0.643977\n",
       "11     9000-10000x       26.0     0.996243"
      ]
     },
     "execution_count": 41,
     "metadata": {},
     "output_type": "execute_result"
    }
   ],
   "source": [
    "ship1000_result"
   ]
  },
  {
   "cell_type": "code",
   "execution_count": 42,
   "id": "c0a11091",
   "metadata": {},
   "outputs": [],
   "source": [
    "#Deleting the 10000+ metric because the data is flawed\n",
    "\n",
    "ship1000_result = ship1000_result[ship1000_result['Ship Size (TEU)'] != '10,000+']"
   ]
  },
  {
   "cell_type": "code",
   "execution_count": 43,
   "id": "769de663",
   "metadata": {
    "scrolled": true
   },
   "outputs": [],
   "source": [
    "ship1000_result = ship1000_result.sort_values(by = 'Ship Size (TEU)').reset_index()"
   ]
  },
  {
   "cell_type": "code",
   "execution_count": 87,
   "id": "e60b47eb",
   "metadata": {
    "scrolled": false
   },
   "outputs": [
    {
     "data": {
      "text/plain": [
       "Text(0.5, 1.0, 'Average Gallons of Fuel Consumed in 1000 Miles (per ton of cargo)')"
      ]
     },
     "execution_count": 87,
     "metadata": {},
     "output_type": "execute_result"
    },
    {
     "data": {
      "image/png": "[encoded data removed]",
      "text/plain": [
       "<Figure size 936x576 with 1 Axes>"
      ]
     },
     "metadata": {},
     "output_type": "display_data"
    }
   ],
   "source": [
    "fig, ax = plt.subplots(figsize=(13,8))\n",
    "\n",
    "d = sns.lineplot(data = ship1000_result, x = 'Ship Size (TEU)', y = '1000mi_fuel', hue = 'Speed-MPH',\n",
    "                style = \"Speed-MPH\", marker=\"o\", palette = ['r','b'])\n",
    "plt.xticks(rotation=45)\n",
    "d.set(xlabel = 'Ship Size (TEU)', ylabel = 'Gallons of Fuel')\n",
    "d.set_title('Average Gallons of Fuel Consumed in 1000 Miles (per ton of cargo)')"
   ]
  },
  {
   "cell_type": "markdown",
   "id": "d3722675",
   "metadata": {},
   "source": [
    "# 1000 MILES FUEL - TRUCK"
   ]
  },
  {
   "cell_type": "code",
   "execution_count": 48,
   "id": "eb062ae6",
   "metadata": {},
   "outputs": [
    {
     "data": {
      "text/html": [
       "<div>\n",
       "<style scoped>\n",
       "    .dataframe tbody tr th:only-of-type {\n",
       "        vertical-align: middle;\n",
       "    }\n",
       "\n",
       "    .dataframe tbody tr th {\n",
       "        vertical-align: top;\n",
       "    }\n",
       "\n",
       "    .dataframe thead th {\n",
       "        text-align: right;\n",
       "    }\n",
       "</style>\n",
       "<table border=\"1\" class=\"dataframe\">\n",
       "  <thead>\n",
       "    <tr style=\"text-align: right;\">\n",
       "      <th></th>\n",
       "      <th>Avg weight/tons</th>\n",
       "      <th>Value</th>\n",
       "      <th>Ton_MPG</th>\n",
       "      <th>truck_types</th>\n",
       "    </tr>\n",
       "  </thead>\n",
       "  <tbody>\n",
       "    <tr>\n",
       "      <th>0</th>\n",
       "      <td>5</td>\n",
       "      <td>18.152113</td>\n",
       "      <td>90.760563</td>\n",
       "      <td>Light Duty - Short Wheelbase</td>\n",
       "    </tr>\n",
       "    <tr>\n",
       "      <th>1</th>\n",
       "      <td>10</td>\n",
       "      <td>14.905556</td>\n",
       "      <td>149.055556</td>\n",
       "      <td>Light Duty - Long Wheelbase</td>\n",
       "    </tr>\n",
       "    <tr>\n",
       "      <th>2</th>\n",
       "      <td>22</td>\n",
       "      <td>6.491549</td>\n",
       "      <td>142.814085</td>\n",
       "      <td>Heavy Duty</td>\n",
       "    </tr>\n",
       "  </tbody>\n",
       "</table>\n",
       "</div>"
      ],
      "text/plain": [
       "   Avg weight/tons      Value     Ton_MPG                   truck_types\n",
       "0                5  18.152113   90.760563  Light Duty - Short Wheelbase\n",
       "1               10  14.905556  149.055556   Light Duty - Long Wheelbase\n",
       "2               22   6.491549  142.814085                    Heavy Duty"
      ]
     },
     "execution_count": 48,
     "metadata": {},
     "output_type": "execute_result"
    }
   ],
   "source": [
    "#gallons of fuel used per ton of cargo for trucks per 1000 miles\n",
    "\n",
    "truck_visual2"
   ]
  },
  {
   "cell_type": "code",
   "execution_count": 49,
   "id": "b27bdc3b",
   "metadata": {},
   "outputs": [],
   "source": [
    "truck_visual2 = truck_visual2.rename(columns={'Value':'MPG'})"
   ]
  },
  {
   "cell_type": "code",
   "execution_count": 50,
   "id": "25d50344",
   "metadata": {},
   "outputs": [
    {
     "data": {
      "text/html": [
       "<div>\n",
       "<style scoped>\n",
       "    .dataframe tbody tr th:only-of-type {\n",
       "        vertical-align: middle;\n",
       "    }\n",
       "\n",
       "    .dataframe tbody tr th {\n",
       "        vertical-align: top;\n",
       "    }\n",
       "\n",
       "    .dataframe thead th {\n",
       "        text-align: right;\n",
       "    }\n",
       "</style>\n",
       "<table border=\"1\" class=\"dataframe\">\n",
       "  <thead>\n",
       "    <tr style=\"text-align: right;\">\n",
       "      <th></th>\n",
       "      <th>Avg weight/tons</th>\n",
       "      <th>MPG</th>\n",
       "      <th>Ton_MPG</th>\n",
       "      <th>truck_types</th>\n",
       "      <th>1000mi</th>\n",
       "    </tr>\n",
       "  </thead>\n",
       "  <tbody>\n",
       "    <tr>\n",
       "      <th>0</th>\n",
       "      <td>5</td>\n",
       "      <td>18.152113</td>\n",
       "      <td>90.760563</td>\n",
       "      <td>Light Duty - Short Wheelbase</td>\n",
       "      <td>11.018001</td>\n",
       "    </tr>\n",
       "    <tr>\n",
       "      <th>1</th>\n",
       "      <td>10</td>\n",
       "      <td>14.905556</td>\n",
       "      <td>149.055556</td>\n",
       "      <td>Light Duty - Long Wheelbase</td>\n",
       "      <td>6.708908</td>\n",
       "    </tr>\n",
       "    <tr>\n",
       "      <th>2</th>\n",
       "      <td>22</td>\n",
       "      <td>6.491549</td>\n",
       "      <td>142.814085</td>\n",
       "      <td>Heavy Duty</td>\n",
       "      <td>7.002110</td>\n",
       "    </tr>\n",
       "  </tbody>\n",
       "</table>\n",
       "</div>"
      ],
      "text/plain": [
       "   Avg weight/tons        MPG     Ton_MPG                   truck_types  \\\n",
       "0                5  18.152113   90.760563  Light Duty - Short Wheelbase   \n",
       "1               10  14.905556  149.055556   Light Duty - Long Wheelbase   \n",
       "2               22   6.491549  142.814085                    Heavy Duty   \n",
       "\n",
       "      1000mi  \n",
       "0  11.018001  \n",
       "1   6.708908  \n",
       "2   7.002110  "
      ]
     },
     "execution_count": 50,
     "metadata": {},
     "output_type": "execute_result"
    }
   ],
   "source": [
    "truck_visual2['1000mi']= 1000/truck_visual2['Ton_MPG']\n",
    "truck_visual2"
   ]
  },
  {
   "cell_type": "code",
   "execution_count": 93,
   "id": "78ddce07",
   "metadata": {
    "scrolled": false
   },
   "outputs": [
    {
     "data": {
      "image/png": "[encoded data removed]",
      "text/plain": [
       "<Figure size 936x576 with 1 Axes>"
      ]
     },
     "metadata": {},
     "output_type": "display_data"
    }
   ],
   "source": [
    "sns.set_palette(\"ch:start=0, rot=-.3\")\n",
    "\n",
    "e = sns.barplot(data=truck_visual2, x='truck_types', y='1000mi')\n",
    "e.set(xlabel = 'Size of Truck', ylabel = 'Gallons of Fuel')\n",
    "e.set_title('Average Gallons of Fuel Consumed in 1000 Miles (per ton of cargo)')\n",
    "\n",
    "show_values(e)"
   ]
  },
  {
   "cell_type": "markdown",
   "id": "09967a7d",
   "metadata": {},
   "source": [
    "# 1000 MILES FUEL - PLANE/TRAIN"
   ]
  },
  {
   "cell_type": "code",
   "execution_count": 52,
   "id": "21399854",
   "metadata": {
    "scrolled": true
   },
   "outputs": [
    {
     "data": {
      "text/html": [
       "<div>\n",
       "<style scoped>\n",
       "    .dataframe tbody tr th:only-of-type {\n",
       "        vertical-align: middle;\n",
       "    }\n",
       "\n",
       "    .dataframe tbody tr th {\n",
       "        vertical-align: top;\n",
       "    }\n",
       "\n",
       "    .dataframe thead th {\n",
       "        text-align: right;\n",
       "    }\n",
       "</style>\n",
       "<table border=\"1\" class=\"dataframe\">\n",
       "  <thead>\n",
       "    <tr style=\"text-align: right;\">\n",
       "      <th></th>\n",
       "      <th>Type</th>\n",
       "      <th>Avg. Ton MPG</th>\n",
       "    </tr>\n",
       "  </thead>\n",
       "  <tbody>\n",
       "    <tr>\n",
       "      <th>0</th>\n",
       "      <td>Plane</td>\n",
       "      <td>4.5</td>\n",
       "    </tr>\n",
       "    <tr>\n",
       "      <th>1</th>\n",
       "      <td>Train</td>\n",
       "      <td>436.0</td>\n",
       "    </tr>\n",
       "  </tbody>\n",
       "</table>\n",
       "</div>"
      ],
      "text/plain": [
       "    Type  Avg. Ton MPG\n",
       "0  Plane           4.5\n",
       "1  Train         436.0"
      ]
     },
     "execution_count": 52,
     "metadata": {},
     "output_type": "execute_result"
    }
   ],
   "source": [
    "Plane_Train_TonMPG_viz"
   ]
  },
  {
   "cell_type": "code",
   "execution_count": 53,
   "id": "61dd98a8",
   "metadata": {},
   "outputs": [],
   "source": [
    "Plane_Train_TonMPG_viz['1000mi_gallons'] = 1000/Plane_Train_TonMPG_viz['Avg. Ton MPG']"
   ]
  },
  {
   "cell_type": "markdown",
   "id": "ae8e4bf4",
   "metadata": {},
   "source": [
    "'''#Plane gallons per hour info source: https://www.usatoday.com/story/travel/columnist/cox/2014/10/12/boeing-737/17036931/\n",
    "#plane burns 5000 lbs fuel/hour.  1 lb jetfuel = 6.8 lbs.  = 735.29 gallons/hour\n",
    "#1000 miles(land) = 2.05 hours (data per mph workbook) = 1507.35 gallons per 1000 miles\n",
    "\n",
    "#train gallons per hour info source: https://www.csx.com/index.cfm/about-us/the-csx-advantage/fuel-efficiency/\n",
    "#trains burn 3049 gallons/fuel per 500 miles (with avg haul of 3000 tons).  1000 miles = 6098 gallons of fuel\n",
    "\n",
    "mi1000 = [1507.35, 6098]\n",
    "Plane_Train_TonMPG_viz['1000mi'] = mi1000'''\n",
    "\n",
    "#was considering looking through the lens of total number of gallons used per hour by vehicle, not by ton\n",
    "#reconsidered, but don't want to lose the sources I found - so leaving this here"
   ]
  },
  {
   "cell_type": "code",
   "execution_count": 55,
   "id": "952e73a7",
   "metadata": {
    "scrolled": true
   },
   "outputs": [
    {
     "data": {
      "text/html": [
       "<div>\n",
       "<style scoped>\n",
       "    .dataframe tbody tr th:only-of-type {\n",
       "        vertical-align: middle;\n",
       "    }\n",
       "\n",
       "    .dataframe tbody tr th {\n",
       "        vertical-align: top;\n",
       "    }\n",
       "\n",
       "    .dataframe thead th {\n",
       "        text-align: right;\n",
       "    }\n",
       "</style>\n",
       "<table border=\"1\" class=\"dataframe\">\n",
       "  <thead>\n",
       "    <tr style=\"text-align: right;\">\n",
       "      <th></th>\n",
       "      <th>Type</th>\n",
       "      <th>Avg. Ton MPG</th>\n",
       "      <th>1000mi_gallons</th>\n",
       "    </tr>\n",
       "  </thead>\n",
       "  <tbody>\n",
       "    <tr>\n",
       "      <th>0</th>\n",
       "      <td>Plane</td>\n",
       "      <td>4.5</td>\n",
       "      <td>222.222222</td>\n",
       "    </tr>\n",
       "    <tr>\n",
       "      <th>1</th>\n",
       "      <td>Train</td>\n",
       "      <td>436.0</td>\n",
       "      <td>2.293578</td>\n",
       "    </tr>\n",
       "  </tbody>\n",
       "</table>\n",
       "</div>"
      ],
      "text/plain": [
       "    Type  Avg. Ton MPG  1000mi_gallons\n",
       "0  Plane           4.5      222.222222\n",
       "1  Train         436.0        2.293578"
      ]
     },
     "execution_count": 55,
     "metadata": {},
     "output_type": "execute_result"
    }
   ],
   "source": [
    "Plane_Train_TonMPG_viz"
   ]
  },
  {
   "cell_type": "code",
   "execution_count": 57,
   "id": "4ad40a65",
   "metadata": {
    "scrolled": false
   },
   "outputs": [
    {
     "data": {
      "image/png": "[encoded data removed]",
      "text/plain": [
       "<Figure size 936x576 with 1 Axes>"
      ]
     },
     "metadata": {},
     "output_type": "display_data"
    }
   ],
   "source": [
    "sns.set_palette(\"colorblind\")\n",
    "\n",
    "f = sns.barplot(data=Plane_Train_TonMPG_viz, x='Type', y='1000mi_gallons')\n",
    "f.set(xlabel = '', ylabel = 'Gallons of Fuel')\n",
    "f.set_title('Average Gallons of Fuel Consumed in 1000 Miles (per ton of cargo)')\n",
    "\n",
    "show_values(f)"
   ]
  },
  {
   "cell_type": "code",
   "execution_count": null,
   "id": "2b7c0cb9",
   "metadata": {},
   "outputs": [],
   "source": []
  },
  {
   "cell_type": "markdown",
   "id": "4a4d8a10",
   "metadata": {},
   "source": [
    "# Carbon Emissions 1000 miles work"
   ]
  },
  {
   "cell_type": "markdown",
   "id": "caf53b70",
   "metadata": {},
   "source": [
    "Turns out it would be a lot easier to get my carbon emissions per 1000 miles data by moving my carbon data over here, rather than trying to move all these transport methods to that notebook"
   ]
  },
  {
   "cell_type": "markdown",
   "id": "cb011676",
   "metadata": {},
   "source": [
    "How many tons of carbon are produced when moving 1 ton cargo 1000 miles?"
   ]
  },
  {
   "cell_type": "code",
   "execution_count": 60,
   "id": "d8347eab",
   "metadata": {
    "scrolled": true
   },
   "outputs": [
    {
     "data": {
      "text/html": [
       "<div>\n",
       "<style scoped>\n",
       "    .dataframe tbody tr th:only-of-type {\n",
       "        vertical-align: middle;\n",
       "    }\n",
       "\n",
       "    .dataframe tbody tr th {\n",
       "        vertical-align: top;\n",
       "    }\n",
       "\n",
       "    .dataframe thead th {\n",
       "        text-align: right;\n",
       "    }\n",
       "</style>\n",
       "<table border=\"1\" class=\"dataframe\">\n",
       "  <thead>\n",
       "    <tr style=\"text-align: right;\">\n",
       "      <th></th>\n",
       "      <th>Type of fuel:</th>\n",
       "      <th>Pounds CO2</th>\n",
       "      <th>lbs co2 unit of measure</th>\n",
       "      <th>Kilograms CO2</th>\n",
       "      <th>kilo co2 unit of measure</th>\n",
       "      <th>Pounds CO2 per million btu</th>\n",
       "      <th>Kilograms CO2 per million btu</th>\n",
       "    </tr>\n",
       "  </thead>\n",
       "  <tbody>\n",
       "    <tr>\n",
       "      <th>0</th>\n",
       "      <td>Propane</td>\n",
       "      <td>12.61</td>\n",
       "      <td>gallon</td>\n",
       "      <td>5.72</td>\n",
       "      <td>gallon</td>\n",
       "      <td>138.63</td>\n",
       "      <td>62.88</td>\n",
       "    </tr>\n",
       "    <tr>\n",
       "      <th>1</th>\n",
       "      <td>Diesel and Home Heating Fuel (Distillate Fuel ...</td>\n",
       "      <td>22.46</td>\n",
       "      <td>gallon</td>\n",
       "      <td>10.19</td>\n",
       "      <td>gallon</td>\n",
       "      <td>163.45</td>\n",
       "      <td>74.14</td>\n",
       "    </tr>\n",
       "    <tr>\n",
       "      <th>2</th>\n",
       "      <td>Kerosene</td>\n",
       "      <td>21.78</td>\n",
       "      <td>gallon</td>\n",
       "      <td>9.88</td>\n",
       "      <td>gallon</td>\n",
       "      <td>161.35</td>\n",
       "      <td>73.19</td>\n",
       "    </tr>\n",
       "    <tr>\n",
       "      <th>3</th>\n",
       "      <td>Coal (All types)</td>\n",
       "      <td>4,027.93</td>\n",
       "      <td>short ton</td>\n",
       "      <td>1,827.04</td>\n",
       "      <td>short ton</td>\n",
       "      <td>211.06</td>\n",
       "      <td>95.74</td>\n",
       "    </tr>\n",
       "    <tr>\n",
       "      <th>4</th>\n",
       "      <td>Natural Gas</td>\n",
       "      <td>121.31</td>\n",
       "      <td>thousand cubic feet</td>\n",
       "      <td>55.03</td>\n",
       "      <td>thousand cubic feet</td>\n",
       "      <td>116.65</td>\n",
       "      <td>52.91</td>\n",
       "    </tr>\n",
       "    <tr>\n",
       "      <th>5</th>\n",
       "      <td>Gasoline</td>\n",
       "      <td>18.74</td>\n",
       "      <td>gallon</td>\n",
       "      <td>8.5</td>\n",
       "      <td>gallon</td>\n",
       "      <td>155.77</td>\n",
       "      <td>70.66</td>\n",
       "    </tr>\n",
       "    <tr>\n",
       "      <th>6</th>\n",
       "      <td>Residual Heating Fuel (Businesses only)</td>\n",
       "      <td>24.78</td>\n",
       "      <td>gallon</td>\n",
       "      <td>11.24</td>\n",
       "      <td>gallon</td>\n",
       "      <td>165.55</td>\n",
       "      <td>75.09</td>\n",
       "    </tr>\n",
       "    <tr>\n",
       "      <th>7</th>\n",
       "      <td>Jet Fuel</td>\n",
       "      <td>21.5</td>\n",
       "      <td>gallon</td>\n",
       "      <td>9.75</td>\n",
       "      <td>gallon</td>\n",
       "      <td>159.25</td>\n",
       "      <td>72.23</td>\n",
       "    </tr>\n",
       "    <tr>\n",
       "      <th>8</th>\n",
       "      <td>Aviation Gasoline</td>\n",
       "      <td>18.32</td>\n",
       "      <td>gallon</td>\n",
       "      <td>8.31</td>\n",
       "      <td>gallon</td>\n",
       "      <td>152.46</td>\n",
       "      <td>69.15</td>\n",
       "    </tr>\n",
       "    <tr>\n",
       "      <th>9</th>\n",
       "      <td>Petroleum coke</td>\n",
       "      <td>32.87</td>\n",
       "      <td>gallon</td>\n",
       "      <td>14.91</td>\n",
       "      <td>gallon</td>\n",
       "      <td>225.13</td>\n",
       "      <td>102.12</td>\n",
       "    </tr>\n",
       "    <tr>\n",
       "      <th>10</th>\n",
       "      <td>Asphalt and Road Oil</td>\n",
       "      <td>26.25</td>\n",
       "      <td>gallon</td>\n",
       "      <td>11.91</td>\n",
       "      <td>gallon</td>\n",
       "      <td>166.12</td>\n",
       "      <td>75.35</td>\n",
       "    </tr>\n",
       "    <tr>\n",
       "      <th>11</th>\n",
       "      <td>Lubricants</td>\n",
       "      <td>23.58</td>\n",
       "      <td>gallon</td>\n",
       "      <td>10.7</td>\n",
       "      <td>gallon</td>\n",
       "      <td>163.29</td>\n",
       "      <td>74.07</td>\n",
       "    </tr>\n",
       "    <tr>\n",
       "      <th>12</th>\n",
       "      <td>Naphthas for Petrochemical Feedstock Use</td>\n",
       "      <td>18.74</td>\n",
       "      <td>gallon</td>\n",
       "      <td>8.5</td>\n",
       "      <td>gallon</td>\n",
       "      <td>149.95</td>\n",
       "      <td>68.02</td>\n",
       "    </tr>\n",
       "    <tr>\n",
       "      <th>13</th>\n",
       "      <td>Other Oils for Petrochemical Feedstock Use</td>\n",
       "      <td>22.61</td>\n",
       "      <td>gallon</td>\n",
       "      <td>10.26</td>\n",
       "      <td>gallon</td>\n",
       "      <td>163.05</td>\n",
       "      <td>73.96</td>\n",
       "    </tr>\n",
       "    <tr>\n",
       "      <th>14</th>\n",
       "      <td>Special Naphthas (solvents)</td>\n",
       "      <td>19.94</td>\n",
       "      <td>gallon</td>\n",
       "      <td>9.04</td>\n",
       "      <td>gallon</td>\n",
       "      <td>159.57</td>\n",
       "      <td>72.38</td>\n",
       "    </tr>\n",
       "    <tr>\n",
       "      <th>15</th>\n",
       "      <td>Waxes</td>\n",
       "      <td>21.1</td>\n",
       "      <td>gallon</td>\n",
       "      <td>9.57</td>\n",
       "      <td>gallon</td>\n",
       "      <td>160.06</td>\n",
       "      <td>72.60</td>\n",
       "    </tr>\n",
       "    <tr>\n",
       "      <th>16</th>\n",
       "      <td>Anthracite coal</td>\n",
       "      <td>5,715.11</td>\n",
       "      <td>short ton</td>\n",
       "      <td>2,592.33</td>\n",
       "      <td>short ton</td>\n",
       "      <td>228.60</td>\n",
       "      <td>103.69</td>\n",
       "    </tr>\n",
       "    <tr>\n",
       "      <th>17</th>\n",
       "      <td>Bituminous coal</td>\n",
       "      <td>4,929.71</td>\n",
       "      <td>short ton</td>\n",
       "      <td>2,236.08</td>\n",
       "      <td>short ton</td>\n",
       "      <td>205.40</td>\n",
       "      <td>93.17</td>\n",
       "    </tr>\n",
       "    <tr>\n",
       "      <th>18</th>\n",
       "      <td>Subbituminous coal</td>\n",
       "      <td>3,747.36</td>\n",
       "      <td>short ton</td>\n",
       "      <td>1,699.78</td>\n",
       "      <td>short ton</td>\n",
       "      <td>214.13</td>\n",
       "      <td>97.13</td>\n",
       "    </tr>\n",
       "    <tr>\n",
       "      <th>19</th>\n",
       "      <td>Lignite coal</td>\n",
       "      <td>2,811.07</td>\n",
       "      <td>short ton</td>\n",
       "      <td>1,275.08</td>\n",
       "      <td>short ton</td>\n",
       "      <td>216.24</td>\n",
       "      <td>98.08</td>\n",
       "    </tr>\n",
       "    <tr>\n",
       "      <th>20</th>\n",
       "      <td>Coke coal</td>\n",
       "      <td>7,174.19</td>\n",
       "      <td>short ton</td>\n",
       "      <td>3,254.16</td>\n",
       "      <td>short ton</td>\n",
       "      <td>250.59</td>\n",
       "      <td>113.67</td>\n",
       "    </tr>\n",
       "    <tr>\n",
       "      <th>21</th>\n",
       "      <td>Geothermal (steam)</td>\n",
       "      <td>NaN</td>\n",
       "      <td>NaN</td>\n",
       "      <td>NaN</td>\n",
       "      <td>NaN</td>\n",
       "      <td>26.04</td>\n",
       "      <td>11.81</td>\n",
       "    </tr>\n",
       "    <tr>\n",
       "      <th>22</th>\n",
       "      <td>Geothermal (binary cycle)</td>\n",
       "      <td>NaN</td>\n",
       "      <td>NaN</td>\n",
       "      <td>NaN</td>\n",
       "      <td>NaN</td>\n",
       "      <td>0.00</td>\n",
       "      <td>0.00</td>\n",
       "    </tr>\n",
       "    <tr>\n",
       "      <th>23</th>\n",
       "      <td>Municipal Solid Wastea,b</td>\n",
       "      <td>5,771.04</td>\n",
       "      <td>short ton</td>\n",
       "      <td>2,617.70</td>\n",
       "      <td>short ton</td>\n",
       "      <td>91.90</td>\n",
       "      <td>41.69</td>\n",
       "    </tr>\n",
       "    <tr>\n",
       "      <th>24</th>\n",
       "      <td>Tire-derived fuela</td>\n",
       "      <td>5,961.03</td>\n",
       "      <td>short ton</td>\n",
       "      <td>2,703.88</td>\n",
       "      <td>short ton</td>\n",
       "      <td>189.54</td>\n",
       "      <td>85.97</td>\n",
       "    </tr>\n",
       "    <tr>\n",
       "      <th>25</th>\n",
       "      <td>Waste oila</td>\n",
       "      <td>22.51</td>\n",
       "      <td>gallon</td>\n",
       "      <td>10.21</td>\n",
       "      <td>gallon</td>\n",
       "      <td>163.14</td>\n",
       "      <td>74.00</td>\n",
       "    </tr>\n",
       "  </tbody>\n",
       "</table>\n",
       "</div>"
      ],
      "text/plain": [
       "                                       Type of fuel:  Pounds CO2   \\\n",
       "0                                             Propane       12.61   \n",
       "1   Diesel and Home Heating Fuel (Distillate Fuel ...       22.46   \n",
       "2                                            Kerosene       21.78   \n",
       "3                                    Coal (All types)    4,027.93   \n",
       "4                                         Natural Gas      121.31   \n",
       "5                                            Gasoline       18.74   \n",
       "6             Residual Heating Fuel (Businesses only)       24.78   \n",
       "7                                            Jet Fuel        21.5   \n",
       "8                                   Aviation Gasoline       18.32   \n",
       "9                                      Petroleum coke       32.87   \n",
       "10                               Asphalt and Road Oil       26.25   \n",
       "11                                         Lubricants       23.58   \n",
       "12           Naphthas for Petrochemical Feedstock Use       18.74   \n",
       "13         Other Oils for Petrochemical Feedstock Use       22.61   \n",
       "14                        Special Naphthas (solvents)       19.94   \n",
       "15                                             Waxes         21.1   \n",
       "16                                    Anthracite coal    5,715.11   \n",
       "17                                    Bituminous coal    4,929.71   \n",
       "18                                 Subbituminous coal    3,747.36   \n",
       "19                                       Lignite coal    2,811.07   \n",
       "20                                          Coke coal    7,174.19   \n",
       "21                                 Geothermal (steam)         NaN   \n",
       "22                          Geothermal (binary cycle)         NaN   \n",
       "23                           Municipal Solid Wastea,b    5,771.04   \n",
       "24                                 Tire-derived fuela    5,961.03   \n",
       "25                                         Waste oila       22.51   \n",
       "\n",
       "   lbs co2 unit of measure Kilograms CO2 kilo co2 unit of measure  \\\n",
       "0                   gallon          5.72                   gallon   \n",
       "1                   gallon         10.19                   gallon   \n",
       "2                   gallon          9.88                   gallon   \n",
       "3                short ton      1,827.04                short ton   \n",
       "4      thousand cubic feet         55.03      thousand cubic feet   \n",
       "5                   gallon           8.5                   gallon   \n",
       "6                   gallon         11.24                   gallon   \n",
       "7                   gallon          9.75                   gallon   \n",
       "8                   gallon          8.31                   gallon   \n",
       "9                   gallon         14.91                   gallon   \n",
       "10                  gallon         11.91                   gallon   \n",
       "11                  gallon          10.7                   gallon   \n",
       "12                  gallon           8.5                   gallon   \n",
       "13                  gallon         10.26                   gallon   \n",
       "14                  gallon          9.04                   gallon   \n",
       "15                  gallon          9.57                   gallon   \n",
       "16               short ton      2,592.33                short ton   \n",
       "17               short ton      2,236.08                short ton   \n",
       "18               short ton      1,699.78                short ton   \n",
       "19               short ton      1,275.08                short ton   \n",
       "20               short ton      3,254.16                short ton   \n",
       "21                     NaN           NaN                      NaN   \n",
       "22                     NaN           NaN                      NaN   \n",
       "23               short ton      2,617.70                short ton   \n",
       "24               short ton      2,703.88                short ton   \n",
       "25                  gallon         10.21                   gallon   \n",
       "\n",
       "    Pounds CO2 per million btu  Kilograms CO2 per million btu  \n",
       "0                       138.63                          62.88  \n",
       "1                       163.45                          74.14  \n",
       "2                       161.35                          73.19  \n",
       "3                       211.06                          95.74  \n",
       "4                       116.65                          52.91  \n",
       "5                       155.77                          70.66  \n",
       "6                       165.55                          75.09  \n",
       "7                       159.25                          72.23  \n",
       "8                       152.46                          69.15  \n",
       "9                       225.13                         102.12  \n",
       "10                      166.12                          75.35  \n",
       "11                      163.29                          74.07  \n",
       "12                      149.95                          68.02  \n",
       "13                      163.05                          73.96  \n",
       "14                      159.57                          72.38  \n",
       "15                      160.06                          72.60  \n",
       "16                      228.60                         103.69  \n",
       "17                      205.40                          93.17  \n",
       "18                      214.13                          97.13  \n",
       "19                      216.24                          98.08  \n",
       "20                      250.59                         113.67  \n",
       "21                       26.04                          11.81  \n",
       "22                        0.00                           0.00  \n",
       "23                       91.90                          41.69  \n",
       "24                      189.54                          85.97  \n",
       "25                      163.14                          74.00  "
      ]
     },
     "execution_count": 60,
     "metadata": {},
     "output_type": "execute_result"
    }
   ],
   "source": [
    "carbon = pd.read_csv('../data/co2_vol_massa_prepped.csv')\n",
    "carbon"
   ]
  },
  {
   "cell_type": "markdown",
   "id": "76fde388",
   "metadata": {},
   "source": [
    "#Recleaning my data - per carbon emissions notebook"
   ]
  },
  {
   "cell_type": "code",
   "execution_count": 61,
   "id": "279f4c24",
   "metadata": {},
   "outputs": [],
   "source": [
    "carbon = carbon[['Type of fuel: ','Pounds CO2 ','lbs co2 unit of measure']]"
   ]
  },
  {
   "cell_type": "code",
   "execution_count": 62,
   "id": "f828f7ad",
   "metadata": {},
   "outputs": [],
   "source": [
    "carbon = carbon[carbon['Type of fuel: '].isin(['Diesel and Home Heating Fuel (Distillate Fuel Oil)','Jet Fuel'])]"
   ]
  },
  {
   "cell_type": "code",
   "execution_count": 63,
   "id": "4c13dfb9",
   "metadata": {},
   "outputs": [],
   "source": [
    "#adding my ship fuel data to my df\n",
    "\n",
    "ship_added = {'Type of fuel: ':'Heavy Fuel Oil', 'Pounds CO2 ': 25.5, 'lbs co2 unit of measure': 'gallon'}\n",
    "carbon = carbon.append(ship_added, ignore_index = True)"
   ]
  },
  {
   "cell_type": "code",
   "execution_count": 64,
   "id": "1735da07",
   "metadata": {},
   "outputs": [],
   "source": [
    "#renaming for visualizatoin clarity\n",
    "\n",
    "carbon['Type of fuel: '] = carbon['Type of fuel: '].replace({'Diesel and Home Heating Fuel (Distillate Fuel Oil)': 'Diesel'})"
   ]
  },
  {
   "cell_type": "code",
   "execution_count": 65,
   "id": "11e88e7e",
   "metadata": {},
   "outputs": [],
   "source": [
    "carbon['Pounds CO2 '] = pd.to_numeric(carbon['Pounds CO2 '])"
   ]
  },
  {
   "cell_type": "code",
   "execution_count": 66,
   "id": "09b4c9ae",
   "metadata": {
    "scrolled": true
   },
   "outputs": [
    {
     "data": {
      "text/html": [
       "<div>\n",
       "<style scoped>\n",
       "    .dataframe tbody tr th:only-of-type {\n",
       "        vertical-align: middle;\n",
       "    }\n",
       "\n",
       "    .dataframe tbody tr th {\n",
       "        vertical-align: top;\n",
       "    }\n",
       "\n",
       "    .dataframe thead th {\n",
       "        text-align: right;\n",
       "    }\n",
       "</style>\n",
       "<table border=\"1\" class=\"dataframe\">\n",
       "  <thead>\n",
       "    <tr style=\"text-align: right;\">\n",
       "      <th></th>\n",
       "      <th>Type of fuel:</th>\n",
       "      <th>Pounds CO2</th>\n",
       "      <th>lbs co2 unit of measure</th>\n",
       "    </tr>\n",
       "  </thead>\n",
       "  <tbody>\n",
       "    <tr>\n",
       "      <th>0</th>\n",
       "      <td>Diesel</td>\n",
       "      <td>22.46</td>\n",
       "      <td>gallon</td>\n",
       "    </tr>\n",
       "    <tr>\n",
       "      <th>1</th>\n",
       "      <td>Jet Fuel</td>\n",
       "      <td>21.50</td>\n",
       "      <td>gallon</td>\n",
       "    </tr>\n",
       "    <tr>\n",
       "      <th>2</th>\n",
       "      <td>Heavy Fuel Oil</td>\n",
       "      <td>25.50</td>\n",
       "      <td>gallon</td>\n",
       "    </tr>\n",
       "  </tbody>\n",
       "</table>\n",
       "</div>"
      ],
      "text/plain": [
       "   Type of fuel:   Pounds CO2  lbs co2 unit of measure\n",
       "0          Diesel        22.46                  gallon\n",
       "1        Jet Fuel        21.50                  gallon\n",
       "2  Heavy Fuel Oil        25.50                  gallon"
      ]
     },
     "execution_count": 66,
     "metadata": {},
     "output_type": "execute_result"
    }
   ],
   "source": [
    "carbon"
   ]
  },
  {
   "cell_type": "markdown",
   "id": "13b8642f",
   "metadata": {},
   "source": [
    "# 1000 MILES CO2 - SHIPS"
   ]
  },
  {
   "cell_type": "code",
   "execution_count": 72,
   "id": "042ae1e4",
   "metadata": {},
   "outputs": [],
   "source": [
    "#ship1000_result\n",
    "ship1000_result['carbon1000']=ship1000_result['1000mi_fuel']*25.50"
   ]
  },
  {
   "cell_type": "code",
   "execution_count": 73,
   "id": "468324e6",
   "metadata": {
    "scrolled": true
   },
   "outputs": [
    {
     "data": {
      "text/html": [
       "<div>\n",
       "<style scoped>\n",
       "    .dataframe tbody tr th:only-of-type {\n",
       "        vertical-align: middle;\n",
       "    }\n",
       "\n",
       "    .dataframe tbody tr th {\n",
       "        vertical-align: top;\n",
       "    }\n",
       "\n",
       "    .dataframe thead th {\n",
       "        text-align: right;\n",
       "    }\n",
       "</style>\n",
       "<table border=\"1\" class=\"dataframe\">\n",
       "  <thead>\n",
       "    <tr style=\"text-align: right;\">\n",
       "      <th></th>\n",
       "      <th>index</th>\n",
       "      <th>Ship Size (TEU)</th>\n",
       "      <th>Speed-MPH</th>\n",
       "      <th>1000mi_fuel</th>\n",
       "      <th>carbon1000</th>\n",
       "    </tr>\n",
       "  </thead>\n",
       "  <tbody>\n",
       "    <tr>\n",
       "      <th>0</th>\n",
       "      <td>2</td>\n",
       "      <td>4000-5000x</td>\n",
       "      <td>22.0</td>\n",
       "      <td>0.714989</td>\n",
       "      <td>18.232230</td>\n",
       "    </tr>\n",
       "    <tr>\n",
       "      <th>1</th>\n",
       "      <td>3</td>\n",
       "      <td>4000-5000x</td>\n",
       "      <td>26.0</td>\n",
       "      <td>1.133210</td>\n",
       "      <td>28.896857</td>\n",
       "    </tr>\n",
       "    <tr>\n",
       "      <th>2</th>\n",
       "      <td>4</td>\n",
       "      <td>5000-6000x</td>\n",
       "      <td>22.0</td>\n",
       "      <td>0.646088</td>\n",
       "      <td>16.475237</td>\n",
       "    </tr>\n",
       "    <tr>\n",
       "      <th>3</th>\n",
       "      <td>5</td>\n",
       "      <td>5000-6000x</td>\n",
       "      <td>26.0</td>\n",
       "      <td>1.021415</td>\n",
       "      <td>26.046083</td>\n",
       "    </tr>\n",
       "    <tr>\n",
       "      <th>4</th>\n",
       "      <td>6</td>\n",
       "      <td>7000-8000x</td>\n",
       "      <td>22.0</td>\n",
       "      <td>0.642125</td>\n",
       "      <td>16.374183</td>\n",
       "    </tr>\n",
       "    <tr>\n",
       "      <th>5</th>\n",
       "      <td>7</td>\n",
       "      <td>7000-8000x</td>\n",
       "      <td>26.0</td>\n",
       "      <td>1.004623</td>\n",
       "      <td>25.617898</td>\n",
       "    </tr>\n",
       "    <tr>\n",
       "      <th>6</th>\n",
       "      <td>8</td>\n",
       "      <td>8000-9000x</td>\n",
       "      <td>22.0</td>\n",
       "      <td>0.634577</td>\n",
       "      <td>16.181712</td>\n",
       "    </tr>\n",
       "    <tr>\n",
       "      <th>7</th>\n",
       "      <td>9</td>\n",
       "      <td>8000-9000x</td>\n",
       "      <td>26.0</td>\n",
       "      <td>0.995028</td>\n",
       "      <td>25.373205</td>\n",
       "    </tr>\n",
       "    <tr>\n",
       "      <th>8</th>\n",
       "      <td>10</td>\n",
       "      <td>9000-10000x</td>\n",
       "      <td>22.0</td>\n",
       "      <td>0.643977</td>\n",
       "      <td>16.421405</td>\n",
       "    </tr>\n",
       "    <tr>\n",
       "      <th>9</th>\n",
       "      <td>11</td>\n",
       "      <td>9000-10000x</td>\n",
       "      <td>26.0</td>\n",
       "      <td>0.996243</td>\n",
       "      <td>25.404207</td>\n",
       "    </tr>\n",
       "  </tbody>\n",
       "</table>\n",
       "</div>"
      ],
      "text/plain": [
       "   index Ship Size (TEU)  Speed-MPH  1000mi_fuel  carbon1000\n",
       "0      2      4000-5000x       22.0     0.714989   18.232230\n",
       "1      3      4000-5000x       26.0     1.133210   28.896857\n",
       "2      4      5000-6000x       22.0     0.646088   16.475237\n",
       "3      5      5000-6000x       26.0     1.021415   26.046083\n",
       "4      6      7000-8000x       22.0     0.642125   16.374183\n",
       "5      7      7000-8000x       26.0     1.004623   25.617898\n",
       "6      8      8000-9000x       22.0     0.634577   16.181712\n",
       "7      9      8000-9000x       26.0     0.995028   25.373205\n",
       "8     10     9000-10000x       22.0     0.643977   16.421405\n",
       "9     11     9000-10000x       26.0     0.996243   25.404207"
      ]
     },
     "execution_count": 73,
     "metadata": {},
     "output_type": "execute_result"
    }
   ],
   "source": [
    "ship1000_result"
   ]
  },
  {
   "cell_type": "code",
   "execution_count": 90,
   "id": "46776883",
   "metadata": {
    "scrolled": false
   },
   "outputs": [
    {
     "data": {
      "text/plain": [
       "Text(0.5, 1.0, 'Average Pounds of CO2 Released in 1000 Miles (per ton of cargo)')"
      ]
     },
     "execution_count": 90,
     "metadata": {},
     "output_type": "execute_result"
    },
    {
     "data": {
      "image/png": "[encoded data removed]",
      "text/plain": [
       "<Figure size 936x576 with 1 Axes>"
      ]
     },
     "metadata": {},
     "output_type": "display_data"
    }
   ],
   "source": [
    "fig, ax = plt.subplots(figsize=(13,8))\n",
    "\n",
    "g = sns.lineplot(data = ship1000_result, x = 'Ship Size (TEU)', y = 'carbon1000', hue = 'Speed-MPH',\n",
    "                style = \"Speed-MPH\", marker=\"o\", palette = ['r','b'])\n",
    "plt.xticks(rotation=45)\n",
    "g.set(xlabel = 'Ship Size (TEU)', ylabel = 'Pounds of C02')\n",
    "g.set_title('Average Pounds of CO2 Released in 1000 Miles (per ton of cargo)')\n",
    "\n",
    "# 1000 MILES CO2 - TRUCKS"
   ]
  },
  {
   "cell_type": "code",
   "execution_count": 75,
   "id": "182eda40",
   "metadata": {},
   "outputs": [
    {
     "data": {
      "text/html": [
       "<div>\n",
       "<style scoped>\n",
       "    .dataframe tbody tr th:only-of-type {\n",
       "        vertical-align: middle;\n",
       "    }\n",
       "\n",
       "    .dataframe tbody tr th {\n",
       "        vertical-align: top;\n",
       "    }\n",
       "\n",
       "    .dataframe thead th {\n",
       "        text-align: right;\n",
       "    }\n",
       "</style>\n",
       "<table border=\"1\" class=\"dataframe\">\n",
       "  <thead>\n",
       "    <tr style=\"text-align: right;\">\n",
       "      <th></th>\n",
       "      <th>Avg weight/tons</th>\n",
       "      <th>MPG</th>\n",
       "      <th>Ton_MPG</th>\n",
       "      <th>truck_types</th>\n",
       "      <th>1000mi</th>\n",
       "    </tr>\n",
       "  </thead>\n",
       "  <tbody>\n",
       "    <tr>\n",
       "      <th>0</th>\n",
       "      <td>5</td>\n",
       "      <td>18.152113</td>\n",
       "      <td>90.760563</td>\n",
       "      <td>Light Duty - Short Wheelbase</td>\n",
       "      <td>11.018001</td>\n",
       "    </tr>\n",
       "    <tr>\n",
       "      <th>1</th>\n",
       "      <td>10</td>\n",
       "      <td>14.905556</td>\n",
       "      <td>149.055556</td>\n",
       "      <td>Light Duty - Long Wheelbase</td>\n",
       "      <td>6.708908</td>\n",
       "    </tr>\n",
       "    <tr>\n",
       "      <th>2</th>\n",
       "      <td>22</td>\n",
       "      <td>6.491549</td>\n",
       "      <td>142.814085</td>\n",
       "      <td>Heavy Duty</td>\n",
       "      <td>7.002110</td>\n",
       "    </tr>\n",
       "  </tbody>\n",
       "</table>\n",
       "</div>"
      ],
      "text/plain": [
       "   Avg weight/tons        MPG     Ton_MPG                   truck_types  \\\n",
       "0                5  18.152113   90.760563  Light Duty - Short Wheelbase   \n",
       "1               10  14.905556  149.055556   Light Duty - Long Wheelbase   \n",
       "2               22   6.491549  142.814085                    Heavy Duty   \n",
       "\n",
       "      1000mi  \n",
       "0  11.018001  \n",
       "1   6.708908  \n",
       "2   7.002110  "
      ]
     },
     "execution_count": 75,
     "metadata": {},
     "output_type": "execute_result"
    }
   ],
   "source": [
    "truck_visual2"
   ]
  },
  {
   "cell_type": "code",
   "execution_count": 76,
   "id": "6ee45446",
   "metadata": {},
   "outputs": [],
   "source": [
    "truck_visual2['carbon1000'] = truck_visual2['1000mi'] *22.46"
   ]
  },
  {
   "cell_type": "code",
   "execution_count": 77,
   "id": "f22d5bc5",
   "metadata": {},
   "outputs": [
    {
     "data": {
      "text/html": [
       "<div>\n",
       "<style scoped>\n",
       "    .dataframe tbody tr th:only-of-type {\n",
       "        vertical-align: middle;\n",
       "    }\n",
       "\n",
       "    .dataframe tbody tr th {\n",
       "        vertical-align: top;\n",
       "    }\n",
       "\n",
       "    .dataframe thead th {\n",
       "        text-align: right;\n",
       "    }\n",
       "</style>\n",
       "<table border=\"1\" class=\"dataframe\">\n",
       "  <thead>\n",
       "    <tr style=\"text-align: right;\">\n",
       "      <th></th>\n",
       "      <th>Avg weight/tons</th>\n",
       "      <th>MPG</th>\n",
       "      <th>Ton_MPG</th>\n",
       "      <th>truck_types</th>\n",
       "      <th>1000mi</th>\n",
       "      <th>carbon1000</th>\n",
       "    </tr>\n",
       "  </thead>\n",
       "  <tbody>\n",
       "    <tr>\n",
       "      <th>0</th>\n",
       "      <td>5</td>\n",
       "      <td>18.152113</td>\n",
       "      <td>90.760563</td>\n",
       "      <td>Light Duty - Short Wheelbase</td>\n",
       "      <td>11.018001</td>\n",
       "      <td>247.464308</td>\n",
       "    </tr>\n",
       "    <tr>\n",
       "      <th>1</th>\n",
       "      <td>10</td>\n",
       "      <td>14.905556</td>\n",
       "      <td>149.055556</td>\n",
       "      <td>Light Duty - Long Wheelbase</td>\n",
       "      <td>6.708908</td>\n",
       "      <td>150.682072</td>\n",
       "    </tr>\n",
       "    <tr>\n",
       "      <th>2</th>\n",
       "      <td>22</td>\n",
       "      <td>6.491549</td>\n",
       "      <td>142.814085</td>\n",
       "      <td>Heavy Duty</td>\n",
       "      <td>7.002110</td>\n",
       "      <td>157.267402</td>\n",
       "    </tr>\n",
       "  </tbody>\n",
       "</table>\n",
       "</div>"
      ],
      "text/plain": [
       "   Avg weight/tons        MPG     Ton_MPG                   truck_types  \\\n",
       "0                5  18.152113   90.760563  Light Duty - Short Wheelbase   \n",
       "1               10  14.905556  149.055556   Light Duty - Long Wheelbase   \n",
       "2               22   6.491549  142.814085                    Heavy Duty   \n",
       "\n",
       "      1000mi  carbon1000  \n",
       "0  11.018001  247.464308  \n",
       "1   6.708908  150.682072  \n",
       "2   7.002110  157.267402  "
      ]
     },
     "execution_count": 77,
     "metadata": {},
     "output_type": "execute_result"
    }
   ],
   "source": [
    "truck_visual2"
   ]
  },
  {
   "cell_type": "code",
   "execution_count": 91,
   "id": "d43c96ee",
   "metadata": {
    "scrolled": false
   },
   "outputs": [
    {
     "data": {
      "image/png": "[encoded data removed]",
      "text/plain": [
       "<Figure size 936x576 with 1 Axes>"
      ]
     },
     "metadata": {},
     "output_type": "display_data"
    }
   ],
   "source": [
    "sns.set_palette(\"ch:start=0, rot=-.3\")\n",
    "\n",
    "h = sns.barplot(data=truck_visual2, x='truck_types', y='carbon1000')\n",
    "h.set(xlabel = 'Type of Truck', ylabel = 'Pounds of CO2')\n",
    "h.set_title('Average Pounds of CO2 Released in 1000 Miles (per ton of cargo)')\n",
    "\n",
    "show_values(h)"
   ]
  },
  {
   "cell_type": "markdown",
   "id": "9d04380a",
   "metadata": {},
   "source": [
    "# 1000 MILES CO2 - PLANE/TRAIN"
   ]
  },
  {
   "cell_type": "code",
   "execution_count": 79,
   "id": "7cf9b3e8",
   "metadata": {
    "scrolled": true
   },
   "outputs": [
    {
     "data": {
      "text/html": [
       "<div>\n",
       "<style scoped>\n",
       "    .dataframe tbody tr th:only-of-type {\n",
       "        vertical-align: middle;\n",
       "    }\n",
       "\n",
       "    .dataframe tbody tr th {\n",
       "        vertical-align: top;\n",
       "    }\n",
       "\n",
       "    .dataframe thead th {\n",
       "        text-align: right;\n",
       "    }\n",
       "</style>\n",
       "<table border=\"1\" class=\"dataframe\">\n",
       "  <thead>\n",
       "    <tr style=\"text-align: right;\">\n",
       "      <th></th>\n",
       "      <th>Type</th>\n",
       "      <th>Avg. Ton MPG</th>\n",
       "      <th>1000mi_gallons</th>\n",
       "    </tr>\n",
       "  </thead>\n",
       "  <tbody>\n",
       "    <tr>\n",
       "      <th>0</th>\n",
       "      <td>Plane</td>\n",
       "      <td>4.5</td>\n",
       "      <td>222.222222</td>\n",
       "    </tr>\n",
       "    <tr>\n",
       "      <th>1</th>\n",
       "      <td>Train</td>\n",
       "      <td>436.0</td>\n",
       "      <td>2.293578</td>\n",
       "    </tr>\n",
       "  </tbody>\n",
       "</table>\n",
       "</div>"
      ],
      "text/plain": [
       "    Type  Avg. Ton MPG  1000mi_gallons\n",
       "0  Plane           4.5      222.222222\n",
       "1  Train         436.0        2.293578"
      ]
     },
     "execution_count": 79,
     "metadata": {},
     "output_type": "execute_result"
    }
   ],
   "source": [
    "Plane_Train_TonMPG_viz"
   ]
  },
  {
   "cell_type": "markdown",
   "id": "2fb6afc3",
   "metadata": {},
   "source": [
    "The plane emissions and the truck emissions are different.  makes sense to do them separately, then recombine them"
   ]
  },
  {
   "cell_type": "code",
   "execution_count": 80,
   "id": "97e180c0",
   "metadata": {},
   "outputs": [
    {
     "data": {
      "text/html": [
       "<div>\n",
       "<style scoped>\n",
       "    .dataframe tbody tr th:only-of-type {\n",
       "        vertical-align: middle;\n",
       "    }\n",
       "\n",
       "    .dataframe tbody tr th {\n",
       "        vertical-align: top;\n",
       "    }\n",
       "\n",
       "    .dataframe thead th {\n",
       "        text-align: right;\n",
       "    }\n",
       "</style>\n",
       "<table border=\"1\" class=\"dataframe\">\n",
       "  <thead>\n",
       "    <tr style=\"text-align: right;\">\n",
       "      <th></th>\n",
       "      <th>Type</th>\n",
       "      <th>Avg. Ton MPG</th>\n",
       "      <th>1000mi_gallons</th>\n",
       "    </tr>\n",
       "  </thead>\n",
       "  <tbody>\n",
       "    <tr>\n",
       "      <th>1</th>\n",
       "      <td>Train</td>\n",
       "      <td>436.0</td>\n",
       "      <td>2.293578</td>\n",
       "    </tr>\n",
       "  </tbody>\n",
       "</table>\n",
       "</div>"
      ],
      "text/plain": [
       "    Type  Avg. Ton MPG  1000mi_gallons\n",
       "1  Train         436.0        2.293578"
      ]
     },
     "execution_count": 80,
     "metadata": {},
     "output_type": "execute_result"
    }
   ],
   "source": [
    "train = Plane_Train_TonMPG_viz.loc[Plane_Train_TonMPG_viz['Type']=='Train']\n",
    "train"
   ]
  },
  {
   "cell_type": "code",
   "execution_count": 81,
   "id": "b0442370",
   "metadata": {},
   "outputs": [
    {
     "name": "stderr",
     "output_type": "stream",
     "text": [
      "<ipython-input-81-9c80476185d8>:1: SettingWithCopyWarning: \n",
      "A value is trying to be set on a copy of a slice from a DataFrame.\n",
      "Try using .loc[row_indexer,col_indexer] = value instead\n",
      "\n",
      "See the caveats in the documentation: https://pandas.pydata.org/pandas-docs/stable/user_guide/indexing.html#returning-a-view-versus-a-copy\n",
      "  train['carbon1000']= train['1000mi_gallons']*22.46\n"
     ]
    },
    {
     "data": {
      "text/html": [
       "<div>\n",
       "<style scoped>\n",
       "    .dataframe tbody tr th:only-of-type {\n",
       "        vertical-align: middle;\n",
       "    }\n",
       "\n",
       "    .dataframe tbody tr th {\n",
       "        vertical-align: top;\n",
       "    }\n",
       "\n",
       "    .dataframe thead th {\n",
       "        text-align: right;\n",
       "    }\n",
       "</style>\n",
       "<table border=\"1\" class=\"dataframe\">\n",
       "  <thead>\n",
       "    <tr style=\"text-align: right;\">\n",
       "      <th></th>\n",
       "      <th>Type</th>\n",
       "      <th>Avg. Ton MPG</th>\n",
       "      <th>1000mi_gallons</th>\n",
       "      <th>carbon1000</th>\n",
       "    </tr>\n",
       "  </thead>\n",
       "  <tbody>\n",
       "    <tr>\n",
       "      <th>1</th>\n",
       "      <td>Train</td>\n",
       "      <td>436.0</td>\n",
       "      <td>2.293578</td>\n",
       "      <td>51.513761</td>\n",
       "    </tr>\n",
       "  </tbody>\n",
       "</table>\n",
       "</div>"
      ],
      "text/plain": [
       "    Type  Avg. Ton MPG  1000mi_gallons  carbon1000\n",
       "1  Train         436.0        2.293578   51.513761"
      ]
     },
     "execution_count": 81,
     "metadata": {},
     "output_type": "execute_result"
    }
   ],
   "source": [
    "train['carbon1000']= train['1000mi_gallons']*22.46\n",
    "train"
   ]
  },
  {
   "cell_type": "code",
   "execution_count": 82,
   "id": "af17a829",
   "metadata": {},
   "outputs": [
    {
     "data": {
      "text/html": [
       "<div>\n",
       "<style scoped>\n",
       "    .dataframe tbody tr th:only-of-type {\n",
       "        vertical-align: middle;\n",
       "    }\n",
       "\n",
       "    .dataframe tbody tr th {\n",
       "        vertical-align: top;\n",
       "    }\n",
       "\n",
       "    .dataframe thead th {\n",
       "        text-align: right;\n",
       "    }\n",
       "</style>\n",
       "<table border=\"1\" class=\"dataframe\">\n",
       "  <thead>\n",
       "    <tr style=\"text-align: right;\">\n",
       "      <th></th>\n",
       "      <th>Type</th>\n",
       "      <th>Avg. Ton MPG</th>\n",
       "      <th>1000mi_gallons</th>\n",
       "    </tr>\n",
       "  </thead>\n",
       "  <tbody>\n",
       "    <tr>\n",
       "      <th>0</th>\n",
       "      <td>Plane</td>\n",
       "      <td>4.5</td>\n",
       "      <td>222.222222</td>\n",
       "    </tr>\n",
       "  </tbody>\n",
       "</table>\n",
       "</div>"
      ],
      "text/plain": [
       "    Type  Avg. Ton MPG  1000mi_gallons\n",
       "0  Plane           4.5      222.222222"
      ]
     },
     "execution_count": 82,
     "metadata": {},
     "output_type": "execute_result"
    }
   ],
   "source": [
    "plane = Plane_Train_TonMPG_viz.loc[Plane_Train_TonMPG_viz['Type']=='Plane']\n",
    "plane"
   ]
  },
  {
   "cell_type": "code",
   "execution_count": 83,
   "id": "3f5ecbf5",
   "metadata": {},
   "outputs": [
    {
     "name": "stderr",
     "output_type": "stream",
     "text": [
      "<ipython-input-83-d7709a9a624e>:1: SettingWithCopyWarning: \n",
      "A value is trying to be set on a copy of a slice from a DataFrame.\n",
      "Try using .loc[row_indexer,col_indexer] = value instead\n",
      "\n",
      "See the caveats in the documentation: https://pandas.pydata.org/pandas-docs/stable/user_guide/indexing.html#returning-a-view-versus-a-copy\n",
      "  plane['carbon1000']= plane['1000mi_gallons']*21.5\n"
     ]
    }
   ],
   "source": [
    "plane['carbon1000']= plane['1000mi_gallons']*21.5"
   ]
  },
  {
   "cell_type": "code",
   "execution_count": 84,
   "id": "abe07980",
   "metadata": {},
   "outputs": [],
   "source": [
    "dfs = [plane, train]\n",
    "\n",
    "carbonplanetrain = pd.concat(dfs)"
   ]
  },
  {
   "cell_type": "code",
   "execution_count": 85,
   "id": "82391fd2",
   "metadata": {},
   "outputs": [
    {
     "data": {
      "text/html": [
       "<div>\n",
       "<style scoped>\n",
       "    .dataframe tbody tr th:only-of-type {\n",
       "        vertical-align: middle;\n",
       "    }\n",
       "\n",
       "    .dataframe tbody tr th {\n",
       "        vertical-align: top;\n",
       "    }\n",
       "\n",
       "    .dataframe thead th {\n",
       "        text-align: right;\n",
       "    }\n",
       "</style>\n",
       "<table border=\"1\" class=\"dataframe\">\n",
       "  <thead>\n",
       "    <tr style=\"text-align: right;\">\n",
       "      <th></th>\n",
       "      <th>Type</th>\n",
       "      <th>Avg. Ton MPG</th>\n",
       "      <th>1000mi_gallons</th>\n",
       "      <th>carbon1000</th>\n",
       "    </tr>\n",
       "  </thead>\n",
       "  <tbody>\n",
       "    <tr>\n",
       "      <th>0</th>\n",
       "      <td>Plane</td>\n",
       "      <td>4.5</td>\n",
       "      <td>222.222222</td>\n",
       "      <td>4777.777778</td>\n",
       "    </tr>\n",
       "    <tr>\n",
       "      <th>1</th>\n",
       "      <td>Train</td>\n",
       "      <td>436.0</td>\n",
       "      <td>2.293578</td>\n",
       "      <td>51.513761</td>\n",
       "    </tr>\n",
       "  </tbody>\n",
       "</table>\n",
       "</div>"
      ],
      "text/plain": [
       "    Type  Avg. Ton MPG  1000mi_gallons   carbon1000\n",
       "0  Plane           4.5      222.222222  4777.777778\n",
       "1  Train         436.0        2.293578    51.513761"
      ]
     },
     "execution_count": 85,
     "metadata": {},
     "output_type": "execute_result"
    }
   ],
   "source": [
    "carbonplanetrain"
   ]
  },
  {
   "cell_type": "code",
   "execution_count": 92,
   "id": "344d3c2c",
   "metadata": {
    "scrolled": false
   },
   "outputs": [
    {
     "data": {
      "image/png": "[encoded data removed]",
      "text/plain": [
       "<Figure size 936x576 with 1 Axes>"
      ]
     },
     "metadata": {},
     "output_type": "display_data"
    }
   ],
   "source": [
    "sns.set_palette(\"colorblind\")\n",
    "\n",
    "i = sns.barplot(data=carbonplanetrain, x='Type', y='carbon1000')\n",
    "i.set(xlabel = '', ylabel = 'Pounds of CO2')\n",
    "i.set_title('Average Pounds of CO2 Released in 1000 Miles (per ton of cargo)')\n",
    "\n",
    "show_values(i)"
   ]
  },
  {
   "cell_type": "code",
   "execution_count": null,
   "id": "15e953f3",
   "metadata": {},
   "outputs": [],
   "source": []
  },
  {
   "cell_type": "markdown",
   "id": "cc7be614",
   "metadata": {},
   "source": [
    "# Fuel Prices per 1000 miles work"
   ]
  },
  {
   "cell_type": "markdown",
   "id": "abdcb7ed",
   "metadata": {},
   "source": [
    "Like with the carbon emissions data, it may be easier to move the financial data to this notebook, where the fuel consumption data is already located and ready to use, rather than try to move all this data over to the financial notebook"
   ]
  },
  {
   "cell_type": "code",
   "execution_count": null,
   "id": "9bd8b810",
   "metadata": {},
   "outputs": [],
   "source": [
    "price = pd.read_csv('../data/fuel_prices_prepped.csv', skiprows = 2)"
   ]
  },
  {
   "cell_type": "code",
   "execution_count": null,
   "id": "0d9ad125",
   "metadata": {},
   "outputs": [],
   "source": [
    "price['Fuel type'] = price['Fuel type'].replace(' ','')"
   ]
  },
  {
   "cell_type": "code",
   "execution_count": null,
   "id": "bb93bb56",
   "metadata": {},
   "outputs": [],
   "source": [
    "price_relevant = price[price['Fuel type'].isin([\n",
    "    'On-highway Diesel Fuel ...................................................',\n",
    "    'Jet Fuel ............................................................................',\n",
    "    'No. 6 Residual Fuel Oil (a) ...............................................'])]"
   ]
  },
  {
   "cell_type": "code",
   "execution_count": null,
   "id": "229daf75",
   "metadata": {},
   "outputs": [],
   "source": [
    "price_relevant['Fuel type'] = price_relevant['Fuel type'].replace({\n",
    "    'On-highway Diesel Fuel ...................................................': 'Diesel',\n",
    "    'Jet Fuel ............................................................................':'Jet Fuel',\n",
    "    'No. 6 Residual Fuel Oil (a) ...............................................':'Heavy Fuel Oil'})"
   ]
  },
  {
   "cell_type": "code",
   "execution_count": null,
   "id": "c12d231c",
   "metadata": {},
   "outputs": [],
   "source": [
    "#dropping first column so i can do math on all remaining columns\n",
    "price_relevant= price_relevant.drop('Fuel type', 1)"
   ]
  },
  {
   "cell_type": "code",
   "execution_count": null,
   "id": "7139931d",
   "metadata": {},
   "outputs": [],
   "source": [
    "#converting all columns to dollar amounts - x.01 = price per gallon\n",
    "price_relevant = price_relevant.mul([.01,.01,.01], axis=0)"
   ]
  },
  {
   "cell_type": "code",
   "execution_count": null,
   "id": "d8c70377",
   "metadata": {},
   "outputs": [],
   "source": [
    "#returning first column to df\n",
    "price_relevant.insert(0,'Fuel type',['Jet Fuel','Heavy Fuel Oil', 'Diesel'], True)"
   ]
  },
  {
   "cell_type": "code",
   "execution_count": null,
   "id": "d948774d",
   "metadata": {},
   "outputs": [],
   "source": [
    "price_viz2 = price_relevant[['Fuel type','20YEAR','21YEAR','22YEAR']]"
   ]
  },
  {
   "cell_type": "code",
   "execution_count": null,
   "id": "46c144bf",
   "metadata": {},
   "outputs": [],
   "source": [
    "price_viz2 = price_viz2.rename(columns = {'20YEAR':'2020', '21YEAR':'2021', '22YEAR':'2022'})\n",
    "price_viz2.T\n",
    "price_viz2=pd.melt(price_viz2, id_vars=['Fuel type'], value_vars=['2020', '2021', '2022'])"
   ]
  },
  {
   "cell_type": "code",
   "execution_count": null,
   "id": "a31fb6ca",
   "metadata": {
    "scrolled": true
   },
   "outputs": [],
   "source": [
    "price_viz2"
   ]
  },
  {
   "cell_type": "code",
   "execution_count": null,
   "id": "09a29e96",
   "metadata": {
    "scrolled": false
   },
   "outputs": [],
   "source": [
    "ship1000_result"
   ]
  },
  {
   "cell_type": "code",
   "execution_count": null,
   "id": "1dcda5f3",
   "metadata": {},
   "outputs": [],
   "source": [
    "ship1000_result['2020']= ship1000_result['1000mi_fuel'] * 1.26\n",
    "ship1000_result['2021']= ship1000_result['1000mi_fuel'] * 1.81\n",
    "ship1000_result['2022']= ship1000_result['1000mi_fuel'] * 1.56"
   ]
  },
  {
   "cell_type": "code",
   "execution_count": null,
   "id": "62c729b0",
   "metadata": {},
   "outputs": [],
   "source": [
    "shipcostfast = ship1000_result.loc[ship1000_result['Speed-MPH']==26.0]"
   ]
  },
  {
   "cell_type": "code",
   "execution_count": null,
   "id": "65baa26d",
   "metadata": {},
   "outputs": [],
   "source": [
    "shipcostslow = ship1000_result.loc[ship1000_result['Speed-MPH']==22.0]"
   ]
  },
  {
   "cell_type": "code",
   "execution_count": null,
   "id": "f9e62e4b",
   "metadata": {},
   "outputs": [],
   "source": [
    "shipcostfast = shipcostfast[['Ship Size (TEU)', '2020', '2021', '2022']]\n",
    "shipcostfast"
   ]
  },
  {
   "cell_type": "code",
   "execution_count": null,
   "id": "db998966",
   "metadata": {},
   "outputs": [],
   "source": [
    "shipcostslow = shipcostslow[['Ship Size (TEU)', '2020', '2021', '2022']]\n",
    "shipcostslow"
   ]
  },
  {
   "cell_type": "code",
   "execution_count": null,
   "id": "4b507964",
   "metadata": {},
   "outputs": [],
   "source": [
    "shipcostfast.T"
   ]
  },
  {
   "cell_type": "code",
   "execution_count": null,
   "id": "e04392c5",
   "metadata": {},
   "outputs": [],
   "source": [
    "shipcostslow.T"
   ]
  },
  {
   "cell_type": "code",
   "execution_count": null,
   "id": "db4d7bf4",
   "metadata": {
    "scrolled": false
   },
   "outputs": [],
   "source": [
    "shipcostfast = pd.melt(shipcostfast, id_vars = ['Ship Size (TEU)'], value_vars=['2020', '2021', '2022'])\n",
    "shipcostfast"
   ]
  },
  {
   "cell_type": "code",
   "execution_count": null,
   "id": "718fd4fb",
   "metadata": {},
   "outputs": [],
   "source": [
    "shipcostslow = pd.melt(shipcostslow, id_vars = ['Ship Size (TEU)'], value_vars=['2020', '2021', '2022'])\n",
    "shipcostslow"
   ]
  },
  {
   "cell_type": "code",
   "execution_count": null,
   "id": "58a87882",
   "metadata": {},
   "outputs": [],
   "source": [
    "k = sns.lineplot(data = shipcostfast, x = 'variable', y = 'value', hue = 'Ship Size (TEU)', marker=\"o\")\n",
    "k.set(xlabel = 'For Ships traveling at Normal Speed', ylabel = 'Cost USD')\n",
    "k.set_title('How much is spent on fuel to move cargo 1000 miles?')"
   ]
  },
  {
   "cell_type": "code",
   "execution_count": null,
   "id": "430e24a0",
   "metadata": {},
   "outputs": [],
   "source": [
    "l = sns.lineplot(data = shipcostslow, x = 'variable', y = 'value', hue = 'Ship Size (TEU)', marker=\"o\")\n",
    "l.set(ylim = (0,22000))\n",
    "l.set(xlabel = 'For Ships traveling at Slow Speed', ylabel = 'Cost USD')\n",
    "l.set_title('How much is spent on fuel to move cargo 1000 miles?')"
   ]
  },
  {
   "cell_type": "markdown",
   "id": "3e4527de",
   "metadata": {},
   "source": [
    "It would be useful to see how much it costs per ton of cargo"
   ]
  },
  {
   "cell_type": "code",
   "execution_count": null,
   "id": "6b2e1581",
   "metadata": {
    "scrolled": true
   },
   "outputs": [],
   "source": [
    "ship.head()"
   ]
  },
  {
   "cell_type": "code",
   "execution_count": null,
   "id": "409c6025",
   "metadata": {},
   "outputs": [],
   "source": [
    "ship['Speed-MPH']=ship['Speed-MPH'].round()"
   ]
  },
  {
   "cell_type": "code",
   "execution_count": null,
   "id": "a51f602c",
   "metadata": {
    "scrolled": true
   },
   "outputs": [],
   "source": [
    "shiptoncost = ship[['Ship Size (TEU)', 'Speed-MPH','TEU to weight - tons', 'Gallons per mile']]\n",
    "shiptoncost['1000mi_gallons'] = shiptoncost['Gallons per mile'] * 1000\n",
    "shiptoncost['gallons_per_ton'] = shiptoncost['1000mi_gallons']/shiptoncost['TEU to weight - tons']\n",
    "shiptoncost"
   ]
  },
  {
   "cell_type": "code",
   "execution_count": null,
   "id": "235abb17",
   "metadata": {},
   "outputs": [],
   "source": [
    "shiptoncost = shiptoncost.groupby(['Ship Size (TEU)', 'Speed-MPH'])['gallons_per_ton'].mean()"
   ]
  },
  {
   "cell_type": "code",
   "execution_count": null,
   "id": "4ad57ad4",
   "metadata": {},
   "outputs": [],
   "source": [
    "shiptoncost = pd.DataFrame(shiptoncost).reset_index()"
   ]
  },
  {
   "cell_type": "code",
   "execution_count": null,
   "id": "17a5e04f",
   "metadata": {
    "scrolled": true
   },
   "outputs": [],
   "source": [
    "shiptoncost['2020']= shiptoncost['gallons_per_ton'] * 1.26\n",
    "shiptoncost['2021']= shiptoncost['gallons_per_ton'] * 1.81\n",
    "shiptoncost['2022']= shiptoncost['gallons_per_ton'] * 1.56\n",
    "shiptoncost"
   ]
  },
  {
   "cell_type": "code",
   "execution_count": null,
   "id": "6ba5f3b4",
   "metadata": {},
   "outputs": [],
   "source": [
    "shiptoncost_fast = shiptoncost.loc[shiptoncost['Speed-MPH']==26.0]\n",
    "shiptoncost_slow = shiptoncost.loc[shiptoncost['Speed-MPH']==22.0]"
   ]
  },
  {
   "cell_type": "code",
   "execution_count": null,
   "id": "55527c6e",
   "metadata": {},
   "outputs": [],
   "source": [
    "shiptoncost_fast = shiptoncost_fast[['Ship Size (TEU)', '2020', '2021','2022']]\n",
    "shiptoncost_slow = shiptoncost_slow[['Ship Size (TEU)', '2020', '2021','2022']]"
   ]
  },
  {
   "cell_type": "code",
   "execution_count": null,
   "id": "b041b393",
   "metadata": {},
   "outputs": [],
   "source": [
    "shiptoncost_fast.T\n",
    "shiptoncost_fast = pd.melt(shiptoncost_fast, id_vars = ['Ship Size (TEU)'], value_vars=['2020', '2021', '2022'])\n",
    "shiptoncost_fast"
   ]
  },
  {
   "cell_type": "code",
   "execution_count": null,
   "id": "f5b6d353",
   "metadata": {},
   "outputs": [],
   "source": [
    "shiptoncost_slow.T\n",
    "shiptoncost_slow = pd.melt(shiptoncost_slow, id_vars = ['Ship Size (TEU)'], value_vars=['2020','2021','2022'])\n",
    "shiptoncost_slow"
   ]
  },
  {
   "cell_type": "code",
   "execution_count": null,
   "id": "f569ce75",
   "metadata": {},
   "outputs": [],
   "source": [
    "m = sns.lineplot(data = shiptoncost_fast, x = 'variable', y = 'value', hue = 'Ship Size (TEU)', marker=\"o\")\n",
    "m.set(xlabel = 'For Ships traveling at Normal Speed', ylabel = 'Cost USD')\n",
    "m.set_title('How much is spent on fuel to move cargo 1000 miles (per ton of cargo)?')"
   ]
  },
  {
   "cell_type": "code",
   "execution_count": null,
   "id": "546e324e",
   "metadata": {},
   "outputs": [],
   "source": [
    "n = sns.lineplot(data = shiptoncost_slow, x = 'variable', y = 'value', hue = 'Ship Size (TEU)', marker=\"o\")\n",
    "#n.set(ylim = (0,2.0))\n",
    "n.set(xlabel = 'For Ships traveling at Slow Speed', ylabel = 'Cost USD')\n",
    "n.set_title('How much is spent on fuel to move cargo 1000 miles (per ton of cargo)?')"
   ]
  },
  {
   "cell_type": "code",
   "execution_count": null,
   "id": "80503d8c",
   "metadata": {},
   "outputs": [],
   "source": []
  },
  {
   "cell_type": "code",
   "execution_count": null,
   "id": "fc8428eb",
   "metadata": {
    "scrolled": true
   },
   "outputs": [],
   "source": [
    "truck_visual2"
   ]
  },
  {
   "cell_type": "code",
   "execution_count": null,
   "id": "4fb1a21d",
   "metadata": {
    "scrolled": true
   },
   "outputs": [],
   "source": [
    "truck_visual2.info()"
   ]
  },
  {
   "cell_type": "code",
   "execution_count": null,
   "id": "d5c1893c",
   "metadata": {},
   "outputs": [],
   "source": [
    "#converting avg_weight to a float so i can do math\n",
    "\n",
    "truck_visual2['Avg weight/tons'] = truck_visual2['Avg weight/tons'].astype(float)\n",
    "truck_visual2.info()"
   ]
  },
  {
   "cell_type": "code",
   "execution_count": null,
   "id": "5551329f",
   "metadata": {
    "scrolled": true
   },
   "outputs": [],
   "source": [
    "#price_viz2\n",
    "truck_visual2['2020']= truck_visual2['1000mi'] * 2.56\n",
    "truck_visual2['2021']= truck_visual2['1000mi'] * 3.28\n",
    "truck_visual2['2022']= truck_visual2['1000mi'] * 3.19\n",
    "truck_visual2['gallons_per_ton'] = truck_visual2['1000mi'] / truck_visual2['Avg weight/tons']\n",
    "truck_visual2"
   ]
  },
  {
   "cell_type": "code",
   "execution_count": null,
   "id": "6ea458a8",
   "metadata": {},
   "outputs": [],
   "source": [
    "truck_visual3 = truck_visual2[['truck_types','gallons_per_ton']]"
   ]
  },
  {
   "cell_type": "code",
   "execution_count": null,
   "id": "39fe6f43",
   "metadata": {},
   "outputs": [],
   "source": [
    "truck_visual3['2020']= truck_visual2['gallons_per_ton'] * 2.56\n",
    "truck_visual3['2021']= truck_visual2['gallons_per_ton'] * 3.28\n",
    "truck_visual3['2022']= truck_visual2['gallons_per_ton'] * 3.19\n"
   ]
  },
  {
   "cell_type": "code",
   "execution_count": null,
   "id": "0a83369a",
   "metadata": {},
   "outputs": [],
   "source": [
    "truck_visual3 = truck_visual3[['truck_types','2020','2021','2022']]\n",
    "truck_visual3.T\n",
    "truck_visual3 = pd.melt(truck_visual3, id_vars = ['truck_types'], value_vars=['2020', '2021', '2022'])\n",
    "truck_visual3"
   ]
  },
  {
   "cell_type": "code",
   "execution_count": null,
   "id": "7b83cd1f",
   "metadata": {},
   "outputs": [],
   "source": [
    "truckcost = truck_visual2[['truck_types','2020','2021','2022']]\n",
    "truckcost.T\n",
    "truckcost = pd.melt(truckcost, id_vars = ['truck_types'], value_vars=['2020', '2021', '2022'])\n",
    "truckcost"
   ]
  },
  {
   "cell_type": "code",
   "execution_count": null,
   "id": "0ceddac0",
   "metadata": {},
   "outputs": [],
   "source": [
    "o = sns.barplot(data=truckcost, x='variable', y='value', hue='truck_types')\n",
    "o.set(xlabel = '', ylabel = 'Cost (USD)')\n",
    "o.set_title('How much is spent on fuel to move cargo 1000 miles?')\n",
    "\n",
    "show_values(o)"
   ]
  },
  {
   "cell_type": "code",
   "execution_count": null,
   "id": "a7820124",
   "metadata": {},
   "outputs": [],
   "source": [
    "p = sns.barplot(data=truck_visual3, x='variable', y='value', hue='truck_types')\n",
    "p.set(xlabel = '', ylabel = 'Cost (USD)')\n",
    "p.set_title('How much is spent on fuel to move cargo 1000 miles (per ton of cargo)?')\n",
    "\n",
    "show_values(p)"
   ]
  },
  {
   "cell_type": "code",
   "execution_count": null,
   "id": "3ca01fec",
   "metadata": {},
   "outputs": [],
   "source": []
  },
  {
   "cell_type": "code",
   "execution_count": null,
   "id": "22a74a6e",
   "metadata": {},
   "outputs": [],
   "source": [
    "train"
   ]
  },
  {
   "cell_type": "code",
   "execution_count": null,
   "id": "cb5c87cf",
   "metadata": {},
   "outputs": [],
   "source": [
    "# i need to know the average tons of cargo per train to know how many gallons per ton are used every 1000 miles\n",
    "#source: https://www.csx.com/index.cfm/about-us/the-csx-advantage/fuel-efficiency/\n",
    "#avg load = 3000 tons\n",
    "\n",
    "train['avg_tons'] = 3000\n",
    "train['avg_tons'] = train['avg_tons'].astype(float)\n",
    "train['tons_per_gallon'] = train['1000mi'] / train['avg_tons']  #initial error - need to convert int to float\n",
    "#train.info()\n",
    "train"
   ]
  },
  {
   "cell_type": "code",
   "execution_count": null,
   "id": "379c5a90",
   "metadata": {},
   "outputs": [],
   "source": [
    "#price_viz2\n",
    "train['2020']= 2.56\n",
    "train['2021']= 3.28\n",
    "train['2022']= 3.19\n",
    "train"
   ]
  },
  {
   "cell_type": "code",
   "execution_count": null,
   "id": "99dc9ce7",
   "metadata": {},
   "outputs": [],
   "source": [
    "plane"
   ]
  },
  {
   "cell_type": "code",
   "execution_count": null,
   "id": "43fb15df",
   "metadata": {},
   "outputs": [],
   "source": [
    "# i need to know the average tons of cargo per plane to know how many gallons per ton are used every 1000 miles\n",
    "#source: National Air and Space Museum - https://howthingsfly.si.edu/ask-an-explainer/how-much-weight-can-average-size-airplane-hold\n",
    "#so, 45000 lbs cargo/avg / 2000lbs per ton = 22.5\n",
    "\n",
    "plane['avg_tons'] = 22.5\n",
    "plane['tons_per_gallon'] = plane['1000mi'] / plane['avg_tons']\n",
    "plane"
   ]
  },
  {
   "cell_type": "code",
   "execution_count": null,
   "id": "522420fd",
   "metadata": {},
   "outputs": [],
   "source": [
    "plane['2020']= 1.31\n",
    "plane['2021']= 1.97\n",
    "plane['2022']= 2.08\n",
    "plane"
   ]
  },
  {
   "cell_type": "code",
   "execution_count": null,
   "id": "3a43a6b9",
   "metadata": {},
   "outputs": [],
   "source": [
    "dfs = [plane, train]\n",
    "planetrainfuelcost = pd.concat(dfs)\n",
    "planetrainfuelcost"
   ]
  },
  {
   "cell_type": "code",
   "execution_count": null,
   "id": "c620f0b7",
   "metadata": {},
   "outputs": [],
   "source": [
    "planetraincost = planetrainfuelcost[['Type','1000mi','2020','2021','2022']]\n",
    "planetraincost['2020cost']= planetraincost['1000mi'] * planetraincost['2020']\n",
    "planetraincost['2021cost']= planetraincost['1000mi'] * planetraincost['2021']\n",
    "planetraincost['2022cost']= planetraincost['1000mi'] * planetraincost['2022']\n",
    "planetraincost = planetraincost[['Type','2020cost','2021cost','2022cost']]\n",
    "planetraincost = planetraincost.rename(columns={'2020cost':'2020','2021cost':'2021','2022cost':'2022'})\n",
    "planetraincost.T\n",
    "planetraincost = pd.melt(planetraincost, id_vars = ['Type'], value_vars=['2020', '2021', '2022'])\n",
    "planetraincost"
   ]
  },
  {
   "cell_type": "code",
   "execution_count": null,
   "id": "2df7e6d6",
   "metadata": {},
   "outputs": [],
   "source": [
    "tonplanetraincost = planetrainfuelcost[['Type','tons_per_gallon','2020','2021','2022']]\n",
    "tonplanetraincost['2020cost']= tonplanetraincost['tons_per_gallon'] * tonplanetraincost['2020']\n",
    "tonplanetraincost['2021cost']= tonplanetraincost['tons_per_gallon'] * tonplanetraincost['2021']\n",
    "tonplanetraincost['2022cost']= tonplanetraincost['tons_per_gallon'] * tonplanetraincost['2022']\n",
    "tonplanetraincost = tonplanetraincost[['Type','2020cost','2021cost','2022cost']]\n",
    "tonplanetraincost = tonplanetraincost.rename(columns={'2020cost':'2020','2021cost':'2021','2022cost':'2022'})\n",
    "tonplanetraincost.T\n",
    "tonplanetraincost = pd.melt(tonplanetraincost, id_vars = ['Type'], value_vars=['2020', '2021', '2022'])\n",
    "tonplanetraincost"
   ]
  },
  {
   "cell_type": "code",
   "execution_count": null,
   "id": "3c89944b",
   "metadata": {
    "scrolled": true
   },
   "outputs": [],
   "source": [
    "q = sns.barplot(data=planetraincost, x='variable', y='value', hue='Type')\n",
    "q.set(xlabel = '', ylabel = 'Cost (USD)')\n",
    "q.set_title('How much is spent on fuel to move cargo 1000 miles?')\n",
    "\n",
    "show_values(q)"
   ]
  },
  {
   "cell_type": "code",
   "execution_count": null,
   "id": "6ba8b0ef",
   "metadata": {},
   "outputs": [],
   "source": [
    "r = sns.barplot(data=tonplanetraincost, x='variable', y='value', hue='Type')\n",
    "r.set(xlabel = '', ylabel = 'Cost (USD)')\n",
    "r.set_title('How much is spent on fuel to move cargo 1000 miles (per ton of cargo)?')\n",
    "\n",
    "show_values(r)"
   ]
  },
  {
   "cell_type": "code",
   "execution_count": null,
   "id": "8f643037",
   "metadata": {},
   "outputs": [],
   "source": []
  }
 ],
 "metadata": {
  "kernelspec": {
   "display_name": "Python 3",
   "language": "python",
   "name": "python3"
  },
  "language_info": {
   "codemirror_mode": {
    "name": "ipython",
    "version": 3
   },
   "file_extension": ".py",
   "mimetype": "text/x-python",
   "name": "python",
   "nbconvert_exporter": "python",
   "pygments_lexer": "ipython3",
   "version": "3.8.8"
  }
 },
 "nbformat": 4,
 "nbformat_minor": 5
}
