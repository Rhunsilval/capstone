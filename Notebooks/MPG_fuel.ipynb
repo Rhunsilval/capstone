{
 "cells": [
  {
   "cell_type": "code",
   "execution_count": 1,
   "id": "68951d5e",
   "metadata": {},
   "outputs": [],
   "source": [
    "import pandas as pd\n",
    "import datetime \n",
    "import numpy as np\n",
    "import matplotlib.pyplot as plt\n",
    "import re\n",
    "import seaborn as sns\n",
    "\n",
    "%matplotlib inline"
   ]
  },
  {
   "cell_type": "code",
   "execution_count": 2,
   "id": "a33ee96e",
   "metadata": {},
   "outputs": [],
   "source": [
    "ship = pd.read_csv('../data/fuel_consumption_by_ship_size_prepped.csv')\n",
    "#source: The Geography of Transport Systems- https://transportgeography.org/contents/chapter4/transportation-and-energy/fuel-consumption-containerships/\n",
    "#converted to data with:  http://getdata-graph-digitizer.com/\n",
    "\n",
    "truck = pd.read_csv('../data/mpg_trucks_prepped.csv')\n",
    "#source: US Energey Information Administration - https://www.eia.gov/totalenergy/data/browser/?tbl=T01.08\n",
    "\n"
   ]
  },
  {
   "cell_type": "code",
   "execution_count": 3,
   "id": "a8fe78fd",
   "metadata": {},
   "outputs": [],
   "source": [
    "#setting the size of my visuals:\n",
    "sns.set(rc={\"figure.figsize\":(13, 8)},font_scale=1.5, style='darkgrid')"
   ]
  },
  {
   "cell_type": "code",
   "execution_count": 4,
   "id": "497d445a",
   "metadata": {
    "scrolled": true
   },
   "outputs": [
    {
     "data": {
      "text/html": [
       "<div>\n",
       "<style scoped>\n",
       "    .dataframe tbody tr th:only-of-type {\n",
       "        vertical-align: middle;\n",
       "    }\n",
       "\n",
       "    .dataframe tbody tr th {\n",
       "        vertical-align: top;\n",
       "    }\n",
       "\n",
       "    .dataframe thead th {\n",
       "        text-align: right;\n",
       "    }\n",
       "</style>\n",
       "<table border=\"1\" class=\"dataframe\">\n",
       "  <thead>\n",
       "    <tr style=\"text-align: right;\">\n",
       "      <th></th>\n",
       "      <th>Ship Size (TEU)</th>\n",
       "      <th>TEU avg</th>\n",
       "      <th>TEU to weight lbs</th>\n",
       "      <th>TEU to weight - tons</th>\n",
       "      <th>Speed- Knots</th>\n",
       "      <th>Fuel Consumption - Tons per Day</th>\n",
       "      <th>Speed-MPH</th>\n",
       "      <th>Ton miles per hour</th>\n",
       "      <th>Fuel Consumption - Gallons per day</th>\n",
       "      <th>Fuel Consumption- Gallons/hour</th>\n",
       "      <th>MPG</th>\n",
       "      <th>Gallons per mile</th>\n",
       "      <th>Ton MPG</th>\n",
       "      <th>Ton MPG cleaner</th>\n",
       "    </tr>\n",
       "  </thead>\n",
       "  <tbody>\n",
       "    <tr>\n",
       "      <th>0</th>\n",
       "      <td>10,000+</td>\n",
       "      <td>10000.0</td>\n",
       "      <td>529100000.0</td>\n",
       "      <td>264550.0</td>\n",
       "      <td>17.48</td>\n",
       "      <td>103.56</td>\n",
       "      <td>20.102576</td>\n",
       "      <td>13160.00495</td>\n",
       "      <td>77468.63057</td>\n",
       "      <td>3227.859607</td>\n",
       "      <td>0.006228</td>\n",
       "      <td>160.569452</td>\n",
       "      <td>4.077007</td>\n",
       "      <td>4.08</td>\n",
       "    </tr>\n",
       "    <tr>\n",
       "      <th>1</th>\n",
       "      <td>10,000+</td>\n",
       "      <td>10000.0</td>\n",
       "      <td>529100000.0</td>\n",
       "      <td>264550.0</td>\n",
       "      <td>17.55</td>\n",
       "      <td>105.62</td>\n",
       "      <td>20.185889</td>\n",
       "      <td>13105.68954</td>\n",
       "      <td>79011.10832</td>\n",
       "      <td>3292.129514</td>\n",
       "      <td>0.006132</td>\n",
       "      <td>163.090634</td>\n",
       "      <td>3.980916</td>\n",
       "      <td>3.98</td>\n",
       "    </tr>\n",
       "    <tr>\n",
       "      <th>2</th>\n",
       "      <td>10,000+</td>\n",
       "      <td>10000.0</td>\n",
       "      <td>529100000.0</td>\n",
       "      <td>264550.0</td>\n",
       "      <td>17.66</td>\n",
       "      <td>108.71</td>\n",
       "      <td>20.304878</td>\n",
       "      <td>13028.88871</td>\n",
       "      <td>81322.85500</td>\n",
       "      <td>3388.452292</td>\n",
       "      <td>0.005992</td>\n",
       "      <td>166.878729</td>\n",
       "      <td>3.845085</td>\n",
       "      <td>3.85</td>\n",
       "    </tr>\n",
       "    <tr>\n",
       "      <th>3</th>\n",
       "      <td>10,000+</td>\n",
       "      <td>10000.0</td>\n",
       "      <td>529100000.0</td>\n",
       "      <td>264550.0</td>\n",
       "      <td>17.74</td>\n",
       "      <td>109.77</td>\n",
       "      <td>20.400366</td>\n",
       "      <td>12967.90446</td>\n",
       "      <td>82111.82351</td>\n",
       "      <td>3421.325979</td>\n",
       "      <td>0.005963</td>\n",
       "      <td>167.709047</td>\n",
       "      <td>3.790315</td>\n",
       "      <td>3.79</td>\n",
       "    </tr>\n",
       "    <tr>\n",
       "      <th>4</th>\n",
       "      <td>10,000+</td>\n",
       "      <td>10000.0</td>\n",
       "      <td>529100000.0</td>\n",
       "      <td>264550.0</td>\n",
       "      <td>17.79</td>\n",
       "      <td>110.81</td>\n",
       "      <td>20.459967</td>\n",
       "      <td>12930.12860</td>\n",
       "      <td>82888.97226</td>\n",
       "      <td>3453.707177</td>\n",
       "      <td>0.005924</td>\n",
       "      <td>168.803168</td>\n",
       "      <td>3.743840</td>\n",
       "      <td>3.74</td>\n",
       "    </tr>\n",
       "  </tbody>\n",
       "</table>\n",
       "</div>"
      ],
      "text/plain": [
       "  Ship Size (TEU)  TEU avg  TEU to weight lbs  TEU to weight - tons  \\\n",
       "0         10,000+  10000.0        529100000.0              264550.0   \n",
       "1         10,000+  10000.0        529100000.0              264550.0   \n",
       "2         10,000+  10000.0        529100000.0              264550.0   \n",
       "3         10,000+  10000.0        529100000.0              264550.0   \n",
       "4         10,000+  10000.0        529100000.0              264550.0   \n",
       "\n",
       "   Speed- Knots  Fuel Consumption - Tons per Day  Speed-MPH  \\\n",
       "0         17.48                           103.56  20.102576   \n",
       "1         17.55                           105.62  20.185889   \n",
       "2         17.66                           108.71  20.304878   \n",
       "3         17.74                           109.77  20.400366   \n",
       "4         17.79                           110.81  20.459967   \n",
       "\n",
       "   Ton miles per hour  Fuel Consumption - Gallons per day  \\\n",
       "0         13160.00495                         77468.63057   \n",
       "1         13105.68954                         79011.10832   \n",
       "2         13028.88871                         81322.85500   \n",
       "3         12967.90446                         82111.82351   \n",
       "4         12930.12860                         82888.97226   \n",
       "\n",
       "   Fuel Consumption- Gallons/hour       MPG  Gallons per mile   Ton MPG  \\\n",
       "0                     3227.859607  0.006228        160.569452  4.077007   \n",
       "1                     3292.129514  0.006132        163.090634  3.980916   \n",
       "2                     3388.452292  0.005992        166.878729  3.845085   \n",
       "3                     3421.325979  0.005963        167.709047  3.790315   \n",
       "4                     3453.707177  0.005924        168.803168  3.743840   \n",
       "\n",
       "   Ton MPG cleaner  \n",
       "0             4.08  \n",
       "1             3.98  \n",
       "2             3.85  \n",
       "3             3.79  \n",
       "4             3.74  "
      ]
     },
     "execution_count": 4,
     "metadata": {},
     "output_type": "execute_result"
    }
   ],
   "source": [
    "ship.head()"
   ]
  },
  {
   "cell_type": "code",
   "execution_count": 5,
   "id": "1ab4ec15",
   "metadata": {},
   "outputs": [
    {
     "name": "stdout",
     "output_type": "stream",
     "text": [
      "<class 'pandas.core.frame.DataFrame'>\n",
      "RangeIndex: 429 entries, 0 to 428\n",
      "Data columns (total 14 columns):\n",
      " #   Column                              Non-Null Count  Dtype  \n",
      "---  ------                              --------------  -----  \n",
      " 0   Ship Size (TEU)                     429 non-null    object \n",
      " 1   TEU avg                             429 non-null    float64\n",
      " 2   TEU to weight lbs                   429 non-null    float64\n",
      " 3   TEU to weight - tons                429 non-null    float64\n",
      " 4   Speed- Knots                        429 non-null    float64\n",
      " 5   Fuel Consumption - Tons per Day     429 non-null    float64\n",
      " 6   Speed-MPH                           429 non-null    float64\n",
      " 7   Ton miles per hour                  429 non-null    float64\n",
      " 8   Fuel Consumption - Gallons per day  429 non-null    float64\n",
      " 9   Fuel Consumption- Gallons/hour      429 non-null    float64\n",
      " 10  MPG                                 429 non-null    float64\n",
      " 11  Gallons per mile                    429 non-null    float64\n",
      " 12  Ton MPG                             429 non-null    float64\n",
      " 13  Ton MPG cleaner                     429 non-null    float64\n",
      "dtypes: float64(13), object(1)\n",
      "memory usage: 47.0+ KB\n"
     ]
    }
   ],
   "source": [
    "ship.info()"
   ]
  },
  {
   "cell_type": "code",
   "execution_count": 6,
   "id": "1d1805a8",
   "metadata": {},
   "outputs": [],
   "source": [
    "ship_graph = ship[['Ship Size (TEU)', 'Speed-MPH', 'Ton MPG cleaner']]"
   ]
  },
  {
   "cell_type": "code",
   "execution_count": 7,
   "id": "519eb81f",
   "metadata": {
    "scrolled": false
   },
   "outputs": [
    {
     "data": {
      "text/plain": [
       "Text(0.5, 1.0, 'Ton-MPG by Ship Size and Speed')"
      ]
     },
     "execution_count": 7,
     "metadata": {},
     "output_type": "execute_result"
    },
    {
     "data": {
      "image/png": "[encoded data removed]",
      "text/plain": [
       "<Figure size 936x576 with 1 Axes>"
      ]
     },
     "metadata": {},
     "output_type": "display_data"
    }
   ],
   "source": [
    "a = sns.lineplot(data = ship_graph, x = 'Speed-MPH', y = 'Ton MPG cleaner', hue = 'Ship Size (TEU)')\n",
    "a.set(xlabel = 'MPH (Converted from knots)', ylabel = 'Ton MPG')\n",
    "a.set_title('Ton-MPG by Ship Size and Speed')"
   ]
  },
  {
   "cell_type": "code",
   "execution_count": 8,
   "id": "3d4d6816",
   "metadata": {},
   "outputs": [
    {
     "data": {
      "text/html": [
       "<div>\n",
       "<style scoped>\n",
       "    .dataframe tbody tr th:only-of-type {\n",
       "        vertical-align: middle;\n",
       "    }\n",
       "\n",
       "    .dataframe tbody tr th {\n",
       "        vertical-align: top;\n",
       "    }\n",
       "\n",
       "    .dataframe thead th {\n",
       "        text-align: right;\n",
       "    }\n",
       "</style>\n",
       "<table border=\"1\" class=\"dataframe\">\n",
       "  <thead>\n",
       "    <tr style=\"text-align: right;\">\n",
       "      <th></th>\n",
       "      <th>MSN</th>\n",
       "      <th>YYYYMM</th>\n",
       "      <th>Value</th>\n",
       "      <th>Column_Order</th>\n",
       "      <th>Description</th>\n",
       "      <th>Unit</th>\n",
       "      <th>Avg weight hauled - lbs</th>\n",
       "      <th>Source/Notes:</th>\n",
       "      <th>Avg weight/tons</th>\n",
       "    </tr>\n",
       "  </thead>\n",
       "  <tbody>\n",
       "    <tr>\n",
       "      <th>0</th>\n",
       "      <td>TRFRRUS</td>\n",
       "      <td>194913</td>\n",
       "      <td>9</td>\n",
       "      <td>9</td>\n",
       "      <td>Heavy-Duty Trucks Fuel Economy</td>\n",
       "      <td>Miles per Gallon</td>\n",
       "      <td>44000</td>\n",
       "      <td>https://www.freightwaves.com/news/how-much-wei...</td>\n",
       "      <td>22</td>\n",
       "    </tr>\n",
       "    <tr>\n",
       "      <th>1</th>\n",
       "      <td>TRFRRUS</td>\n",
       "      <td>195013</td>\n",
       "      <td>8.4</td>\n",
       "      <td>9</td>\n",
       "      <td>Heavy-Duty Trucks Fuel Economy</td>\n",
       "      <td>Miles per Gallon</td>\n",
       "      <td>44000</td>\n",
       "      <td>NaN</td>\n",
       "      <td>22</td>\n",
       "    </tr>\n",
       "    <tr>\n",
       "      <th>2</th>\n",
       "      <td>TRFRRUS</td>\n",
       "      <td>195113</td>\n",
       "      <td>8.5</td>\n",
       "      <td>9</td>\n",
       "      <td>Heavy-Duty Trucks Fuel Economy</td>\n",
       "      <td>Miles per Gallon</td>\n",
       "      <td>44000</td>\n",
       "      <td>NaN</td>\n",
       "      <td>22</td>\n",
       "    </tr>\n",
       "    <tr>\n",
       "      <th>3</th>\n",
       "      <td>TRFRRUS</td>\n",
       "      <td>195213</td>\n",
       "      <td>8.4</td>\n",
       "      <td>9</td>\n",
       "      <td>Heavy-Duty Trucks Fuel Economy</td>\n",
       "      <td>Miles per Gallon</td>\n",
       "      <td>44000</td>\n",
       "      <td>NaN</td>\n",
       "      <td>22</td>\n",
       "    </tr>\n",
       "    <tr>\n",
       "      <th>4</th>\n",
       "      <td>TRFRRUS</td>\n",
       "      <td>195313</td>\n",
       "      <td>8.5</td>\n",
       "      <td>9</td>\n",
       "      <td>Heavy-Duty Trucks Fuel Economy</td>\n",
       "      <td>Miles per Gallon</td>\n",
       "      <td>44000</td>\n",
       "      <td>NaN</td>\n",
       "      <td>22</td>\n",
       "    </tr>\n",
       "  </tbody>\n",
       "</table>\n",
       "</div>"
      ],
      "text/plain": [
       "       MSN  YYYYMM Value  Column_Order                     Description  \\\n",
       "0  TRFRRUS  194913     9             9  Heavy-Duty Trucks Fuel Economy   \n",
       "1  TRFRRUS  195013   8.4             9  Heavy-Duty Trucks Fuel Economy   \n",
       "2  TRFRRUS  195113   8.5             9  Heavy-Duty Trucks Fuel Economy   \n",
       "3  TRFRRUS  195213   8.4             9  Heavy-Duty Trucks Fuel Economy   \n",
       "4  TRFRRUS  195313   8.5             9  Heavy-Duty Trucks Fuel Economy   \n",
       "\n",
       "               Unit  Avg weight hauled - lbs  \\\n",
       "0  Miles per Gallon                    44000   \n",
       "1  Miles per Gallon                    44000   \n",
       "2  Miles per Gallon                    44000   \n",
       "3  Miles per Gallon                    44000   \n",
       "4  Miles per Gallon                    44000   \n",
       "\n",
       "                                       Source/Notes:  Avg weight/tons  \n",
       "0  https://www.freightwaves.com/news/how-much-wei...               22  \n",
       "1                                                NaN               22  \n",
       "2                                                NaN               22  \n",
       "3                                                NaN               22  \n",
       "4                                                NaN               22  "
      ]
     },
     "execution_count": 8,
     "metadata": {},
     "output_type": "execute_result"
    }
   ],
   "source": [
    "truck.head()"
   ]
  },
  {
   "cell_type": "code",
   "execution_count": 34,
   "id": "277d2a7d",
   "metadata": {},
   "outputs": [],
   "source": [
    "truck_visual = truck[['Description','Avg weight/tons','Value']]"
   ]
  },
  {
   "cell_type": "code",
   "execution_count": 35,
   "id": "5ae00a4b",
   "metadata": {
    "scrolled": false
   },
   "outputs": [
    {
     "name": "stdout",
     "output_type": "stream",
     "text": [
      "<class 'pandas.core.frame.DataFrame'>\n",
      "RangeIndex: 213 entries, 0 to 212\n",
      "Data columns (total 3 columns):\n",
      " #   Column           Non-Null Count  Dtype \n",
      "---  ------           --------------  ----- \n",
      " 0   Description      213 non-null    object\n",
      " 1   Avg weight/tons  213 non-null    int64 \n",
      " 2   Value            213 non-null    object\n",
      "dtypes: int64(1), object(2)\n",
      "memory usage: 5.1+ KB\n"
     ]
    }
   ],
   "source": [
    "truck_visual.info()"
   ]
  },
  {
   "cell_type": "code",
   "execution_count": 36,
   "id": "29f268a3",
   "metadata": {
    "scrolled": false
   },
   "outputs": [
    {
     "data": {
      "text/plain": [
       "Description        Light-Duty Vehicles, Long Wheelbase Fuel Economy\n",
       "Avg weight/tons                                                  10\n",
       "Value                                                 Not Available\n",
       "Name: 71, dtype: object"
      ]
     },
     "execution_count": 36,
     "metadata": {},
     "output_type": "execute_result"
    }
   ],
   "source": [
    "truck_visual.iloc[71]"
   ]
  },
  {
   "cell_type": "code",
   "execution_count": 37,
   "id": "11bc570f",
   "metadata": {},
   "outputs": [],
   "source": [
    "truck_visual = truck_visual[truck_visual['Value'] != 'Not Available']"
   ]
  },
  {
   "cell_type": "code",
   "execution_count": 38,
   "id": "4ebedac8",
   "metadata": {},
   "outputs": [],
   "source": [
    "truck_visual['Value'] = pd.to_numeric(truck_visual['Value'])"
   ]
  },
  {
   "cell_type": "code",
   "execution_count": 39,
   "id": "339dc363",
   "metadata": {},
   "outputs": [
    {
     "data": {
      "text/html": [
       "<div>\n",
       "<style scoped>\n",
       "    .dataframe tbody tr th:only-of-type {\n",
       "        vertical-align: middle;\n",
       "    }\n",
       "\n",
       "    .dataframe tbody tr th {\n",
       "        vertical-align: top;\n",
       "    }\n",
       "\n",
       "    .dataframe thead th {\n",
       "        text-align: right;\n",
       "    }\n",
       "</style>\n",
       "<table border=\"1\" class=\"dataframe\">\n",
       "  <thead>\n",
       "    <tr style=\"text-align: right;\">\n",
       "      <th></th>\n",
       "      <th>Value</th>\n",
       "    </tr>\n",
       "    <tr>\n",
       "      <th>Avg weight/tons</th>\n",
       "      <th></th>\n",
       "    </tr>\n",
       "  </thead>\n",
       "  <tbody>\n",
       "    <tr>\n",
       "      <th>5</th>\n",
       "      <td>18.152113</td>\n",
       "    </tr>\n",
       "    <tr>\n",
       "      <th>10</th>\n",
       "      <td>14.905556</td>\n",
       "    </tr>\n",
       "    <tr>\n",
       "      <th>22</th>\n",
       "      <td>6.491549</td>\n",
       "    </tr>\n",
       "  </tbody>\n",
       "</table>\n",
       "</div>"
      ],
      "text/plain": [
       "                     Value\n",
       "Avg weight/tons           \n",
       "5                18.152113\n",
       "10               14.905556\n",
       "22                6.491549"
      ]
     },
     "execution_count": 39,
     "metadata": {},
     "output_type": "execute_result"
    }
   ],
   "source": [
    "truck_visual.groupby('Avg weight/tons').mean()"
   ]
  },
  {
   "cell_type": "code",
   "execution_count": 29,
   "id": "6eb4d75f",
   "metadata": {
    "scrolled": false
   },
   "outputs": [
    {
     "data": {
      "text/html": [
       "<div>\n",
       "<style scoped>\n",
       "    .dataframe tbody tr th:only-of-type {\n",
       "        vertical-align: middle;\n",
       "    }\n",
       "\n",
       "    .dataframe tbody tr th {\n",
       "        vertical-align: top;\n",
       "    }\n",
       "\n",
       "    .dataframe thead th {\n",
       "        text-align: right;\n",
       "    }\n",
       "</style>\n",
       "<table border=\"1\" class=\"dataframe\">\n",
       "  <thead>\n",
       "    <tr style=\"text-align: right;\">\n",
       "      <th></th>\n",
       "      <th>Value</th>\n",
       "    </tr>\n",
       "    <tr>\n",
       "      <th>Avg weight/tons</th>\n",
       "      <th></th>\n",
       "    </tr>\n",
       "  </thead>\n",
       "  <tbody>\n",
       "    <tr>\n",
       "      <th>5</th>\n",
       "      <td>18.152113</td>\n",
       "    </tr>\n",
       "    <tr>\n",
       "      <th>10</th>\n",
       "      <td>14.905556</td>\n",
       "    </tr>\n",
       "    <tr>\n",
       "      <th>22</th>\n",
       "      <td>6.491549</td>\n",
       "    </tr>\n",
       "  </tbody>\n",
       "</table>\n",
       "</div>"
      ],
      "text/plain": [
       "                     Value\n",
       "Avg weight/tons           \n",
       "5                18.152113\n",
       "10               14.905556\n",
       "22                6.491549"
      ]
     },
     "execution_count": 29,
     "metadata": {},
     "output_type": "execute_result"
    }
   ],
   "source": [
    "truck_visual2 = truck_visual.groupby('Avg weight/tons').mean()\n",
    "truck_visual2.head()"
   ]
  },
  {
   "cell_type": "code",
   "execution_count": 30,
   "id": "23fd78ab",
   "metadata": {},
   "outputs": [],
   "source": [
    "truck_visual2.reset_index(drop=False, inplace=True)"
   ]
  },
  {
   "cell_type": "code",
   "execution_count": 31,
   "id": "4334bd07",
   "metadata": {},
   "outputs": [
    {
     "data": {
      "text/html": [
       "<div>\n",
       "<style scoped>\n",
       "    .dataframe tbody tr th:only-of-type {\n",
       "        vertical-align: middle;\n",
       "    }\n",
       "\n",
       "    .dataframe tbody tr th {\n",
       "        vertical-align: top;\n",
       "    }\n",
       "\n",
       "    .dataframe thead th {\n",
       "        text-align: right;\n",
       "    }\n",
       "</style>\n",
       "<table border=\"1\" class=\"dataframe\">\n",
       "  <thead>\n",
       "    <tr style=\"text-align: right;\">\n",
       "      <th></th>\n",
       "      <th>Avg weight/tons</th>\n",
       "      <th>Value</th>\n",
       "    </tr>\n",
       "  </thead>\n",
       "  <tbody>\n",
       "    <tr>\n",
       "      <th>0</th>\n",
       "      <td>5</td>\n",
       "      <td>18.152113</td>\n",
       "    </tr>\n",
       "    <tr>\n",
       "      <th>1</th>\n",
       "      <td>10</td>\n",
       "      <td>14.905556</td>\n",
       "    </tr>\n",
       "    <tr>\n",
       "      <th>2</th>\n",
       "      <td>22</td>\n",
       "      <td>6.491549</td>\n",
       "    </tr>\n",
       "  </tbody>\n",
       "</table>\n",
       "</div>"
      ],
      "text/plain": [
       "   Avg weight/tons      Value\n",
       "0                5  18.152113\n",
       "1               10  14.905556\n",
       "2               22   6.491549"
      ]
     },
     "execution_count": 31,
     "metadata": {},
     "output_type": "execute_result"
    }
   ],
   "source": [
    "truck_visual2.head()"
   ]
  },
  {
   "cell_type": "code",
   "execution_count": 55,
   "id": "00d52b69",
   "metadata": {},
   "outputs": [],
   "source": [
    "truck_visual2['Ton_MPG'] = truck_visual2['Value']*truck_visual2['Avg weight/tons']"
   ]
  },
  {
   "cell_type": "code",
   "execution_count": 56,
   "id": "531ee863",
   "metadata": {},
   "outputs": [
    {
     "data": {
      "text/html": [
       "<div>\n",
       "<style scoped>\n",
       "    .dataframe tbody tr th:only-of-type {\n",
       "        vertical-align: middle;\n",
       "    }\n",
       "\n",
       "    .dataframe tbody tr th {\n",
       "        vertical-align: top;\n",
       "    }\n",
       "\n",
       "    .dataframe thead th {\n",
       "        text-align: right;\n",
       "    }\n",
       "</style>\n",
       "<table border=\"1\" class=\"dataframe\">\n",
       "  <thead>\n",
       "    <tr style=\"text-align: right;\">\n",
       "      <th></th>\n",
       "      <th>Avg weight/tons</th>\n",
       "      <th>Value</th>\n",
       "      <th>Ton_MPG</th>\n",
       "      <th>truck_types</th>\n",
       "    </tr>\n",
       "  </thead>\n",
       "  <tbody>\n",
       "    <tr>\n",
       "      <th>0</th>\n",
       "      <td>5</td>\n",
       "      <td>18.152113</td>\n",
       "      <td>90.760563</td>\n",
       "      <td>Light Duty - Short Wheelbase</td>\n",
       "    </tr>\n",
       "    <tr>\n",
       "      <th>1</th>\n",
       "      <td>10</td>\n",
       "      <td>14.905556</td>\n",
       "      <td>149.055556</td>\n",
       "      <td>Light Duty - Long Wheelbase</td>\n",
       "    </tr>\n",
       "    <tr>\n",
       "      <th>2</th>\n",
       "      <td>22</td>\n",
       "      <td>6.491549</td>\n",
       "      <td>142.814085</td>\n",
       "      <td>Heavy Duty</td>\n",
       "    </tr>\n",
       "  </tbody>\n",
       "</table>\n",
       "</div>"
      ],
      "text/plain": [
       "   Avg weight/tons      Value     Ton_MPG                   truck_types\n",
       "0                5  18.152113   90.760563  Light Duty - Short Wheelbase\n",
       "1               10  14.905556  149.055556   Light Duty - Long Wheelbase\n",
       "2               22   6.491549  142.814085                    Heavy Duty"
      ]
     },
     "execution_count": 56,
     "metadata": {},
     "output_type": "execute_result"
    }
   ],
   "source": [
    "truck_visual2.head()"
   ]
  },
  {
   "cell_type": "code",
   "execution_count": 57,
   "id": "1c03f7fa",
   "metadata": {},
   "outputs": [],
   "source": [
    "truck_types = ['Light Duty - Short Wheelbase', 'Light Duty - Long Wheelbase', 'Heavy Duty']\n",
    "truck_visual2['truck_types'] = truck_types"
   ]
  },
  {
   "cell_type": "code",
   "execution_count": 58,
   "id": "76f15ff2",
   "metadata": {
    "scrolled": true
   },
   "outputs": [
    {
     "data": {
      "text/html": [
       "<div>\n",
       "<style scoped>\n",
       "    .dataframe tbody tr th:only-of-type {\n",
       "        vertical-align: middle;\n",
       "    }\n",
       "\n",
       "    .dataframe tbody tr th {\n",
       "        vertical-align: top;\n",
       "    }\n",
       "\n",
       "    .dataframe thead th {\n",
       "        text-align: right;\n",
       "    }\n",
       "</style>\n",
       "<table border=\"1\" class=\"dataframe\">\n",
       "  <thead>\n",
       "    <tr style=\"text-align: right;\">\n",
       "      <th></th>\n",
       "      <th>Avg weight/tons</th>\n",
       "      <th>Value</th>\n",
       "      <th>Ton_MPG</th>\n",
       "      <th>truck_types</th>\n",
       "    </tr>\n",
       "  </thead>\n",
       "  <tbody>\n",
       "    <tr>\n",
       "      <th>0</th>\n",
       "      <td>5</td>\n",
       "      <td>18.152113</td>\n",
       "      <td>90.760563</td>\n",
       "      <td>Light Duty - Short Wheelbase</td>\n",
       "    </tr>\n",
       "    <tr>\n",
       "      <th>1</th>\n",
       "      <td>10</td>\n",
       "      <td>14.905556</td>\n",
       "      <td>149.055556</td>\n",
       "      <td>Light Duty - Long Wheelbase</td>\n",
       "    </tr>\n",
       "    <tr>\n",
       "      <th>2</th>\n",
       "      <td>22</td>\n",
       "      <td>6.491549</td>\n",
       "      <td>142.814085</td>\n",
       "      <td>Heavy Duty</td>\n",
       "    </tr>\n",
       "  </tbody>\n",
       "</table>\n",
       "</div>"
      ],
      "text/plain": [
       "   Avg weight/tons      Value     Ton_MPG                   truck_types\n",
       "0                5  18.152113   90.760563  Light Duty - Short Wheelbase\n",
       "1               10  14.905556  149.055556   Light Duty - Long Wheelbase\n",
       "2               22   6.491549  142.814085                    Heavy Duty"
      ]
     },
     "execution_count": 58,
     "metadata": {},
     "output_type": "execute_result"
    }
   ],
   "source": [
    "truck_visual2.head()"
   ]
  },
  {
   "cell_type": "code",
   "execution_count": 60,
   "id": "65a207d8",
   "metadata": {},
   "outputs": [],
   "source": [
    "#to show the values of the data on my graph:\n",
    "\n",
    "def show_values(axs, orient=\"v\", space=.01):\n",
    "    def _single(ax):\n",
    "        if orient == \"v\":\n",
    "            for p in ax.patches:\n",
    "                _x = p.get_x() + p.get_width() / 2\n",
    "                _y = p.get_y() + p.get_height() + (p.get_height()*0.01)\n",
    "                value = '{:.1f}'.format(p.get_height())\n",
    "                ax.text(_x, _y, value, ha=\"center\") \n",
    "        elif orient == \"h\":\n",
    "            for p in ax.patches:\n",
    "                _x = p.get_x() + p.get_width() + float(space)\n",
    "                _y = p.get_y() + p.get_height() - (p.get_height()*0.5)\n",
    "                value = '{:.1f}'.format(p.get_width())\n",
    "                ax.text(_x, _y, value, ha=\"left\")\n",
    "\n",
    "    if isinstance(axs, np.ndarray):\n",
    "        for idx, ax in np.ndenumerate(axs):\n",
    "            _single(ax)\n",
    "    else:\n",
    "        _single(axs)"
   ]
  },
  {
   "cell_type": "code",
   "execution_count": 61,
   "id": "45390929",
   "metadata": {
    "scrolled": false
   },
   "outputs": [
    {
     "data": {
      "image/png": "[encoded data removed]",
      "text/plain": [
       "<Figure size 936x576 with 1 Axes>"
      ]
     },
     "metadata": {},
     "output_type": "display_data"
    }
   ],
   "source": [
    "b = sns.barplot(data=truck_visual2, x='truck_types', y='Ton_MPG')\n",
    "b.set(xlabel = 'Type of Truck', ylabel = 'Avg Ton MPG')\n",
    "b.set_title('Average Ton-MPG by Truck Size')\n",
    "\n",
    "show_values(b)"
   ]
  },
  {
   "cell_type": "code",
   "execution_count": 44,
   "id": "a3111d67",
   "metadata": {},
   "outputs": [],
   "source": [
    "#note - i did not find datasets for planes or trains, but i did find quotes of ton miles from reliable sources:\n",
    "#Plane: https://www.conservationfund.org/images/programs/files/CSX_Final-Curriculum.pdf\n",
    "#train: https://www.factcheck.org/2008/07/fuel-efficient-freight-trains/\n",
    "\n",
    "Plane_Train_TonMPG_viz = pd.DataFrame({\n",
    "    \"Type\":['Plane','Train'],\n",
    "    \"Avg. Ton MPG\": [4.5, 436]\n",
    "})"
   ]
  },
  {
   "cell_type": "code",
   "execution_count": 52,
   "id": "6ec4eee3",
   "metadata": {},
   "outputs": [
    {
     "data": {
      "image/png": "[encoded data removed]",
      "text/plain": [
       "<Figure size 936x576 with 1 Axes>"
      ]
     },
     "metadata": {},
     "output_type": "display_data"
    }
   ],
   "source": [
    "c = sns.barplot(data=Plane_Train_TonMPG_viz, x='Type', y='Avg. Ton MPG')\n",
    "c.set(xlabel = 'Type of Transport', ylabel = 'Avg Ton MPG')\n",
    "c.set_title('Average Ton-MPG by Plane and Train')\n",
    "\n",
    "show_values(c)"
   ]
  },
  {
   "cell_type": "code",
   "execution_count": null,
   "id": "4614c0cf",
   "metadata": {},
   "outputs": [],
   "source": []
  }
 ],
 "metadata": {
  "kernelspec": {
   "display_name": "Python 3",
   "language": "python",
   "name": "python3"
  },
  "language_info": {
   "codemirror_mode": {
    "name": "ipython",
    "version": 3
   },
   "file_extension": ".py",
   "mimetype": "text/x-python",
   "name": "python",
   "nbconvert_exporter": "python",
   "pygments_lexer": "ipython3",
   "version": "3.8.8"
  }
 },
 "nbformat": 4,
 "nbformat_minor": 5
}
