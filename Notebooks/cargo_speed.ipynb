{
 "cells": [
  {
   "cell_type": "code",
   "execution_count": 1,
   "id": "dd9d66e6",
   "metadata": {},
   "outputs": [],
   "source": [
    "import pandas as pd\n",
    "import datetime \n",
    "import numpy as np\n",
    "import pickle\n",
    "import matplotlib.pyplot as plt\n",
    "import dtale\n",
    "import re\n",
    "import seaborn as sns\n",
    "\n",
    "%matplotlib inline"
   ]
  },
  {
   "cell_type": "code",
   "execution_count": 2,
   "id": "2875d0f3",
   "metadata": {},
   "outputs": [],
   "source": [
    "truck = pd.read_csv('../data/average_truck_speeds_on_us_highways_2009.csv', skiprows=2)\n",
    "#source: US Dept. of Transportation - https://ops.fhwa.dot.gov/freight/freight_analysis/nat_freight_stats/docs/10factsfigures/table3_8.htm\n",
    "\n",
    "rail = pd.read_csv('../data/railroad_speed_data.csv')\n",
    "#source: US Surface Transportation Board - https://www.stb.gov/reports-data/rail-service-data/"
   ]
  },
  {
   "cell_type": "code",
   "execution_count": 8,
   "id": "17468e63",
   "metadata": {},
   "outputs": [],
   "source": [
    "#truck.head()\n",
    "#truck.info()\n",
    "truck = truck[['Interstate Route', 'Average Operating Speed','Peak Period Average  Speed ','Non-Peak Period Average Speed']]\n"
   ]
  },
  {
   "cell_type": "code",
   "execution_count": 10,
   "id": "ce0cb7de",
   "metadata": {},
   "outputs": [],
   "source": [
    "truck.head()\n",
    "truck = truck.rename(columns ={\n",
    "    'Interstate Route':'route',\n",
    "    'Average Operating Speed':'avg_speed',\n",
    "    'Peak Period Average  Speed ':'peak_avg_speed',\n",
    "    'Non-Peak Period Average Speed':'non_peak_avg_speed'\n",
    "})"
   ]
  },
  {
   "cell_type": "code",
   "execution_count": 11,
   "id": "5a51f8f3",
   "metadata": {
    "scrolled": true
   },
   "outputs": [
    {
     "data": {
      "text/html": [
       "<div>\n",
       "<style scoped>\n",
       "    .dataframe tbody tr th:only-of-type {\n",
       "        vertical-align: middle;\n",
       "    }\n",
       "\n",
       "    .dataframe tbody tr th {\n",
       "        vertical-align: top;\n",
       "    }\n",
       "\n",
       "    .dataframe thead th {\n",
       "        text-align: right;\n",
       "    }\n",
       "</style>\n",
       "<table border=\"1\" class=\"dataframe\">\n",
       "  <thead>\n",
       "    <tr style=\"text-align: right;\">\n",
       "      <th></th>\n",
       "      <th>route</th>\n",
       "      <th>avg_speed</th>\n",
       "      <th>peak_avg_speed</th>\n",
       "      <th>non_peak_avg_speed</th>\n",
       "    </tr>\n",
       "  </thead>\n",
       "  <tbody>\n",
       "    <tr>\n",
       "      <th>0</th>\n",
       "      <td>5</td>\n",
       "      <td>52.8</td>\n",
       "      <td>52.0</td>\n",
       "      <td>53.1</td>\n",
       "    </tr>\n",
       "    <tr>\n",
       "      <th>1</th>\n",
       "      <td>10</td>\n",
       "      <td>57.4</td>\n",
       "      <td>56.7</td>\n",
       "      <td>57.6</td>\n",
       "    </tr>\n",
       "    <tr>\n",
       "      <th>2</th>\n",
       "      <td>15</td>\n",
       "      <td>56.7</td>\n",
       "      <td>56.2</td>\n",
       "      <td>56.9</td>\n",
       "    </tr>\n",
       "    <tr>\n",
       "      <th>3</th>\n",
       "      <td>20</td>\n",
       "      <td>59.2</td>\n",
       "      <td>58.8</td>\n",
       "      <td>59.3</td>\n",
       "    </tr>\n",
       "    <tr>\n",
       "      <th>4</th>\n",
       "      <td>24</td>\n",
       "      <td>57.2</td>\n",
       "      <td>56.6</td>\n",
       "      <td>57.4</td>\n",
       "    </tr>\n",
       "  </tbody>\n",
       "</table>\n",
       "</div>"
      ],
      "text/plain": [
       "  route  avg_speed  peak_avg_speed  non_peak_avg_speed\n",
       "0     5       52.8            52.0                53.1\n",
       "1    10       57.4            56.7                57.6\n",
       "2    15       56.7            56.2                56.9\n",
       "3    20       59.2            58.8                59.3\n",
       "4    24       57.2            56.6                57.4"
      ]
     },
     "execution_count": 11,
     "metadata": {},
     "output_type": "execute_result"
    }
   ],
   "source": [
    "truck.head()"
   ]
  },
  {
   "cell_type": "code",
   "execution_count": 26,
   "id": "e79c1fad",
   "metadata": {},
   "outputs": [
    {
     "data": {
      "text/plain": [
       "56.284"
      ]
     },
     "execution_count": 26,
     "metadata": {},
     "output_type": "execute_result"
    }
   ],
   "source": [
    "truck['avg_speed'].mean()"
   ]
  },
  {
   "cell_type": "code",
   "execution_count": 30,
   "id": "6fa56eef",
   "metadata": {},
   "outputs": [],
   "source": [
    "#truckspeed = truck['avg_speed'].mean().rename_axis('truck').reset_index(name='avg_mph_speed')\n",
    "\n",
    "truckspeed = pd.DataFrame({\n",
    "    \"type\" : [\"truck\"],\n",
    "    \"avg_mph_speed\" : [56.284]\n",
    "})"
   ]
  },
  {
   "cell_type": "code",
   "execution_count": 12,
   "id": "dfe60d3b",
   "metadata": {
    "scrolled": true
   },
   "outputs": [
    {
     "data": {
      "text/html": [
       "<div>\n",
       "<style scoped>\n",
       "    .dataframe tbody tr th:only-of-type {\n",
       "        vertical-align: middle;\n",
       "    }\n",
       "\n",
       "    .dataframe tbody tr th {\n",
       "        vertical-align: top;\n",
       "    }\n",
       "\n",
       "    .dataframe thead th {\n",
       "        text-align: right;\n",
       "    }\n",
       "</style>\n",
       "<table border=\"1\" class=\"dataframe\">\n",
       "  <thead>\n",
       "    <tr style=\"text-align: right;\">\n",
       "      <th></th>\n",
       "      <th>Railroad/\\nRegion</th>\n",
       "      <th>Category No.</th>\n",
       "      <th>Sub-Category</th>\n",
       "      <th>Measure</th>\n",
       "      <th>Variable</th>\n",
       "      <th>Sub-Variable</th>\n",
       "      <th>3/29/2017</th>\n",
       "      <th>4/5/2017</th>\n",
       "      <th>4/12/2017</th>\n",
       "      <th>4/19/2017</th>\n",
       "      <th>...</th>\n",
       "      <th>9/29/2021</th>\n",
       "      <th>10/6/2021</th>\n",
       "      <th>10/13/2021</th>\n",
       "      <th>10/20/2021</th>\n",
       "      <th>10/27/2021</th>\n",
       "      <th>11/3/2021</th>\n",
       "      <th>11/10/2021</th>\n",
       "      <th>11/17/2021</th>\n",
       "      <th>11/24/2021</th>\n",
       "      <th>12/1/2021</th>\n",
       "    </tr>\n",
       "  </thead>\n",
       "  <tbody>\n",
       "    <tr>\n",
       "      <th>0</th>\n",
       "      <td>BNSF</td>\n",
       "      <td>1.0</td>\n",
       "      <td>NaN</td>\n",
       "      <td>Average Train Speed  (MPH)</td>\n",
       "      <td>Intermodal</td>\n",
       "      <td>NaN</td>\n",
       "      <td>32.7</td>\n",
       "      <td>31.6</td>\n",
       "      <td>32.3</td>\n",
       "      <td>32.5</td>\n",
       "      <td>...</td>\n",
       "      <td>33.0</td>\n",
       "      <td>33.2</td>\n",
       "      <td>33.5</td>\n",
       "      <td>33.2</td>\n",
       "      <td>33.0</td>\n",
       "      <td>32.4</td>\n",
       "      <td>31.8</td>\n",
       "      <td>32.3</td>\n",
       "      <td>32.0</td>\n",
       "      <td>33.8</td>\n",
       "    </tr>\n",
       "    <tr>\n",
       "      <th>1</th>\n",
       "      <td>BNSF</td>\n",
       "      <td>1.0</td>\n",
       "      <td>NaN</td>\n",
       "      <td>Average Train Speed  (MPH)</td>\n",
       "      <td>Grain unit</td>\n",
       "      <td>NaN</td>\n",
       "      <td>20.5</td>\n",
       "      <td>21.8</td>\n",
       "      <td>22.0</td>\n",
       "      <td>22.3</td>\n",
       "      <td>...</td>\n",
       "      <td>25.2</td>\n",
       "      <td>23.5</td>\n",
       "      <td>23.7</td>\n",
       "      <td>23.4</td>\n",
       "      <td>22.9</td>\n",
       "      <td>23.1</td>\n",
       "      <td>23.3</td>\n",
       "      <td>23.8</td>\n",
       "      <td>23.0</td>\n",
       "      <td>24.2</td>\n",
       "    </tr>\n",
       "    <tr>\n",
       "      <th>2</th>\n",
       "      <td>BNSF</td>\n",
       "      <td>1.0</td>\n",
       "      <td>NaN</td>\n",
       "      <td>Average Train Speed  (MPH)</td>\n",
       "      <td>Coal unit</td>\n",
       "      <td>NaN</td>\n",
       "      <td>24.1</td>\n",
       "      <td>24.1</td>\n",
       "      <td>23.6</td>\n",
       "      <td>23.4</td>\n",
       "      <td>...</td>\n",
       "      <td>22.9</td>\n",
       "      <td>21.7</td>\n",
       "      <td>22.4</td>\n",
       "      <td>22.3</td>\n",
       "      <td>22.1</td>\n",
       "      <td>21.9</td>\n",
       "      <td>22.6</td>\n",
       "      <td>22.3</td>\n",
       "      <td>22.6</td>\n",
       "      <td>24.1</td>\n",
       "    </tr>\n",
       "    <tr>\n",
       "      <th>3</th>\n",
       "      <td>BNSF</td>\n",
       "      <td>1.0</td>\n",
       "      <td>NaN</td>\n",
       "      <td>Average Train Speed  (MPH)</td>\n",
       "      <td>Automotive unit</td>\n",
       "      <td>NaN</td>\n",
       "      <td>24.9</td>\n",
       "      <td>24.7</td>\n",
       "      <td>24.8</td>\n",
       "      <td>26.5</td>\n",
       "      <td>...</td>\n",
       "      <td>25.1</td>\n",
       "      <td>26.7</td>\n",
       "      <td>26.6</td>\n",
       "      <td>27.2</td>\n",
       "      <td>26.3</td>\n",
       "      <td>25.9</td>\n",
       "      <td>25.1</td>\n",
       "      <td>26.0</td>\n",
       "      <td>24.8</td>\n",
       "      <td>26.3</td>\n",
       "    </tr>\n",
       "    <tr>\n",
       "      <th>4</th>\n",
       "      <td>BNSF</td>\n",
       "      <td>1.0</td>\n",
       "      <td>NaN</td>\n",
       "      <td>Average Train Speed  (MPH)</td>\n",
       "      <td>Crude oil unit</td>\n",
       "      <td>NaN</td>\n",
       "      <td>22.2</td>\n",
       "      <td>22.4</td>\n",
       "      <td>23.5</td>\n",
       "      <td>22.6</td>\n",
       "      <td>...</td>\n",
       "      <td>23.6</td>\n",
       "      <td>23.7</td>\n",
       "      <td>22.5</td>\n",
       "      <td>23.1</td>\n",
       "      <td>22.8</td>\n",
       "      <td>22.1</td>\n",
       "      <td>21.8</td>\n",
       "      <td>22.7</td>\n",
       "      <td>21.6</td>\n",
       "      <td>22.2</td>\n",
       "    </tr>\n",
       "  </tbody>\n",
       "</table>\n",
       "<p>5 rows × 251 columns</p>\n",
       "</div>"
      ],
      "text/plain": [
       "  Railroad/\\nRegion  Category No. Sub-Category                     Measure  \\\n",
       "0              BNSF           1.0          NaN  Average Train Speed  (MPH)   \n",
       "1              BNSF           1.0          NaN  Average Train Speed  (MPH)   \n",
       "2              BNSF           1.0          NaN  Average Train Speed  (MPH)   \n",
       "3              BNSF           1.0          NaN  Average Train Speed  (MPH)   \n",
       "4              BNSF           1.0          NaN  Average Train Speed  (MPH)   \n",
       "\n",
       "          Variable Sub-Variable 3/29/2017 4/5/2017 4/12/2017 4/19/2017  ...  \\\n",
       "0       Intermodal          NaN      32.7     31.6      32.3      32.5  ...   \n",
       "1       Grain unit          NaN      20.5     21.8      22.0      22.3  ...   \n",
       "2        Coal unit          NaN      24.1     24.1      23.6      23.4  ...   \n",
       "3  Automotive unit          NaN      24.9     24.7      24.8      26.5  ...   \n",
       "4   Crude oil unit          NaN      22.2     22.4      23.5      22.6  ...   \n",
       "\n",
       "  9/29/2021 10/6/2021 10/13/2021 10/20/2021 10/27/2021 11/3/2021 11/10/2021  \\\n",
       "0      33.0      33.2       33.5       33.2       33.0      32.4       31.8   \n",
       "1      25.2      23.5       23.7       23.4       22.9      23.1       23.3   \n",
       "2      22.9      21.7       22.4       22.3       22.1      21.9       22.6   \n",
       "3      25.1      26.7       26.6       27.2       26.3      25.9       25.1   \n",
       "4      23.6      23.7       22.5       23.1       22.8      22.1       21.8   \n",
       "\n",
       "  11/17/2021 11/24/2021 12/1/2021  \n",
       "0       32.3       32.0      33.8  \n",
       "1       23.8       23.0      24.2  \n",
       "2       22.3       22.6      24.1  \n",
       "3       26.0       24.8      26.3  \n",
       "4       22.7       21.6      22.2  \n",
       "\n",
       "[5 rows x 251 columns]"
      ]
     },
     "execution_count": 12,
     "metadata": {},
     "output_type": "execute_result"
    }
   ],
   "source": [
    "rail.head()"
   ]
  },
  {
   "cell_type": "code",
   "execution_count": 13,
   "id": "d50e1be3",
   "metadata": {},
   "outputs": [
    {
     "data": {
      "text/plain": [
       "Grain Car Order Fulfillment Metrics (Count)                                                                  1192\n",
       "Weekly total grain cars loaded and billed, reported by State and Type of Car Ordering System                  885\n",
       "Weekly Carloads By 22 Commodity Categories                                                                    462\n",
       "Weekly Average Number of Trains Holding Per Day by Train Type and Cause                                       220\n",
       "Weekly Average Number of Loaded and Empty Cars in Revenue Service That Have Not Moved 48 Hours Or Greater     126\n",
       "Average Terminal Dwell Time (Excluding Cars on Run Through Trains) (Hours)                                     78\n",
       "Coal Unit Train Loadings or Carloadings by Coal Production Region (Count)                                      76\n",
       "Cars On Line (Count)                                                                                           63\n",
       "Average Train Speed  (MPH)                                                                                     56\n",
       "Average Grain Shuttle Turns per Month By Region                                                                46\n",
       "Average Dwell Time at Origin for Unit Train Shipments (Hours)                                                  41\n",
       "Weekly Carloads of Fertilizer                                                                                  14\n",
       "Average Daily Car Counts By Terminal Yard For The Reporting Week                                               11\n",
       "7 Day Average Yard Inventories (# of Cars)                                                                     11\n",
       "7-Day Average Yard Dwell (Hrs)                                                                                 11\n",
       "Average Daily Number Of Trains Held For Delivery To Chicago by Receiving Carrier                                8\n",
       "7-Day Average Terminal Forecast Indicator (Cars)                                                                4\n",
       "7-Day Average Terminal Historical Indicator (Cars)                                                              4\n",
       "7-Day Average Interchange Events                                                                                1\n",
       "7-Day Average Freight Transit (Hours)                                                                           1\n",
       "Name: Measure, dtype: int64"
      ]
     },
     "execution_count": 13,
     "metadata": {},
     "output_type": "execute_result"
    }
   ],
   "source": [
    "rail['Measure'].value_counts()"
   ]
  },
  {
   "cell_type": "code",
   "execution_count": 15,
   "id": "1468fbcc",
   "metadata": {},
   "outputs": [],
   "source": [
    "railspeed = rail.loc[rail.Measure =='Average Train Speed  (MPH)']"
   ]
  },
  {
   "cell_type": "code",
   "execution_count": 17,
   "id": "efa33396",
   "metadata": {},
   "outputs": [
    {
     "name": "stdout",
     "output_type": "stream",
     "text": [
      "<class 'pandas.core.frame.DataFrame'>\n",
      "Int64Index: 56 entries, 0 to 2736\n",
      "Columns: 251 entries, Railroad/\n",
      "Region to 12/1/2021\n",
      "dtypes: float64(1), object(250)\n",
      "memory usage: 110.2+ KB\n"
     ]
    }
   ],
   "source": [
    "railspeed.head()\n",
    "railspeed.info()"
   ]
  },
  {
   "cell_type": "code",
   "execution_count": 22,
   "id": "19b9eaa1",
   "metadata": {},
   "outputs": [],
   "source": [
    "#I want the avg mph.  for knots, the conversion is 1.15\n",
    "\n",
    "boat_plane_speed = pd.DataFrame({\n",
    "    \"type\" : [\"ship_slow\", \"ship_avg\", \"cargo_plane\"],\n",
    "    \"avg_mph_speed\" : [\"22\",\"26\",\"560\"]\n",
    "})\n",
    "\n",
    "#source: boats: https://transportgeography.org/contents/chapter4/transportation-and-energy/fuel-consumption-containerships/\n",
    "#https://www.marineinsight.com/guidelines/speed-of-a-ship-at-sea/\n",
    "#source: plane: https://www.flightdeckfriend.com/ask-a-pilot/how-fast-do-commercial-aeroplanes-fly"
   ]
  },
  {
   "cell_type": "code",
   "execution_count": 23,
   "id": "0ba4133a",
   "metadata": {},
   "outputs": [
    {
     "data": {
      "text/html": [
       "<div>\n",
       "<style scoped>\n",
       "    .dataframe tbody tr th:only-of-type {\n",
       "        vertical-align: middle;\n",
       "    }\n",
       "\n",
       "    .dataframe tbody tr th {\n",
       "        vertical-align: top;\n",
       "    }\n",
       "\n",
       "    .dataframe thead th {\n",
       "        text-align: right;\n",
       "    }\n",
       "</style>\n",
       "<table border=\"1\" class=\"dataframe\">\n",
       "  <thead>\n",
       "    <tr style=\"text-align: right;\">\n",
       "      <th></th>\n",
       "      <th>type</th>\n",
       "      <th>avg_mph_speed</th>\n",
       "    </tr>\n",
       "  </thead>\n",
       "  <tbody>\n",
       "    <tr>\n",
       "      <th>0</th>\n",
       "      <td>ship_slow</td>\n",
       "      <td>22</td>\n",
       "    </tr>\n",
       "    <tr>\n",
       "      <th>1</th>\n",
       "      <td>ship_avg</td>\n",
       "      <td>26</td>\n",
       "    </tr>\n",
       "    <tr>\n",
       "      <th>2</th>\n",
       "      <td>cargo_plane</td>\n",
       "      <td>560</td>\n",
       "    </tr>\n",
       "  </tbody>\n",
       "</table>\n",
       "</div>"
      ],
      "text/plain": [
       "          type avg_mph_speed\n",
       "0    ship_slow            22\n",
       "1     ship_avg            26\n",
       "2  cargo_plane           560"
      ]
     },
     "execution_count": 23,
     "metadata": {},
     "output_type": "execute_result"
    }
   ],
   "source": [
    "boat_plane_speed.head()"
   ]
  },
  {
   "cell_type": "code",
   "execution_count": null,
   "id": "45382fa7",
   "metadata": {},
   "outputs": [],
   "source": []
  }
 ],
 "metadata": {
  "kernelspec": {
   "display_name": "Python 3",
   "language": "python",
   "name": "python3"
  },
  "language_info": {
   "codemirror_mode": {
    "name": "ipython",
    "version": 3
   },
   "file_extension": ".py",
   "mimetype": "text/x-python",
   "name": "python",
   "nbconvert_exporter": "python",
   "pygments_lexer": "ipython3",
   "version": "3.8.8"
  }
 },
 "nbformat": 4,
 "nbformat_minor": 5
}
